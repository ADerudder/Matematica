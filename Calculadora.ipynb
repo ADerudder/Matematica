{
  "cells": [
    {
      "cell_type": "markdown",
      "metadata": {
        "id": "view-in-github",
        "colab_type": "text"
      },
      "source": [
        "<a href=\"https://colab.research.google.com/github/ADerudder/Matematica/blob/main/Calculadora.ipynb\" target=\"_parent\"><img src=\"https://colab.research.google.com/assets/colab-badge.svg\" alt=\"Open In Colab\"/></a>"
      ]
    },
    {
      "cell_type": "markdown",
      "metadata": {
        "id": "fqqACaNdOHYB"
      },
      "source": [
        "# Calculadora \n",
        "\n",
        "Le ingresamos al programa 2 funciones: F1 y F2, calculamos todas sus derivadas e integrales y las asignamos como variables para que sea facil trabajar con ellas.\n",
        "\n",
        "Ej. de uso: Tengo una funcion F y quiero ver si  existe una funcion f tal que $ \\nabla f = F $ \n",
        "\n",
        "Tambien hay una matriz y un vector al que le calculamos sus derivadas, norma ,etc."
      ]
    },
    {
      "cell_type": "code",
      "execution_count": null,
      "metadata": {
        "id": "BBYLuiDfOHYD",
        "outputId": "6225e8e0-a652-4bb2-d4a1-cd097ab47319"
      },
      "outputs": [
        {
          "name": "stdout",
          "output_type": "stream",
          "text": [
            "IPython console for SymPy 1.6.1 (Python 3.8.3-64-bit) (ground types: gmpy)\n",
            "\n",
            "These commands were executed:\n",
            ">>> from __future__ import division\n",
            ">>> from sympy import *\n",
            ">>> x, y, z, t = symbols('x y z t')\n",
            ">>> k, m, n = symbols('k m n', integer=True)\n",
            ">>> f, g, h = symbols('f g h', cls=Function)\n",
            ">>> init_printing()\n",
            "\n",
            "Documentation can be found at https://docs.sympy.org/1.6.1/\n",
            "\n"
          ]
        }
      ],
      "source": [
        "#Importamos Sympy\n",
        "\n",
        "from sympy import init_session\n",
        "init_session( use_latex = True)"
      ]
    },
    {
      "cell_type": "code",
      "execution_count": null,
      "metadata": {
        "id": "fIaBDofiOHYE"
      },
      "outputs": [],
      "source": [
        "px,py,l,h,t_c,m,a,b,c,x, y, z, t,r,eta,l1,l2,g ,m,k,F0,w,theta,z2,g,= symbols('Px,Py,lambda,h,t_c,m,a,b,c,x y z t,r,eta, lambda1 lambda2 gamma,m,k,F0,w,theta, Z_2,g')\n",
        "R =symbols(\"R,m,k\",positive=\"True\")"
      ]
    },
    {
      "cell_type": "code",
      "execution_count": null,
      "metadata": {
        "id": "fqRMDOmGOHYE",
        "outputId": "c19320f4-40a3-4773-d87c-969f8b9529ba"
      },
      "outputs": [
        {
          "data": {
            "image/png": "[encoded data removed]",
            "text/latex": [
              "$\\displaystyle Z_{2}$"
            ],
            "text/plain": [
              "Z₂"
            ]
          },
          "execution_count": 9,
          "metadata": {},
          "output_type": "execute_result"
        }
      ],
      "source": [
        "z2"
      ]
    },
    {
      "cell_type": "code",
      "execution_count": null,
      "metadata": {
        "id": "ZL37axfxOHYF",
        "outputId": "11b0dfad-871f-484e-e10f-7436218cc9c4"
      },
      "outputs": [
        {
          "data": {
            "image/png": "[encoded data removed]",
            "text/latex": [
              "$\\displaystyle \\sin{\\left(\\lambda \\right)}$"
            ],
            "text/plain": [
              "sin(λ)"
            ]
          },
          "execution_count": 19,
          "metadata": {},
          "output_type": "execute_result"
        }
      ],
      "source": [
        "sin(l)"
      ]
    },
    {
      "cell_type": "code",
      "execution_count": null,
      "metadata": {
        "id": "p33Mq9_wOHYF"
      },
      "outputs": [],
      "source": [
        "f=(-m*w*y*sin(l)+px*cos(l))**2 + (-m*w*x*sin(l)+py*cos(l))**2  + (m*w)/2 * (x*cos(l)+(py*sin(l))/2)**2 + (m*w)/2 * (y*cos(l)+(px*sin(l))/2)**2"
      ]
    },
    {
      "cell_type": "code",
      "execution_count": null,
      "metadata": {
        "id": "RbjUv2aLOHYF",
        "outputId": "362b130f-e1f4-4554-c470-1b293c86ff83"
      },
      "outputs": [
        {
          "data": {
            "image/png": "[encoded data removed]",
            "text/latex": [
              "$\\displaystyle \\frac{m w \\left(Px \\sin{\\left(\\lambda \\right)} + 2 y \\cos{\\left(\\lambda \\right)}\\right)^{2}}{8} + \\frac{m w \\left(Py \\sin{\\left(\\lambda \\right)} + 2 x \\cos{\\left(\\lambda \\right)}\\right)^{2}}{8} + \\left(Px \\cos{\\left(\\lambda \\right)} - m w y \\sin{\\left(\\lambda \\right)}\\right)^{2} + \\left(Py \\cos{\\left(\\lambda \\right)} - m w x \\sin{\\left(\\lambda \\right)}\\right)^{2}$"
            ],
            "text/plain": [
              "                            2                               2                 \n",
              "m⋅w⋅(Px⋅sin(λ) + 2⋅y⋅cos(λ))    m⋅w⋅(Py⋅sin(λ) + 2⋅x⋅cos(λ))                  \n",
              "───────────────────────────── + ───────────────────────────── + (Px⋅cos(λ) - m\n",
              "              8                               8                               \n",
              "\n",
              "                                           \n",
              "            2                             2\n",
              "⋅w⋅y⋅sin(λ))  + (Py⋅cos(λ) - m⋅w⋅x⋅sin(λ)) \n",
              "                                           "
            ]
          },
          "execution_count": 22,
          "metadata": {},
          "output_type": "execute_result"
        }
      ],
      "source": [
        "simplify(f)"
      ]
    },
    {
      "cell_type": "markdown",
      "metadata": {
        "id": "Fy6aBua8OHYF"
      },
      "source": [
        "## *Funcion 1*  \n",
        "\n",
        "$$ f_{1}(x,y,z) = $$"
      ]
    },
    {
      "cell_type": "code",
      "execution_count": null,
      "metadata": {
        "id": "uu5ikA2xOHYF"
      },
      "outputs": [],
      "source": [
        "f1= a*t**2 + b*t + c # F1"
      ]
    },
    {
      "cell_type": "markdown",
      "metadata": {
        "id": "et4brZ2XOHYG"
      },
      "source": [
        "##### Chequear si escribió a F1 de forma correcta:"
      ]
    },
    {
      "cell_type": "code",
      "execution_count": null,
      "metadata": {
        "scrolled": true,
        "id": "kA3aZgrtOHYG",
        "outputId": "415eb623-32e0-4e26-ba4a-20b3ee7e4489"
      },
      "outputs": [
        {
          "data": {
            "image/png": "[encoded data removed]",
            "text/latex": [
              "$\\displaystyle a t^{2} + b t + c$"
            ],
            "text/plain": [
              "   2          \n",
              "a⋅t  + b⋅t + c"
            ]
          },
          "execution_count": 5,
          "metadata": {},
          "output_type": "execute_result"
        }
      ],
      "source": [
        "f1"
      ]
    },
    {
      "cell_type": "code",
      "execution_count": null,
      "metadata": {
        "id": "NeU9XOBbOHYG"
      },
      "outputs": [],
      "source": [
        "zo=exp((-3/4)*(pi*I))"
      ]
    },
    {
      "cell_type": "code",
      "execution_count": null,
      "metadata": {
        "id": "_VtMZDJCOHYG",
        "outputId": "168d2842-f992-4269-cbc2-b13e8c3d500f"
      },
      "outputs": [
        {
          "data": {
            "image/png": "[encoded data removed]",
            "text/latex": [
              "$\\displaystyle \\frac{4 e^{- 0.75 i \\pi} - 2 i}{2 + i e^{- 0.75 i \\pi}}$"
            ],
            "text/plain": [
              "   -0.75⋅ⅈ⋅π      \n",
              "4⋅ℯ          - 2⋅ⅈ\n",
              "──────────────────\n",
              "        -0.75⋅ⅈ⋅π \n",
              " 2 + ⅈ⋅ℯ          "
            ]
          },
          "execution_count": 37,
          "metadata": {},
          "output_type": "execute_result"
        }
      ],
      "source": [
        "f1.subs(z,zo)"
      ]
    },
    {
      "cell_type": "code",
      "execution_count": null,
      "metadata": {
        "scrolled": true,
        "id": "WZOencm_OHYG",
        "outputId": "5d9fe4bf-55d4-4aad-bd3d-c1d87c337b5b"
      },
      "outputs": [
        {
          "data": {
            "image/png": "[encoded data removed]",
            "text/latex": [
              "$\\displaystyle \\frac{2 \\left(2 - i e^{0.75 i \\pi}\\right)}{i + 2 e^{0.75 i \\pi}}$"
            ],
            "text/plain": [
              "  ⎛       0.75⋅ⅈ⋅π⎞\n",
              "2⋅⎝2 - ⅈ⋅ℯ        ⎠\n",
              "───────────────────\n",
              "         0.75⋅ⅈ⋅π  \n",
              "  ⅈ + 2⋅ℯ          "
            ]
          },
          "execution_count": 38,
          "metadata": {},
          "output_type": "execute_result"
        }
      ],
      "source": [
        "simplify(f1.subs(z,zo))"
      ]
    },
    {
      "cell_type": "code",
      "execution_count": null,
      "metadata": {
        "id": "7x0NyfuaOHYH",
        "outputId": "a3eb0529-d7b4-4ad9-bd73-d307245e02a1"
      },
      "outputs": [
        {
          "data": {
            "image/png": "[encoded data removed]",
            "text/latex": [
              "$\\displaystyle \\frac{2 \\left(2 z - i\\right)}{i z + 2}$"
            ],
            "text/plain": [
              "2⋅(2⋅z - ⅈ)\n",
              "───────────\n",
              "  ⅈ⋅z + 2  "
            ]
          },
          "execution_count": 27,
          "metadata": {},
          "output_type": "execute_result"
        }
      ],
      "source": [
        "simplify(f1)"
      ]
    },
    {
      "cell_type": "code",
      "execution_count": null,
      "metadata": {
        "scrolled": true,
        "id": "1pUFe33XOHYH",
        "outputId": "cf202137-a960-4ecc-cf59-1061e3048b42"
      },
      "outputs": [
        {
          "data": {
            "image/png": "[encoded data removed]",
            "text/latex": [
              "$\\displaystyle \\left(x \\sin{\\left(y \\right)} - y \\cos{\\left(y \\right)}\\right) e^{- x}$"
            ],
            "text/plain": [
              "                       -x\n",
              "(x⋅sin(y) - y⋅cos(y))⋅ℯ  "
            ]
          },
          "execution_count": 8,
          "metadata": {},
          "output_type": "execute_result"
        }
      ],
      "source": [
        "separatevars(f1)"
      ]
    },
    {
      "cell_type": "code",
      "execution_count": null,
      "metadata": {
        "id": "eEToOEerOHYH",
        "outputId": "8ed5dd23-9758-4d13-a64c-1d4c70183ad6"
      },
      "outputs": [
        {
          "data": {
            "image/png": "[encoded data removed]",
            "text/latex": [
              "$\\displaystyle \\frac{m w \\left(\\frac{Px \\sin{\\left(\\lambda \\right)}}{2} + y \\cos{\\left(\\lambda \\right)}\\right)^{2}}{2} + \\frac{m w \\left(\\frac{Py \\sin{\\left(\\lambda \\right)}}{2} + x \\cos{\\left(\\lambda \\right)}\\right)^{2}}{2} + \\left(Px \\cos{\\left(\\lambda \\right)} - m w y \\sin{\\left(\\lambda \\right)}\\right)^{2} + \\left(Py \\cos{\\left(\\lambda \\right)} - m w x \\sin{\\left(\\lambda \\right)}\\right)^{2}$"
            ],
            "text/plain": [
              "                          2                             2                     \n",
              "    ⎛Px⋅sin(λ)           ⎞        ⎛Py⋅sin(λ)           ⎞                      \n",
              "m⋅w⋅⎜───────── + y⋅cos(λ)⎟    m⋅w⋅⎜───────── + x⋅cos(λ)⎟                      \n",
              "    ⎝    2               ⎠        ⎝    2               ⎠                      \n",
              "─────────────────────────── + ─────────────────────────── + (Px⋅cos(λ) - m⋅w⋅y\n",
              "             2                             2                                  \n",
              "\n",
              "                                       \n",
              "                                       \n",
              "                                       \n",
              "        2                             2\n",
              "⋅sin(λ))  + (Py⋅cos(λ) - m⋅w⋅x⋅sin(λ)) \n",
              "                                       "
            ]
          },
          "execution_count": 28,
          "metadata": {},
          "output_type": "execute_result"
        }
      ],
      "source": [
        "f"
      ]
    },
    {
      "cell_type": "code",
      "execution_count": null,
      "metadata": {
        "scrolled": true,
        "id": "L-qNow3wOHYH",
        "outputId": "4b512152-6226-4639-87ea-c248a09a580b"
      },
      "outputs": [
        {
          "data": {
            "image/png": "[encoded data removed]",
            "text/latex": [
              "$\\displaystyle \\frac{Px^{2} m w \\sin^{2}{\\left(\\lambda \\right)}}{8} + Px^{2} \\cos^{2}{\\left(\\lambda \\right)} - \\frac{3 Px m w y \\sin{\\left(\\lambda \\right)} \\cos{\\left(\\lambda \\right)}}{2} + \\frac{Py^{2} m w \\sin^{2}{\\left(\\lambda \\right)}}{8} + Py^{2} \\cos^{2}{\\left(\\lambda \\right)} - \\frac{3 Py m w x \\sin{\\left(\\lambda \\right)} \\cos{\\left(\\lambda \\right)}}{2} + m^{2} w^{2} x^{2} \\sin^{2}{\\left(\\lambda \\right)} + m^{2} w^{2} y^{2} \\sin^{2}{\\left(\\lambda \\right)} + \\frac{m w x^{2} \\cos^{2}{\\left(\\lambda \\right)}}{2} + \\frac{m w y^{2} \\cos^{2}{\\left(\\lambda \\right)}}{2}$"
            ],
            "text/plain": [
              "  2        2                                                 2        2       \n",
              "Px ⋅m⋅w⋅sin (λ)     2    2      3⋅Px⋅m⋅w⋅y⋅sin(λ)⋅cos(λ)   Py ⋅m⋅w⋅sin (λ)    \n",
              "─────────────── + Px ⋅cos (λ) - ──────────────────────── + ─────────────── + P\n",
              "       8                                   2                      8           \n",
              "\n",
              "                                                                              \n",
              " 2    2      3⋅Py⋅m⋅w⋅x⋅sin(λ)⋅cos(λ)    2  2  2    2       2  2  2    2      \n",
              "y ⋅cos (λ) - ──────────────────────── + m ⋅w ⋅x ⋅sin (λ) + m ⋅w ⋅y ⋅sin (λ) + \n",
              "                        2                                                     \n",
              "\n",
              "     2    2           2    2   \n",
              "m⋅w⋅x ⋅cos (λ)   m⋅w⋅y ⋅cos (λ)\n",
              "────────────── + ──────────────\n",
              "      2                2       "
            ]
          },
          "execution_count": 23,
          "metadata": {},
          "output_type": "execute_result"
        }
      ],
      "source": [
        "expand(f)"
      ]
    },
    {
      "cell_type": "code",
      "execution_count": null,
      "metadata": {
        "id": "5NZ3aRYNOHYH",
        "outputId": "f2e85218-5cca-4406-9a91-c7be12d7f0cc"
      },
      "outputs": [
        {
          "data": {
            "image/png": "[encoded data removed]",
            "text/latex": [
              "$\\displaystyle \\frac{Px^{2} m w \\sin^{2}{\\left(\\lambda \\right)}}{8} + Px^{2} \\cos^{2}{\\left(\\lambda \\right)} - \\frac{3 Px m w y \\sin{\\left(\\lambda \\right)} \\cos{\\left(\\lambda \\right)}}{2} + \\frac{Py^{2} m w \\sin^{2}{\\left(\\lambda \\right)}}{8} + Py^{2} \\cos^{2}{\\left(\\lambda \\right)} - \\frac{3 Py m w x \\sin{\\left(\\lambda \\right)} \\cos{\\left(\\lambda \\right)}}{2} + m^{2} w^{2} x^{2} \\sin^{2}{\\left(\\lambda \\right)} + m^{2} w^{2} y^{2} \\sin^{2}{\\left(\\lambda \\right)} + \\frac{m w x^{2} \\cos^{2}{\\left(\\lambda \\right)}}{2} + \\frac{m w y^{2} \\cos^{2}{\\left(\\lambda \\right)}}{2}$"
            ],
            "text/plain": [
              "  2        2                                                 2        2       \n",
              "Px ⋅m⋅w⋅sin (λ)     2    2      3⋅Px⋅m⋅w⋅y⋅sin(λ)⋅cos(λ)   Py ⋅m⋅w⋅sin (λ)    \n",
              "─────────────── + Px ⋅cos (λ) - ──────────────────────── + ─────────────── + P\n",
              "       8                                   2                      8           \n",
              "\n",
              "                                                                              \n",
              " 2    2      3⋅Py⋅m⋅w⋅x⋅sin(λ)⋅cos(λ)    2  2  2    2       2  2  2    2      \n",
              "y ⋅cos (λ) - ──────────────────────── + m ⋅w ⋅x ⋅sin (λ) + m ⋅w ⋅y ⋅sin (λ) + \n",
              "                        2                                                     \n",
              "\n",
              "     2    2           2    2   \n",
              "m⋅w⋅x ⋅cos (λ)   m⋅w⋅y ⋅cos (λ)\n",
              "────────────── + ──────────────\n",
              "      2                2       "
            ]
          },
          "execution_count": 27,
          "metadata": {},
          "output_type": "execute_result"
        }
      ],
      "source": [
        "cancel(_23)"
      ]
    },
    {
      "cell_type": "code",
      "execution_count": null,
      "metadata": {
        "id": "pIuTirw2OHYH"
      },
      "outputs": [],
      "source": [
        "#Derivadas \n",
        "f1x= f1.diff(x)    # Derivada de f1 con respecto a x\n",
        "f1y= f1.diff(y)    # Derivada de f1 con respecto a y\n",
        "f1z= f1.diff(z)    # Derivada de f1 con respecto a z\n",
        "f1xx=f1.diff(x,2)  # Derivada segunda de f1 con respecto a x\n",
        "f1yy=f1.diff(y,2)\n",
        "f1xy= f1yx = f1x.diff(y)   # Derivada cruzada\n",
        "f1t=f1.diff(t)\n",
        "\n",
        "#Integrales\n",
        "\n",
        "if1x=integrate(f1,x)   #Integral de f1 con respecto a x\n",
        "if1y=integrate(f1,y)   #Integral de f1 con respecto a y\n",
        "if1z=integrate(f1,z)   #Integral de f1 con respecto a z\n",
        "\n",
        "#Taylor \n",
        "Taylorx= f1.series(x,n=4,x0=0)  # Taylor de f1 ,con respecto a x, centrado en x0 , de orden n "
      ]
    },
    {
      "cell_type": "code",
      "execution_count": null,
      "metadata": {
        "id": "M1GyrSOwOHYI",
        "outputId": "f28e64b4-2081-471b-d2d5-c94833081734"
      },
      "outputs": [
        {
          "data": {
            "image/png": "[encoded data removed]",
            "text/latex": [
              "$\\displaystyle \\left(x \\cos{\\left(y \\right)} + y \\sin{\\left(y \\right)}\\right) e^{- x}$"
            ],
            "text/plain": [
              "                       -x\n",
              "(x⋅cos(y) + y⋅sin(y))⋅ℯ  "
            ]
          },
          "execution_count": 24,
          "metadata": {},
          "output_type": "execute_result"
        }
      ],
      "source": [
        "f1x.integrate(y).simplify()"
      ]
    },
    {
      "cell_type": "code",
      "execution_count": null,
      "metadata": {
        "id": "I9pvpmAtOHYI",
        "outputId": "4befb3a3-28aa-4702-e311-e60c0efbca20"
      },
      "outputs": [
        {
          "data": {
            "image/png": "[encoded data removed]",
            "text/latex": [
              "$\\displaystyle \\left(x \\cos{\\left(y \\right)} + y \\sin{\\left(y \\right)} - \\cos{\\left(y \\right)}\\right) e^{- x}$"
            ],
            "text/plain": [
              "                                -x\n",
              "(x⋅cos(y) + y⋅sin(y) - cos(y))⋅ℯ  "
            ]
          },
          "execution_count": 22,
          "metadata": {},
          "output_type": "execute_result"
        }
      ],
      "source": [
        "f1y"
      ]
    },
    {
      "cell_type": "markdown",
      "metadata": {
        "id": "Ng4YBMWmOHYI"
      },
      "source": [
        "## *Funcion 2* \n",
        "\n",
        "$$ f_{2}(x,y,z) = $$\n"
      ]
    },
    {
      "cell_type": "code",
      "execution_count": null,
      "metadata": {
        "id": "7UWXuLK_OHYI"
      },
      "outputs": [],
      "source": [
        "f2=1/2 *m*f1t**2 + m*g * f1"
      ]
    },
    {
      "cell_type": "markdown",
      "metadata": {
        "id": "PdIusBUwOHYI"
      },
      "source": [
        "##### Chequear si escribió a F2 de forma correcta:"
      ]
    },
    {
      "cell_type": "code",
      "execution_count": null,
      "metadata": {
        "scrolled": true,
        "id": "zdvRP9aqOHYJ",
        "outputId": "2ce9fb7d-7ac1-4dc6-b9e7-796308027d0d"
      },
      "outputs": [
        {
          "data": {
            "image/png": "[encoded data removed]",
            "text/latex": [
              "$\\displaystyle g m \\left(a t^{2} + b t + c\\right) + 0.5 m \\left(2 a t + b\\right)^{2}$"
            ],
            "text/plain": [
              "    ⎛   2          ⎞                    2\n",
              "g⋅m⋅⎝a⋅t  + b⋅t + c⎠ + 0.5⋅m⋅(2⋅a⋅t + b) "
            ]
          },
          "execution_count": 9,
          "metadata": {},
          "output_type": "execute_result"
        }
      ],
      "source": [
        "f2"
      ]
    },
    {
      "cell_type": "code",
      "execution_count": null,
      "metadata": {
        "id": "dNifGRDTOHYJ",
        "outputId": "fe31e3c6-cdca-43e0-d8e5-71270d5849b4"
      },
      "outputs": [
        {
          "data": {
            "image/png": "[encoded data removed]",
            "text/latex": [
              "$\\displaystyle m \\left(- 1.0 \\left(\\frac{h}{g}\\right)^{1.0} \\left(2 a - g\\right) + \\left(\\frac{h}{g}\\right)^{1.5} \\left(3.77123616632825 a + 0.942809041582064 g\\right)\\right)$"
            ],
            "text/plain": [
              "  ⎛         1.0                1.5                                           ⎞\n",
              "  ⎜      ⎛h⎞                ⎛h⎞                                              ⎟\n",
              "m⋅⎜- 1.0⋅⎜─⎟   ⋅(2⋅a - g) + ⎜─⎟   ⋅(3.77123616632825⋅a + 0.942809041582064⋅g)⎟\n",
              "  ⎝      ⎝g⎠                ⎝g⎠                                              ⎠"
            ]
          },
          "execution_count": 62,
          "metadata": {},
          "output_type": "execute_result"
        }
      ],
      "source": [
        "S=integrate(f2, (t,0,t_c)) # accion, es una funcion de a\n",
        "DS=S.diff(a)\n",
        "DS=simplify(DS.subs(b,g/2 - a).subs(t_c,(2*h/g)**(1/2)))\n",
        "DS"
      ]
    },
    {
      "cell_type": "code",
      "execution_count": null,
      "metadata": {
        "id": "-3Z3O9dUOHYJ",
        "outputId": "a28904bb-44b6-40d6-b95f-4a656b46d0e1"
      },
      "outputs": [
        {
          "data": {
            "image/png": "[encoded data removed]",
            "text/latex": [
              "$\\displaystyle \\left[ - \\frac{8.0 g \\left(58925565098879.0 g \\left(\\frac{h}{g}\\right)^{\\frac{3}{2}} + 62500000000000.0 h\\right)}{1.88561808316413 \\cdot 10^{15} g \\left(\\frac{h}{g}\\right)^{1.5} - 1.0 \\cdot 10^{15} h}\\right]$"
            ],
            "text/plain": [
              "⎡       ⎛                      3/2                     ⎞ ⎤\n",
              "⎢       ⎜                   ⎛h⎞                        ⎟ ⎥\n",
              "⎢-8.0⋅g⋅⎜58925565098879.0⋅g⋅⎜─⎟    + 62500000000000.0⋅h⎟ ⎥\n",
              "⎢       ⎝                   ⎝g⎠                        ⎠ ⎥\n",
              "⎢────────────────────────────────────────────────────────⎥\n",
              "⎢                                 1.5                    ⎥\n",
              "⎢                              ⎛h⎞                       ⎥\n",
              "⎢       1.88561808316413e+15⋅g⋅⎜─⎟    - 1.0e+15⋅h        ⎥\n",
              "⎣                              ⎝g⎠                       ⎦"
            ]
          },
          "execution_count": 63,
          "metadata": {},
          "output_type": "execute_result"
        }
      ],
      "source": [
        "sol=solve(DS,a)\n",
        "sol"
      ]
    },
    {
      "cell_type": "code",
      "execution_count": null,
      "metadata": {
        "id": "aN_dbGjQOHYJ",
        "outputId": "53df4d22-f328-4d10-83cf-37f5b1eec754"
      },
      "outputs": [
        {
          "data": {
            "image/png": "[encoded data removed]",
            "text/latex": [
              "$\\displaystyle \\frac{- 0.75 b - 0.25 g t_{c}}{t_{c}}$"
            ],
            "text/plain": [
              "-0.75⋅b - 0.25⋅g⋅t_c\n",
              "────────────────────\n",
              "        t_c         "
            ]
          },
          "execution_count": 36,
          "metadata": {},
          "output_type": "execute_result"
        }
      ],
      "source": [
        "sol2= -(0.25 * (3*b + g*t_c))/t_c\n",
        "sol2"
      ]
    },
    {
      "cell_type": "code",
      "execution_count": null,
      "metadata": {
        "id": "cML7axS_OHYJ",
        "outputId": "c395a37f-d0e8-495a-e8af-509bb11c4e49"
      },
      "outputs": [
        {
          "ename": "TypeError",
          "evalue": "unsupported operand type(s) for *: 'int' and 'UndefinedFunction'",
          "output_type": "error",
          "traceback": [
            "\u001b[1;31m---------------------------------------------------------------------------\u001b[0m",
            "\u001b[1;31mTypeError\u001b[0m                                 Traceback (most recent call last)",
            "\u001b[1;32m<ipython-input-40-058dccfafcc9>\u001b[0m in \u001b[0;36m<module>\u001b[1;34m\u001b[0m\n\u001b[1;32m----> 1\u001b[1;33m \u001b[0mt_c\u001b[0m\u001b[1;33m=\u001b[0m \u001b[1;36m2\u001b[0m\u001b[1;33m*\u001b[0m\u001b[0mh\u001b[0m\u001b[1;33m\u001b[0m\u001b[1;33m\u001b[0m\u001b[0m\n\u001b[0m",
            "\u001b[1;31mTypeError\u001b[0m: unsupported operand type(s) for *: 'int' and 'UndefinedFunction'"
          ]
        }
      ],
      "source": [
        "t_c= "
      ]
    },
    {
      "cell_type": "code",
      "execution_count": null,
      "metadata": {
        "scrolled": false,
        "id": "yiPEXzMuOHYJ",
        "outputId": "1bc8f394-85f1-45f5-9dd0-21c907672932"
      },
      "outputs": [
        {
          "data": {
            "image/png": "[encoded data removed]",
            "text/latex": [
              "$\\displaystyle \\frac{0.707106781186547 \\left(0.75 a - 0.353553390593274 g \\left(\\frac{h}{g}\\right)^{0.5} - 0.375 g\\right)}{\\left(\\frac{h}{g}\\right)^{0.5}}$"
            ],
            "text/plain": [
              "                     -0.5 ⎛                                0.5          ⎞\n",
              "                  ⎛h⎞     ⎜                             ⎛h⎞             ⎟\n",
              "0.707106781186547⋅⎜─⎟    ⋅⎜0.75⋅a - 0.353553390593274⋅g⋅⎜─⎟    - 0.375⋅g⎟\n",
              "                  ⎝g⎠     ⎝                             ⎝g⎠             ⎠"
            ]
          },
          "execution_count": 43,
          "metadata": {},
          "output_type": "execute_result"
        }
      ],
      "source": [
        "sol2.subs(t_c,(2*h/g)**(1/2)).subs(b,g/2 - a)"
      ]
    },
    {
      "cell_type": "code",
      "execution_count": null,
      "metadata": {
        "id": "aW_8OQnTOHYK",
        "outputId": "9f712923-e8b6-4c9f-9499-de3e8c94caad"
      },
      "outputs": [
        {
          "data": {
            "image/png": "[encoded data removed]",
            "text/latex": [
              "$\\displaystyle i \\pi \\left(\\frac{e^{c + 2 + i}}{2} - i e^{c + 2 + i}\\right)$"
            ],
            "text/plain": [
              "    ⎛ c + 2 + ⅈ               ⎞\n",
              "    ⎜ℯ               c + 2 + ⅈ⎟\n",
              "ⅈ⋅π⋅⎜────────── - ⅈ⋅ℯ         ⎟\n",
              "    ⎝    2                    ⎠"
            ]
          },
          "execution_count": 64,
          "metadata": {},
          "output_type": "execute_result"
        }
      ],
      "source": [
        "z1=2+I\n",
        "z2=2-I\n",
        "A=(f2.diff(z))\n",
        "B=A.subs(z,z1)\n",
        "B*2*pi*I"
      ]
    },
    {
      "cell_type": "code",
      "execution_count": null,
      "metadata": {
        "scrolled": false,
        "id": "t1PfvzYXOHYK",
        "outputId": "813e27ce-647d-4fa8-872f-918bcdbdd146"
      },
      "outputs": [
        {
          "data": {
            "image/png": "[encoded data removed]",
            "text/latex": [
              "$\\displaystyle \\frac{x}{x^{2} + y^{2}}$"
            ],
            "text/plain": [
              "   x   \n",
              "───────\n",
              " 2    2\n",
              "x  + y "
            ]
          },
          "execution_count": 20,
          "metadata": {},
          "output_type": "execute_result"
        }
      ],
      "source": [
        "simplify(f2)"
      ]
    },
    {
      "cell_type": "code",
      "execution_count": null,
      "metadata": {
        "id": "43CW4_3gOHYK",
        "outputId": "fe786b30-6ead-431e-fe47-30bbb37b99cc"
      },
      "outputs": [
        {
          "data": {
            "image/png": "[encoded data removed]",
            "text/latex": [
              "$\\displaystyle \\frac{x}{x^{2} + y^{2}}$"
            ],
            "text/plain": [
              "   x   \n",
              "───────\n",
              " 2    2\n",
              "x  + y "
            ]
          },
          "execution_count": 21,
          "metadata": {},
          "output_type": "execute_result"
        }
      ],
      "source": [
        "separatevars(f2)"
      ]
    },
    {
      "cell_type": "code",
      "execution_count": null,
      "metadata": {
        "id": "ksTlURX1OHYK",
        "outputId": "d412682e-3078-4615-8191-dd7764721cf7"
      },
      "outputs": [
        {
          "data": {
            "image/png": "[encoded data removed]",
            "text/latex": [
              "$\\displaystyle \\frac{x}{x^{2} + y^{2}}$"
            ],
            "text/plain": [
              "   x   \n",
              "───────\n",
              " 2    2\n",
              "x  + y "
            ]
          },
          "execution_count": 22,
          "metadata": {},
          "output_type": "execute_result"
        }
      ],
      "source": [
        "expand(f2)"
      ]
    },
    {
      "cell_type": "code",
      "execution_count": null,
      "metadata": {
        "id": "k5cZYUFjOHYK"
      },
      "outputs": [],
      "source": [
        "#Derivadas \n",
        "f2x= f2.diff(x)    # Derivada de f2 con respecto a x\n",
        "f2y= f2.diff(y)    # Derivada de f2 con respecto a y\n",
        "\n",
        "if2x=integrate(f2,x)   #Integral de f2 con respecto a x\n",
        "if2y=integrate(f2,y)   #Integral de f2 con respecto a y"
      ]
    },
    {
      "cell_type": "code",
      "execution_count": null,
      "metadata": {
        "id": "7PZrutwUOHYK",
        "outputId": "488f4abb-1dac-43fb-abb7-a4626370ba19"
      },
      "outputs": [
        {
          "data": {
            "image/png": "[encoded data removed]",
            "text/latex": [
              "$\\displaystyle \\left( - \\frac{2 x^{2}}{\\left(x^{2} + y^{2}\\right)^{2}} + \\frac{1}{x^{2} + y^{2}}, \\  \\frac{2 y^{2}}{\\left(x^{2} + y^{2}\\right)^{2}} - \\frac{1}{x^{2} + y^{2}}\\right)$"
            ],
            "text/plain": [
              "⎛        2                     2             ⎞\n",
              "⎜     2⋅x          1        2⋅y          1   ⎟\n",
              "⎜- ────────── + ───────, ────────── - ───────⎟\n",
              "⎜           2    2    2           2    2    2⎟\n",
              "⎜  ⎛ 2    2⎞    x  + y   ⎛ 2    2⎞    x  + y ⎟\n",
              "⎝  ⎝x  + y ⎠             ⎝x  + y ⎠           ⎠"
            ]
          },
          "execution_count": 29,
          "metadata": {},
          "output_type": "execute_result"
        }
      ],
      "source": [
        "f2x,f1y"
      ]
    },
    {
      "cell_type": "markdown",
      "metadata": {
        "id": "88Kac_YQOHYK"
      },
      "source": []
    },
    {
      "cell_type": "code",
      "execution_count": null,
      "metadata": {
        "scrolled": true,
        "id": "1bxuTc9xOHYL",
        "outputId": "6504d52d-39f4-4bf9-dc00-2cff4fe76fbb"
      },
      "outputs": [
        {
          "data": {
            "text/latex": [
              "$\\displaystyle \\left[\\begin{matrix}0\\\\F_{0} \\cos{\\left(t w \\right)}\\end{matrix}\\right]$"
            ],
            "text/plain": [
              "⎡     0     ⎤\n",
              "⎢           ⎥\n",
              "⎣F₀⋅cos(t⋅w)⎦"
            ]
          },
          "execution_count": 31,
          "metadata": {},
          "output_type": "execute_result"
        }
      ],
      "source": [
        "l1= (-g + (g**2 - 4*k*m)**(1/2)) / 2*m\n",
        "l2=(-g - (g**2 - 4*k*m)**(1/2)) / 2*m\n",
        "\n",
        "F=F0*cos(w*t)\n",
        "B=Matrix([0,F])\n",
        "B"
      ]
    },
    {
      "cell_type": "code",
      "execution_count": null,
      "metadata": {
        "id": "jVG4RwFGOHYL"
      },
      "outputs": [],
      "source": []
    },
    {
      "cell_type": "markdown",
      "metadata": {
        "id": "FA6ctkLxOHYL"
      },
      "source": [
        "## *Matriz*\n",
        "\n",
        "Por default esta en R² pero le podemos poner la dimension que queramos."
      ]
    },
    {
      "cell_type": "code",
      "execution_count": null,
      "metadata": {
        "scrolled": true,
        "id": "meKCO6QxOHYL",
        "outputId": "292a1824-31e2-4218-95d7-380364760edd"
      },
      "outputs": [
        {
          "data": {
            "text/latex": [
              "$\\displaystyle \\left[\\begin{matrix}- \\frac{g}{l} - \\frac{k}{m} & \\frac{k}{m}\\\\\\frac{k}{m} & - \\frac{g}{l} - \\frac{k}{m}\\end{matrix}\\right]$"
            ],
            "text/plain": [
              "⎡  g   k     k   ⎤\n",
              "⎢- ─ - ─     ─   ⎥\n",
              "⎢  l   m     m   ⎥\n",
              "⎢                ⎥\n",
              "⎢   k       g   k⎥\n",
              "⎢   ─     - ─ - ─⎥\n",
              "⎣   m       l   m⎦"
            ]
          },
          "execution_count": 5,
          "metadata": {},
          "output_type": "execute_result"
        }
      ],
      "source": [
        "A=Matrix([[-k/m - g/l , k/m],[k/m,-k/m - g/l]])\n",
        "A"
      ]
    },
    {
      "cell_type": "code",
      "execution_count": null,
      "metadata": {
        "id": "2emrTgVVOHYL",
        "outputId": "4dc1f89e-154c-4a29-89dc-0970983c345f"
      },
      "outputs": [
        {
          "data": {
            "text/latex": [
              "$\\displaystyle \\left[ \\left( - \\frac{g}{l}, \\  1, \\  \\left[ \\left[\\begin{matrix}1\\\\1\\end{matrix}\\right]\\right]\\right), \\  \\left( - \\frac{g m + 2 k l}{l m}, \\  1, \\  \\left[ \\left[\\begin{matrix}-1\\\\1\\end{matrix}\\right]\\right]\\right)\\right]$"
            ],
            "text/plain": [
              "⎡⎛-g      ⎡⎡1⎤⎤⎞  ⎛-(g⋅m + 2⋅k⋅l)      ⎡⎡-1⎤⎤⎞⎤\n",
              "⎢⎜───, 1, ⎢⎢ ⎥⎥⎟, ⎜───────────────, 1, ⎢⎢  ⎥⎥⎟⎥\n",
              "⎣⎝ l      ⎣⎣1⎦⎦⎠  ⎝      l⋅m           ⎣⎣1 ⎦⎦⎠⎦"
            ]
          },
          "execution_count": 8,
          "metadata": {},
          "output_type": "execute_result"
        }
      ],
      "source": [
        "A.eigenvects()"
      ]
    },
    {
      "cell_type": "code",
      "execution_count": null,
      "metadata": {
        "id": "Jje-4dezOHYL"
      },
      "outputs": [],
      "source": [
        "c=simplify(b*B)"
      ]
    },
    {
      "cell_type": "code",
      "execution_count": null,
      "metadata": {
        "scrolled": true,
        "id": "b43O_142OHYL",
        "outputId": "e4f08766-6a51-4ff8-ffe6-151507806627"
      },
      "outputs": [
        {
          "data": {
            "image/png": "[encoded data removed]",
            "text/latex": [
              "$\\displaystyle \\frac{F_{0} e^{\\frac{m t \\left(\\gamma - \\left(\\gamma^{2} - 4 k m\\right)^{0.5}\\right)}{2}} \\cos{\\left(t w \\right)}}{m \\left(\\gamma^{2} - 4 k m\\right)^{0.5}}$"
            ],
            "text/plain": [
              "                         ⎛                0.5⎞         \n",
              "                         ⎜    ⎛ 2        ⎞   ⎟         \n",
              "                     m⋅t⋅⎝γ - ⎝γ  - 4⋅k⋅m⎠   ⎠         \n",
              "               -0.5  ─────────────────────────         \n",
              "   ⎛ 2        ⎞                  2                     \n",
              "F₀⋅⎝γ  - 4⋅k⋅m⎠    ⋅ℯ                         ⋅cos(t⋅w)\n",
              "───────────────────────────────────────────────────────\n",
              "                           m                           "
            ]
          },
          "execution_count": 39,
          "metadata": {},
          "output_type": "execute_result"
        }
      ],
      "source": [
        "c[0]"
      ]
    },
    {
      "cell_type": "code",
      "execution_count": null,
      "metadata": {
        "id": "T5Mms9ehOHYM"
      },
      "outputs": [],
      "source": [
        "(F0 *cos(l1*t)*cos(w*t))/(m())"
      ]
    },
    {
      "cell_type": "markdown",
      "metadata": {
        "id": "kGbFZR0dOHYM"
      },
      "source": [
        "##### Chequear si la matriz que escribió es correcta"
      ]
    },
    {
      "cell_type": "code",
      "execution_count": null,
      "metadata": {
        "scrolled": false,
        "id": "kIzsvRZOOHYM",
        "outputId": "acb997d8-bb95-4d8b-d5be-355c33c741c6"
      },
      "outputs": [
        {
          "data": {
            "text/latex": [
              "$\\displaystyle \\left[\\begin{matrix}y^{2} e^{x y - 1} - 1.0 & x y e^{x y - 1} + e^{x y - 1}\\\\x y e^{x y - 1} + e^{x y - 1} & x^{2} e^{x y - 1} - 1.0\\end{matrix}\\right]$"
            ],
            "text/plain": [
              "⎡    2  x⋅y - 1                x⋅y - 1    x⋅y - 1⎤\n",
              "⎢   y ⋅ℯ        - 1.0     x⋅y⋅ℯ        + ℯ       ⎥\n",
              "⎢                                                ⎥\n",
              "⎢     x⋅y - 1    x⋅y - 1      2  x⋅y - 1         ⎥\n",
              "⎣x⋅y⋅ℯ        + ℯ            x ⋅ℯ        - 1.0   ⎦"
            ]
          },
          "execution_count": 38,
          "metadata": {},
          "output_type": "execute_result"
        }
      ],
      "source": [
        "A"
      ]
    },
    {
      "cell_type": "code",
      "execution_count": null,
      "metadata": {
        "id": "ZbodhbEcOHYM"
      },
      "outputs": [],
      "source": [
        "detA=A.det()     #Calculamos el determinante\n",
        "invA=A.inv()     #Calculamos la inversa de la matriz \n",
        "DerAx=A.diff(x)   #Calculamos la derivada de la matriz con respecto a x\n",
        "DerAy=A.diff(y)   #Calculamos la derivada de la matriz con respecto a y"
      ]
    },
    {
      "cell_type": "code",
      "execution_count": null,
      "metadata": {
        "id": "nMWln9MWOHYM",
        "outputId": "c8647b1b-04c0-4d99-801a-f6972b6348e7"
      },
      "outputs": [
        {
          "data": {
            "image/png": "[encoded data removed]",
            "text/latex": [
              "$\\displaystyle -4.0$"
            ],
            "text/plain": [
              "-4.00000000000000"
            ]
          },
          "execution_count": 40,
          "metadata": {},
          "output_type": "execute_result"
        }
      ],
      "source": [
        "(detA.subs(x,1)).subs(y,1)"
      ]
    },
    {
      "cell_type": "markdown",
      "metadata": {
        "id": "cyBdmUp4OHYM"
      },
      "source": [
        "## *Vector* \n",
        "\n",
        "Por default esta en R² pero le podemos poner la dimension que queramos."
      ]
    },
    {
      "cell_type": "code",
      "execution_count": null,
      "metadata": {
        "id": "2FP9hrtsOHYN"
      },
      "outputs": [],
      "source": [
        "v=Matrix([0,x*sin(x),])"
      ]
    },
    {
      "cell_type": "markdown",
      "metadata": {
        "id": "trc_KMIrOHYN"
      },
      "source": [
        "##### Chequear si el vector que escribió es correcto"
      ]
    },
    {
      "cell_type": "code",
      "execution_count": null,
      "metadata": {
        "id": "0LvXrDmoOHYN",
        "outputId": "0646008c-c1db-4191-a284-0edf0201fab6"
      },
      "outputs": [
        {
          "data": {
            "text/latex": [
              "$\\displaystyle \\left[\\begin{matrix}0\\\\x \\sin{\\left(x \\right)}\\end{matrix}\\right]$"
            ],
            "text/plain": [
              "⎡   0    ⎤\n",
              "⎢        ⎥\n",
              "⎣x⋅sin(x)⎦"
            ]
          },
          "execution_count": 42,
          "metadata": {},
          "output_type": "execute_result"
        }
      ],
      "source": [
        "v"
      ]
    },
    {
      "cell_type": "code",
      "execution_count": null,
      "metadata": {
        "id": "otEeWNWOOHYN"
      },
      "outputs": [],
      "source": [
        "normv= v.norm()   #Norma de V\n",
        "vx=v.diff(x)   #Derivada  Vx\n",
        "vy=v.diff(y)   #Derivada  Vy\n"
      ]
    },
    {
      "cell_type": "code",
      "execution_count": null,
      "metadata": {
        "id": "hqXTlgx1OHYN"
      },
      "outputs": [],
      "source": []
    },
    {
      "cell_type": "markdown",
      "metadata": {
        "id": "ot59GfiSOHYN"
      },
      "source": [
        "##  *Superficie* \n",
        "\n",
        "La superficie que usted ingrese debe tener la formar.\n",
        "\n",
        "$$ T(r,t)= \\ ( \\ S_{1}(r,t), \\ S_{2}(r,t),\\ S_{3}(r,t) \\ ) $$\n"
      ]
    },
    {
      "cell_type": "code",
      "execution_count": null,
      "metadata": {
        "id": "Pi_QhokiOHYN"
      },
      "outputs": [],
      "source": [
        "r= symbols(\"r\",positive=\"True\")\n",
        "\n",
        "S1= cos(t)\n",
        "S2=sin(t)\n",
        "S3=r\n",
        "\n",
        "S=Matrix((S1,S2,S3))\n",
        "\n",
        "a=1 # sustituimos a por r\n",
        "b=pi/2 # sustituimos b por t "
      ]
    },
    {
      "cell_type": "markdown",
      "metadata": {
        "id": "OAYDLxOPOHYN"
      },
      "source": [
        "La superficie que ingresó es: "
      ]
    },
    {
      "cell_type": "code",
      "execution_count": null,
      "metadata": {
        "id": "NCSWXy9ROHYO",
        "outputId": "bec9c6fe-6db9-47af-d840-fb256384cb66"
      },
      "outputs": [
        {
          "data": {
            "text/latex": [
              "$\\displaystyle \\left[\\begin{matrix}\\cos{\\left(t \\right)}\\\\\\sin{\\left(t \\right)}\\\\r\\end{matrix}\\right]$"
            ],
            "text/plain": [
              "⎡cos(t)⎤\n",
              "⎢      ⎥\n",
              "⎢sin(t)⎥\n",
              "⎢      ⎥\n",
              "⎣  r   ⎦"
            ]
          },
          "execution_count": 4,
          "metadata": {},
          "output_type": "execute_result"
        }
      ],
      "source": [
        "S"
      ]
    },
    {
      "cell_type": "code",
      "execution_count": null,
      "metadata": {
        "scrolled": true,
        "id": "PowaVC1vOHYO"
      },
      "outputs": [],
      "source": [
        "Tr =S.diff(r)\n",
        "Tt = S.diff(t)             \n",
        "\n",
        "prod_vec= Tr.cross(Tt)     # Producto \"Tr x Tt\"\n",
        "normaS= simplify(sqrt(prod_vec[0]**2 +prod_vec[1]**2+prod_vec[2]**2) )   # Norma de S\n",
        "eta= prod_vec / normaS    # Vector perp a superficie normalizado\n",
        "\n",
        "qu=eta.subs(r,a) # Utilizamos esto para evaluar a eta en un punto deseado y saber hacia donde apunta la normal\n",
        "que=qu.subs(t,b)"
      ]
    },
    {
      "cell_type": "markdown",
      "metadata": {
        "id": "xmiF0h1EOHYO"
      },
      "source": [
        "$$T_{r} = $$"
      ]
    },
    {
      "cell_type": "code",
      "execution_count": null,
      "metadata": {
        "scrolled": true,
        "id": "OtEZfa9bOHYO",
        "outputId": "2c0c84ae-4926-440c-efe6-7438ee948026"
      },
      "outputs": [
        {
          "data": {
            "text/latex": [
              "$\\displaystyle \\left[\\begin{matrix}0\\\\0\\\\1\\end{matrix}\\right]$"
            ],
            "text/plain": [
              "⎡0⎤\n",
              "⎢ ⎥\n",
              "⎢0⎥\n",
              "⎢ ⎥\n",
              "⎣1⎦"
            ]
          },
          "execution_count": 6,
          "metadata": {},
          "output_type": "execute_result"
        }
      ],
      "source": [
        "Tr"
      ]
    },
    {
      "cell_type": "markdown",
      "metadata": {
        "id": "pw9H7WoGOHYO"
      },
      "source": [
        "$$ T_{t} = $$"
      ]
    },
    {
      "cell_type": "code",
      "execution_count": null,
      "metadata": {
        "scrolled": true,
        "id": "S9BsyiAYOHYO",
        "outputId": "82b14eea-3951-43d8-b487-911730530870"
      },
      "outputs": [
        {
          "data": {
            "text/latex": [
              "$\\displaystyle \\left[\\begin{matrix}- \\sin{\\left(t \\right)}\\\\\\cos{\\left(t \\right)}\\\\0\\end{matrix}\\right]$"
            ],
            "text/plain": [
              "⎡-sin(t)⎤\n",
              "⎢       ⎥\n",
              "⎢cos(t) ⎥\n",
              "⎢       ⎥\n",
              "⎣   0   ⎦"
            ]
          },
          "execution_count": 7,
          "metadata": {},
          "output_type": "execute_result"
        }
      ],
      "source": [
        "Tt"
      ]
    },
    {
      "cell_type": "markdown",
      "metadata": {
        "id": "e3-6LasAOHYP"
      },
      "source": [
        "$$ T_{r}\\  x \\ T_{t} =$$"
      ]
    },
    {
      "cell_type": "code",
      "execution_count": null,
      "metadata": {
        "scrolled": false,
        "id": "DGO_OFTIOHYP",
        "outputId": "93dac377-f8dd-4f19-f83f-0b28398edb20"
      },
      "outputs": [
        {
          "data": {
            "text/latex": [
              "$\\displaystyle \\left[\\begin{matrix}- \\cos{\\left(t \\right)}\\\\- \\sin{\\left(t \\right)}\\\\0\\end{matrix}\\right]$"
            ],
            "text/plain": [
              "⎡-cos(t)⎤\n",
              "⎢       ⎥\n",
              "⎢-sin(t)⎥\n",
              "⎢       ⎥\n",
              "⎣   0   ⎦"
            ]
          },
          "execution_count": 8,
          "metadata": {},
          "output_type": "execute_result"
        }
      ],
      "source": [
        "prod_vec"
      ]
    },
    {
      "cell_type": "markdown",
      "metadata": {
        "id": "BK37Kln-OHYQ"
      },
      "source": [
        "Tambien puede expresarse como: "
      ]
    },
    {
      "cell_type": "code",
      "execution_count": null,
      "metadata": {
        "id": "pnQwq8CXOHYQ",
        "outputId": "4410dd75-f05e-4b2b-8f8a-0b47a45ecb68"
      },
      "outputs": [
        {
          "data": {
            "text/latex": [
              "$\\displaystyle \\left[\\begin{matrix}0\\\\2 r^{2} \\sin{\\left(t \\right)}\\\\0\\end{matrix}\\right]$"
            ],
            "text/plain": [
              "⎡     0     ⎤\n",
              "⎢           ⎥\n",
              "⎢   2       ⎥\n",
              "⎢2⋅r ⋅sin(t)⎥\n",
              "⎢           ⎥\n",
              "⎣     0     ⎦"
            ]
          },
          "execution_count": 44,
          "metadata": {},
          "output_type": "execute_result"
        }
      ],
      "source": [
        "simplify(prod_vec)"
      ]
    },
    {
      "cell_type": "markdown",
      "metadata": {
        "id": "oXT8df0FOHYQ"
      },
      "source": [
        "$$\\Big| \\Big| \\ T_{r} \\ x \\ T_{t} \\Big| \\Big| =  $$\n"
      ]
    },
    {
      "cell_type": "code",
      "execution_count": null,
      "metadata": {
        "id": "rTgKyRKPOHYQ",
        "outputId": "4a60e239-dd87-412e-e6a0-3c3f1d13b667"
      },
      "outputs": [
        {
          "data": {
            "image/png": "[encoded data removed]",
            "text/latex": [
              "$\\displaystyle 2 r^{2} \\sqrt{\\sin^{2}{\\left(t \\right)}}$"
            ],
            "text/plain": [
              "        _________\n",
              "   2   ╱    2    \n",
              "2⋅r ⋅╲╱  sin (t) "
            ]
          },
          "execution_count": 45,
          "metadata": {},
          "output_type": "execute_result"
        }
      ],
      "source": [
        "normaS"
      ]
    },
    {
      "cell_type": "markdown",
      "metadata": {
        "id": "DxwNf_evOHYQ"
      },
      "source": [
        " Vector normal a S, normalizado\n",
        "\n",
        "$$\n",
        "\\eta= $$"
      ]
    },
    {
      "cell_type": "code",
      "execution_count": null,
      "metadata": {
        "scrolled": true,
        "id": "4HB392DNOHYR",
        "outputId": "b7e8d3f5-af52-483b-d320-9522fabe1fd5"
      },
      "outputs": [
        {
          "data": {
            "text/latex": [
              "$\\displaystyle \\left[\\begin{matrix}0\\\\\\frac{\\sin{\\left(t \\right)}}{\\sqrt{\\sin^{2}{\\left(t \\right)}}}\\\\0\\end{matrix}\\right]$"
            ],
            "text/plain": [
              "⎡     0      ⎤\n",
              "⎢            ⎥\n",
              "⎢   sin(t)   ⎥\n",
              "⎢────────────⎥\n",
              "⎢   _________⎥\n",
              "⎢  ╱    2    ⎥\n",
              "⎢╲╱  sin (t) ⎥\n",
              "⎢            ⎥\n",
              "⎣     0      ⎦"
            ]
          },
          "execution_count": 46,
          "metadata": {},
          "output_type": "execute_result"
        }
      ],
      "source": [
        "eta"
      ]
    },
    {
      "cell_type": "code",
      "execution_count": null,
      "metadata": {
        "id": "3oEUk89TOHYR",
        "outputId": "b3e6771c-99b9-4af3-ffb6-04d0e1561329"
      },
      "outputs": [
        {
          "data": {
            "text/latex": [
              "$\\displaystyle \\left[\\begin{matrix}0\\\\\\frac{\\sin{\\left(t \\right)}}{\\sqrt{\\sin^{2}{\\left(t \\right)}}}\\\\0\\end{matrix}\\right]$"
            ],
            "text/plain": [
              "⎡     0      ⎤\n",
              "⎢            ⎥\n",
              "⎢   sin(t)   ⎥\n",
              "⎢────────────⎥\n",
              "⎢   _________⎥\n",
              "⎢  ╱    2    ⎥\n",
              "⎢╲╱  sin (t) ⎥\n",
              "⎢            ⎥\n",
              "⎣     0      ⎦"
            ]
          },
          "execution_count": 47,
          "metadata": {},
          "output_type": "execute_result"
        }
      ],
      "source": [
        "simplify(eta)"
      ]
    },
    {
      "cell_type": "markdown",
      "metadata": {
        "id": "LnW4LVQ_OHYR"
      },
      "source": [
        "  $ \\eta $ evaluado en r= a y t= b :"
      ]
    },
    {
      "cell_type": "code",
      "execution_count": null,
      "metadata": {
        "id": "1dsGAd5JOHYR",
        "outputId": "3b8bfb1d-6d7b-428b-f8a6-520a30b25385"
      },
      "outputs": [
        {
          "data": {
            "text/latex": [
              "$\\displaystyle \\left[\\begin{matrix}\\frac{\\sqrt{3}}{3}\\\\\\frac{\\sqrt{3}}{3}\\\\\\frac{\\sqrt{3}}{3}\\end{matrix}\\right]$"
            ],
            "text/plain": [
              "⎡√3⎤\n",
              "⎢──⎥\n",
              "⎢3 ⎥\n",
              "⎢  ⎥\n",
              "⎢√3⎥\n",
              "⎢──⎥\n",
              "⎢3 ⎥\n",
              "⎢  ⎥\n",
              "⎢√3⎥\n",
              "⎢──⎥\n",
              "⎣3 ⎦"
            ]
          },
          "execution_count": 94,
          "metadata": {},
          "output_type": "execute_result"
        }
      ],
      "source": [
        "que"
      ]
    },
    {
      "cell_type": "markdown",
      "metadata": {
        "id": "SoXdL0MKOHYR"
      },
      "source": [
        "Esta es una forma rápida de comprobar si la normal apunta bien, con los signos del vector $ \\eta(a,b) $ vemos hacia donde apunta la normal y si cumple con lo pedido."
      ]
    },
    {
      "cell_type": "code",
      "execution_count": null,
      "metadata": {
        "id": "va2Ss8VXOHYR"
      },
      "outputs": [],
      "source": []
    },
    {
      "cell_type": "code",
      "execution_count": null,
      "metadata": {
        "id": "XIsIfmnMOHYR"
      },
      "outputs": [],
      "source": []
    },
    {
      "cell_type": "code",
      "execution_count": null,
      "metadata": {
        "id": "wFjPbdBeOHYR"
      },
      "outputs": [],
      "source": []
    }
  ],
  "metadata": {
    "kernelspec": {
      "display_name": "Python 3",
      "language": "python",
      "name": "python3"
    },
    "language_info": {
      "codemirror_mode": {
        "name": "ipython",
        "version": 3
      },
      "file_extension": ".py",
      "mimetype": "text/x-python",
      "name": "python",
      "nbconvert_exporter": "python",
      "pygments_lexer": "ipython3",
      "version": "3.8.3"
    },
    "colab": {
      "provenance": [],
      "include_colab_link": true
    }
  },
  "nbformat": 4,
  "nbformat_minor": 0
}