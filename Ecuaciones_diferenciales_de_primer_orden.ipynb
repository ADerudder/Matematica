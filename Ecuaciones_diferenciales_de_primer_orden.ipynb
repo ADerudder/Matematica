{
  "cells": [
    {
      "cell_type": "markdown",
      "metadata": {
        "id": "view-in-github",
        "colab_type": "text"
      },
      "source": [
        "<a href=\"https://colab.research.google.com/github/ADerudder/Matematica/blob/main/Ecuaciones_diferenciales_de_primer_orden.ipynb\" target=\"_parent\"><img src=\"https://colab.research.google.com/assets/colab-badge.svg\" alt=\"Open In Colab\"/></a>"
      ]
    },
    {
      "cell_type": "markdown",
      "metadata": {
        "id": "wSAUh15tL0aU"
      },
      "source": [
        "# Ecuaciones diferenciales de primer orden\n",
        "\n",
        "\n",
        "\n",
        "El sistema que vamos a resolver tiene esta pinta: \n",
        "\n",
        "$$\\displaystyle \\left[\\begin{matrix}a & b\\\\c & d\\end{matrix}\\right]\\ . \\ \\displaystyle \\left[\\begin{matrix}x\\\\y\\end{matrix}\\right] + \\displaystyle \\left[\\begin{matrix} \\alpha\\\\ \\beta \\end{matrix}\\right] = \\displaystyle \\left[\\begin{matrix} x' \\\\ y' \\end{matrix}\\right] $$\n",
        "\n",
        "Para resolverlo, al igual que en álgebra lineal, vamos a separar en solución homogénea y particular. La suma de las 2 compone a la solución general.\n",
        "\n",
        "\n",
        "$$ Xg(t)=Xh(t) + Xp(t) $$\n",
        "\n",
        "#### Observacion: \n",
        "\n",
        "A medida que se va corriendo el programa debe revisar los resultados de cada módulo.\n",
        "\n",
        "\n",
        "### Solución homogénea \n",
        "\n",
        "Para obtener la solucion homogénea el programa va a calcular los autovalores y autovectores de su matriz A, con estos va a construir una base de la solucion homogenea.\n",
        "\n",
        "##### Nota: \n",
        "\n",
        "Por teoría sabemos que la solucion homogenea es un subespacio vectorial de dimensión 2, es decir, todas las soluciones posibles se puede escribir como combinación lineal de 2 \"vectores\" solución linealmente independientes, o dicho de otra forma, como una combinacion lineal de una ***base*** de soluciones.\n",
        "\n",
        "\n",
        "\n",
        "##### Recordamos \n",
        "\n",
        "En funcion de nuestra matriz obtendremos los autovalores, en base a ellos construimos la solucion de distintas maneras:\n",
        "\n",
        "\n",
        "* $ \\lambda _{1} \\neq\t\\lambda _{2}$, con $\\lambda _{1},\\lambda _{2}$ reales $\\hspace{0.5cm} \\rightarrow \\hspace{0.5cm}$  $ X_{h}= C1 . e^{\\lambda _{1}.t} + C2 . e^{\\lambda _{2}.t} $\n",
        "\n",
        "\n",
        "\n",
        "* $ \\lambda _{1} \\neq\t\\lambda _{2}$, con $\\lambda _{1},\\lambda _{2}$ complejos $\\hspace{0.5cm} \\rightarrow \\hspace{0.5cm}$ Tomamos un solo autovector complejo con su autovalor correspondiente, separamos esa solucion en parte real e imaginaria y a la imaginaria le sacamos el i.\n",
        "\n",
        "\n",
        "\n",
        "* $ \\lambda _{1} =\\lambda _{2}$, con $\\lambda$ real  $\\hspace{0.5cm} \\rightarrow \\hspace{0.5cm}$  Tenemos una solucion, siempre existira otra de la forma $ e^{\\lambda _{1}.t}(\\vec V  . t + \\vec w )$ donde $\\lambda _{1}$ es nuestro autovalor unico, V es el autovector unico y w es la solucion del sistema: \n",
        "$(A-\\lambda _{1}.I).\\vec w = \\vec V $\n"
      ]
    },
    {
      "cell_type": "code",
      "execution_count": null,
      "metadata": {
        "id": "7YOPky6cL0aX",
        "outputId": "1baa26d7-7181-4913-cd1c-304410bec525"
      },
      "outputs": [
        {
          "name": "stdout",
          "output_type": "stream",
          "text": [
            "IPython console for SymPy 1.6.1 (Python 3.8.3-64-bit) (ground types: gmpy)\n",
            "\n",
            "These commands were executed:\n",
            ">>> from __future__ import division\n",
            ">>> from sympy import *\n",
            ">>> x, y, z, t = symbols('x y z t')\n",
            ">>> k, m, n = symbols('k m n', integer=True)\n",
            ">>> f, g, h = symbols('f g h', cls=Function)\n",
            ">>> init_printing()\n",
            "\n",
            "Documentation can be found at https://docs.sympy.org/1.6.1/\n",
            "\n"
          ]
        }
      ],
      "source": [
        "from sympy import init_session\n",
        "init_session(use_latex=True)\n",
        "import numpy as np\n",
        "import numpy.linalg as npl\n",
        "\n",
        "x,y,z,b,c,d,M,w1,w2 =symbols(\"x,y,z,b,c,d,M,w1,w2\")\n",
        "a=symbols(\"a\",real=\"true\")\n",
        "t=symbols(\"t\",real=\"true\")\n",
        "α,β=symbols(\"α,β\",real=\"true\")\n",
        "####################################"
      ]
    },
    {
      "cell_type": "markdown",
      "metadata": {
        "id": "21vRuBBZL0aZ"
      },
      "source": [
        "### *USUARIO*"
      ]
    },
    {
      "cell_type": "code",
      "execution_count": null,
      "metadata": {
        "id": "DYvjI49QL0aa"
      },
      "outputs": [],
      "source": [
        "# Usuario: Completar con los datos de su problema:\n",
        "\n",
        "A=Matrix(((0,-1),(2,3))) # USUARIO : Rellenar A con su matriz (A puede ser unicamente de 2x2)\n",
        "b=Matrix((2,t))\n",
        "sist_homog=\"false\"   # USUARIO : Poner \"true\" si su sistema es homogeneo y \"false\" si su sitema es inhomogeneo."
      ]
    },
    {
      "cell_type": "code",
      "execution_count": null,
      "metadata": {
        "scrolled": false,
        "id": "sv3p-s5tL0aa"
      },
      "outputs": [],
      "source": [
        "#Codigo sin importancia para el usuario\n",
        "\n",
        "####################################\n",
        "B=A.eigenvects()\n",
        "#Autovalores distintos\n",
        "if len(B)>1:\n",
        "    A1= B[0][0] #Primer autovalor \n",
        "    A2= B[1][0] #Segundo autovalor\n",
        "\n",
        "    v1= B[0][2][0] # Primer autovector \n",
        "    v2= B[1][2][0] # Segundo autovector\n",
        "\n",
        "    \n",
        "#Caso de autovalor unico\n",
        "elif len(B)==1:\n",
        "    A1= B[0][0]  # Autovalor unico \n",
        "    if len(B[0][2]) >1: # Autovalor con 2 A.Vect asociados\n",
        "        v1= B[0][2][0]\n",
        "        v2= B[0][2][1]\n",
        "    elif len(B[0][2]) ==1: # Autovalor con 1 A.vect asociado \n",
        "        v1=B[0][2][0]"
      ]
    },
    {
      "cell_type": "markdown",
      "metadata": {
        "id": "8HvFx7mVL0aa"
      },
      "source": [
        "#### Su matriz: (chequear si la escribio correctamente)"
      ]
    },
    {
      "cell_type": "code",
      "execution_count": null,
      "metadata": {
        "scrolled": true,
        "id": "yMZoJbr_L0aa",
        "outputId": "8483391f-e0cb-4223-97a8-a51b0dffe8c8"
      },
      "outputs": [
        {
          "data": {
            "text/latex": [
              "$\\displaystyle \\left[\\begin{matrix}0 & -1\\\\2 & 3\\end{matrix}\\right]$"
            ],
            "text/plain": [
              "⎡0  -1⎤\n",
              "⎢     ⎥\n",
              "⎣2  3 ⎦"
            ]
          },
          "execution_count": 4,
          "metadata": {},
          "output_type": "execute_result"
        }
      ],
      "source": [
        "A"
      ]
    },
    {
      "cell_type": "markdown",
      "metadata": {
        "id": "kz-3B6fvL0aa"
      },
      "source": [
        "#### Autovalores "
      ]
    },
    {
      "cell_type": "code",
      "execution_count": null,
      "metadata": {
        "scrolled": true,
        "id": "5cJN1U9SL0aa",
        "outputId": "772ff0c5-4c4f-418d-e4a8-26756d917461"
      },
      "outputs": [
        {
          "data": {
            "image/png": "[encoded data removed]",
            "text/latex": [
              "$\\displaystyle 1$"
            ],
            "text/plain": [
              "1"
            ]
          },
          "metadata": {},
          "output_type": "display_data"
        },
        {
          "data": {
            "image/png": "[encoded data removed]",
            "text/latex": [
              "$\\displaystyle 2$"
            ],
            "text/plain": [
              "2"
            ]
          },
          "metadata": {},
          "output_type": "display_data"
        }
      ],
      "source": [
        "if len(B)>1:\n",
        "    display(A1,A2)\n",
        "elif len(B)==1:\n",
        "    display(A1)"
      ]
    },
    {
      "cell_type": "markdown",
      "metadata": {
        "id": "G15Od72bL0ab"
      },
      "source": [
        "#### Autovectores "
      ]
    },
    {
      "cell_type": "code",
      "execution_count": null,
      "metadata": {
        "id": "4-xvl4fiL0ab",
        "outputId": "83327fe6-1a44-45bf-cca7-d61547044e26"
      },
      "outputs": [
        {
          "data": {
            "text/latex": [
              "$\\displaystyle \\left[\\begin{matrix}-1\\\\1\\end{matrix}\\right]$"
            ],
            "text/plain": [
              "⎡-1⎤\n",
              "⎢  ⎥\n",
              "⎣1 ⎦"
            ]
          },
          "metadata": {},
          "output_type": "display_data"
        },
        {
          "data": {
            "text/latex": [
              "$\\displaystyle \\left[\\begin{matrix}- \\frac{1}{2}\\\\1\\end{matrix}\\right]$"
            ],
            "text/plain": [
              "⎡-1/2⎤\n",
              "⎢    ⎥\n",
              "⎣ 1  ⎦"
            ]
          },
          "metadata": {},
          "output_type": "display_data"
        }
      ],
      "source": [
        "if len(B)>1:\n",
        "    display(v1,v2)\n",
        "elif len(B)==1 and  len(B[0][2]) >1:\n",
        "    display(v1,v2)\n",
        "elif len(B)==1 and  len(B[0][2]) ==1:\n",
        "    display(v1)\n"
      ]
    },
    {
      "cell_type": "code",
      "execution_count": null,
      "metadata": {
        "id": "5s1u6XzsL0ab"
      },
      "outputs": [],
      "source": [
        "### Codigo sin importancia para el usuario, se puede pasar sin leer \n",
        "\n",
        "def homogenea(A):\n",
        "    B=A.eigenvects()\n",
        "    if len(B)>1:\n",
        "        A1= B[0][0] #Primer autovalor \n",
        "        A2= B[1][0] #Segundo autovalor\n",
        "\n",
        "        v1= B[0][2][0] # Primer autovector \n",
        "        v2= B[1][2][0] # Segundo autovector\n",
        "         \n",
        "        # Casos: \n",
        "        if im(A1) != 0: # La matriz tiene autovalores imaginarios\n",
        "            alpha= re(A1)\n",
        "            beta= im(A1)\n",
        "            sol=  exp(alpha*t)*(cos(beta*t)+I*sin(beta*t))*v1\n",
        "            return(re(sol) , im(sol))\n",
        "        \n",
        "        if im(A1) == 0:    #  2 autovalores reales distintos\n",
        "            return(exp(A1*t)*v1 , exp(A2*t)*v2)\n",
        "    \n",
        "    elif len(B)==1:\n",
        "        A1= B[0][0]\n",
        "        if len(B[0][2]) >1: # Caso en que un autovalor doble genera un autoespacio de dimension 2\n",
        "            v1= B[0][2][0]\n",
        "            v2= B[0][2][1]\n",
        "            return(\"La matriz tiene un autovalor doble que genera un autoespacio de dim=2\")\n",
        "        \n",
        "        elif len(B[0][2]) ==1: # Caso autovalor doble que genera un solo autovector\n",
        "            v1=B[0][2][0]\n",
        "            w=Matrix((w1,w2))\n",
        "            M=(A-A1*eye(2))\n",
        "            prod=M*w\n",
        "            print ('Está en el caso de autovalor doble que genera un solo autovector, la solucion se escribe como está especificada en el texto de arriba, le damos una manera de armar su vector w.')\n",
        "            print('Más adelante se especifica como seguir con la particular en este caso.')\n",
        "            return(solve([prod[0]-v1[0], prod[1]-v1[1]],[w1,w2]))\n",
        "            \n",
        "            \n",
        "   \n",
        "        \n",
        "\n",
        "    "
      ]
    },
    {
      "cell_type": "markdown",
      "metadata": {
        "id": "TRjNxdMKL0ab"
      },
      "source": [
        "La solucion homogenea puede escribirse como combinacion lineal de: "
      ]
    },
    {
      "cell_type": "code",
      "execution_count": null,
      "metadata": {
        "scrolled": false,
        "id": "wrdATSFNL0ac",
        "outputId": "1dbbbd49-0061-4d6b-cf58-ca1517d86c75"
      },
      "outputs": [
        {
          "data": {
            "text/latex": [
              "$\\displaystyle \\left( \\left[\\begin{matrix}- e^{t}\\\\e^{t}\\end{matrix}\\right], \\  \\left[\\begin{matrix}- \\frac{e^{2 t}}{2}\\\\e^{2 t}\\end{matrix}\\right]\\right)$"
            ],
            "text/plain": [
              "⎛       ⎡  2⋅t ⎤⎞\n",
              "⎜⎡  t⎤  ⎢-ℯ    ⎥⎟\n",
              "⎜⎢-ℯ ⎥  ⎢──────⎥⎟\n",
              "⎜⎢   ⎥, ⎢  2   ⎥⎟\n",
              "⎜⎢ t ⎥  ⎢      ⎥⎟\n",
              "⎜⎣ℯ  ⎦  ⎢  2⋅t ⎥⎟\n",
              "⎝       ⎣ ℯ    ⎦⎠"
            ]
          },
          "execution_count": 8,
          "metadata": {},
          "output_type": "execute_result"
        }
      ],
      "source": [
        "homogenea(A)"
      ]
    },
    {
      "cell_type": "markdown",
      "metadata": {
        "id": "1hIcMiS5L0ac"
      },
      "source": [
        "### Solución no homogénea : Método de variación de las constantes\n",
        "\n",
        "El metodo de variacion de las constantes consiste en suponer que una solucion del sistema particular es de la forma :\n",
        "\n",
        "$$ \\vec x_{P}(t) = \\ C_{1}(t) . \\vec x_{1}(t) + C_{2}(t) . \\vec x_{2}(t) $$\n",
        "\n",
        "$ C_{1}(t) \\ y \\ C_{2}(t)$ que cumplen que :\n",
        "\n",
        "$$ \\vec Q (t) . \\ \\vec C '(t) = \\vec \\beta (t) $$\n",
        "\n",
        "Matricialmente :\n",
        "\n",
        "\n",
        "$$\\displaystyle \\left[\\begin{matrix}a & b\\\\c & d\\end{matrix}\\right]\\ . \\ \\displaystyle \\left[\\begin{matrix}C_{1}'(t)\\\\C_{2}'(t)\\end{matrix}\\right]  = \\vec \\beta (t) $$\n",
        "\n",
        "Donde $ \\vec Q (t)$ es la matriz fundamental del sistema, que para el caso de sistema de ecuaciones diferenciales, se compone con las soluciones del sistema homogeneo puestas como columnas.\n",
        "\n",
        "##### Nota:\n",
        "*Cuando lo que resolvemos es una ecuacion diferencial de orden 2, cada columna de la matriz fundamental se compone de una solucion del homogeneo y su derivada.* \n",
        "\n",
        "\n"
      ]
    },
    {
      "cell_type": "markdown",
      "metadata": {
        "id": "xVb402IjL0ac"
      },
      "source": [
        "#### [*Caso autovalor único*] "
      ]
    },
    {
      "cell_type": "code",
      "execution_count": null,
      "metadata": {
        "id": "uJgjGMF_L0ac"
      },
      "outputs": [],
      "source": [
        "# Si ud esta en el caso de autovalor doble , arme aqui la matriz fundamental de soluciones.\n",
        "\n",
        "s1=Matrix((x,y)) # Ponga su primer solucion aquí \n",
        "s2=Matrix((y,x)) # Ponga su primer solucion aquí \n",
        "\n",
        "hd=Matrix(((s1[0],s2[0]),(s1[1],s2[1])))"
      ]
    },
    {
      "cell_type": "markdown",
      "metadata": {
        "id": "4BhVi4SoL0ac"
      },
      "source": [
        "#### [*Caso autovalor único*] \n",
        "\n",
        "Compruebe si lo que ingresó es correcto:"
      ]
    },
    {
      "cell_type": "code",
      "execution_count": null,
      "metadata": {
        "scrolled": false,
        "id": "nX3ohuAWL0ac",
        "outputId": "96ef79c7-5796-44ba-b86f-98a8c019e264"
      },
      "outputs": [
        {
          "data": {
            "text/latex": [
              "$\\displaystyle \\left[\\begin{matrix}x & y\\\\y & x\\end{matrix}\\right]$"
            ],
            "text/plain": [
              "⎡x  y⎤\n",
              "⎢    ⎥\n",
              "⎣y  x⎦"
            ]
          },
          "execution_count": 83,
          "metadata": {},
          "output_type": "execute_result"
        }
      ],
      "source": [
        "hd"
      ]
    },
    {
      "cell_type": "markdown",
      "metadata": {
        "id": "m4oDBis9L0ad"
      },
      "source": [
        "#### [*Caso autovalor único*] \n",
        "\n",
        "Ahora, en el código de abajo cambiar \"homogenea(A)\" por \"hd\" "
      ]
    },
    {
      "cell_type": "code",
      "execution_count": null,
      "metadata": {
        "id": "9_olRq22L0ad"
      },
      "outputs": [],
      "source": [
        "#Solucion particular\n",
        "\n",
        "#Matriz fundamental de soluciones\n",
        "h=homogenea(A)\n",
        "\n",
        "v1=h[0]\n",
        "v2=h[1]\n",
        "Q=Matrix([[v1,v2]])\n",
        "#Le calculamos la inversa\n",
        "T=Q.inv()\n",
        "#Hallamos el vector C prima.\n",
        "C= T*b\n",
        "C1P=C[0]\n",
        "C2P=C[1]\n",
        " #Integramos para obtener las constantes\n",
        "C1= C1P.integrate(t)\n",
        "C2= C2P.integrate(t)\n",
        "\n",
        "xp=C1*h[0] + C2 * h[1]\n",
        "xh= α* h[0] + β* h[1]\n",
        "if sist_homog == \"true\":\n",
        "    xg=xh\n",
        "elif sist_homog != \"true\":\n",
        "    xg=xh + xp\n"
      ]
    },
    {
      "cell_type": "markdown",
      "metadata": {
        "id": "K2_6IiuVL0ad"
      },
      "source": [
        "Chequear si la matriz fundamental y el vector b son correctos"
      ]
    },
    {
      "cell_type": "code",
      "execution_count": null,
      "metadata": {
        "id": "EFfZjm9dL0ad",
        "outputId": "f0a4a228-7d3b-4966-a30b-673dc4b6d895"
      },
      "outputs": [
        {
          "data": {
            "text/latex": [
              "$\\displaystyle \\left[\\begin{matrix}- e^{t} & - \\frac{e^{2 t}}{2}\\\\e^{t} & e^{2 t}\\end{matrix}\\right]$"
            ],
            "text/plain": [
              "⎡       2⋅t ⎤\n",
              "⎢  t  -ℯ    ⎥\n",
              "⎢-ℯ   ──────⎥\n",
              "⎢       2   ⎥\n",
              "⎢           ⎥\n",
              "⎢ t     2⋅t ⎥\n",
              "⎣ℯ     ℯ    ⎦"
            ]
          },
          "execution_count": 11,
          "metadata": {},
          "output_type": "execute_result"
        }
      ],
      "source": [
        "Q"
      ]
    },
    {
      "cell_type": "code",
      "execution_count": null,
      "metadata": {
        "scrolled": true,
        "id": "l6MMnc5QL0ad",
        "outputId": "1007a898-c93b-40f0-929e-6a42146a1479"
      },
      "outputs": [
        {
          "data": {
            "text/latex": [
              "$\\displaystyle \\left[\\begin{matrix}2\\\\t\\end{matrix}\\right]$"
            ],
            "text/plain": [
              "⎡2⎤\n",
              "⎢ ⎥\n",
              "⎣t⎦"
            ]
          },
          "execution_count": 12,
          "metadata": {},
          "output_type": "execute_result"
        }
      ],
      "source": [
        "b"
      ]
    },
    {
      "cell_type": "markdown",
      "metadata": {
        "id": "1Dx3HQl8L0ad"
      },
      "source": [
        "Para calcular C1' y C2'utilizamos la matriz inversa de Q: \n",
        "\n",
        "\n",
        "$$ \\ \\vec C '(t) = \\vec Q (t)^{-1}.\\vec \\beta (t) $$\n",
        "\n",
        "\n",
        "$Q^{-1}$ ="
      ]
    },
    {
      "cell_type": "code",
      "execution_count": null,
      "metadata": {
        "id": "I7reJBA_L0ad",
        "outputId": "9031b4d7-bb65-4ca5-bad5-4055a0d9b539"
      },
      "outputs": [
        {
          "data": {
            "text/latex": [
              "$\\displaystyle \\left[\\begin{matrix}- 2 e^{- t} & - e^{- t}\\\\2 e^{- 2 t} & 2 e^{- 2 t}\\end{matrix}\\right]$"
            ],
            "text/plain": [
              "⎡    -t      -t  ⎤\n",
              "⎢-2⋅ℯ      -ℯ    ⎥\n",
              "⎢                ⎥\n",
              "⎢   -2⋅t     -2⋅t⎥\n",
              "⎣2⋅ℯ      2⋅ℯ    ⎦"
            ]
          },
          "execution_count": 14,
          "metadata": {},
          "output_type": "execute_result"
        }
      ],
      "source": [
        "T "
      ]
    },
    {
      "cell_type": "markdown",
      "metadata": {
        "id": "G-il11cTL0ae"
      },
      "source": [
        "Calculamos C1' y C2':"
      ]
    },
    {
      "cell_type": "code",
      "execution_count": null,
      "metadata": {
        "id": "jqbsfYD4L0ae",
        "outputId": "c2e0df89-708e-47fb-b03c-ba8a009566c8"
      },
      "outputs": [
        {
          "data": {
            "image/png": "[encoded data removed]",
            "text/latex": [
              "$\\displaystyle \\left( - t e^{- t} - 4 e^{- t}, \\  2 t e^{- 2 t} + 4 e^{- 2 t}\\right)$"
            ],
            "text/plain": [
              "⎛     -t      -t       -2⋅t      -2⋅t⎞\n",
              "⎝- t⋅ℯ   - 4⋅ℯ  , 2⋅t⋅ℯ     + 4⋅ℯ    ⎠"
            ]
          },
          "execution_count": 15,
          "metadata": {},
          "output_type": "execute_result"
        }
      ],
      "source": [
        "C1P ,C2P"
      ]
    },
    {
      "cell_type": "markdown",
      "metadata": {
        "id": "ROEVHy5cL0ae"
      },
      "source": [
        "Integrando, las constantes C1 y C2 nos quedan como: "
      ]
    },
    {
      "cell_type": "code",
      "execution_count": null,
      "metadata": {
        "scrolled": false,
        "id": "QflID_CzL0ae",
        "outputId": "4d3c4f79-e943-4469-eae6-ace60c05b91c"
      },
      "outputs": [
        {
          "data": {
            "image/png": "[encoded data removed]",
            "text/latex": [
              "$\\displaystyle \\left( \\left(t + 5\\right) e^{- t}, \\  \\frac{\\left(- 2 t - 5\\right) e^{- 2 t}}{2}\\right)$"
            ],
            "text/plain": [
              "⎛                         -2⋅t⎞\n",
              "⎜         -t  (-2⋅t - 5)⋅ℯ    ⎟\n",
              "⎜(t + 5)⋅ℯ  , ────────────────⎟\n",
              "⎝                    2        ⎠"
            ]
          },
          "execution_count": 16,
          "metadata": {},
          "output_type": "execute_result"
        }
      ],
      "source": [
        "C1,C2"
      ]
    },
    {
      "cell_type": "markdown",
      "metadata": {
        "id": "OFvTvoQ4L0ae"
      },
      "source": [
        "## Finalmente:"
      ]
    },
    {
      "cell_type": "markdown",
      "metadata": {
        "id": "V9F1E_WTL0ae"
      },
      "source": [
        "#### Solución homogénea\n",
        "La solucion homogenea nos queda como:"
      ]
    },
    {
      "cell_type": "code",
      "execution_count": null,
      "metadata": {
        "scrolled": false,
        "id": "k1VPYsPCL0af",
        "outputId": "8e806826-e050-4a41-ff09-41f1938f213f"
      },
      "outputs": [
        {
          "data": {
            "text/latex": [
              "$\\displaystyle \\left[\\begin{matrix}- α e^{t} - \\frac{β e^{2 t}}{2}\\\\α e^{t} + β e^{2 t}\\end{matrix}\\right]$"
            ],
            "text/plain": [
              "⎡            2⋅t⎤\n",
              "⎢     t   β⋅ℯ   ⎥\n",
              "⎢- α⋅ℯ  - ──────⎥\n",
              "⎢           2   ⎥\n",
              "⎢               ⎥\n",
              "⎢    t      2⋅t ⎥\n",
              "⎣ α⋅ℯ  + β⋅ℯ    ⎦"
            ]
          },
          "execution_count": 17,
          "metadata": {},
          "output_type": "execute_result"
        }
      ],
      "source": [
        "xh"
      ]
    },
    {
      "cell_type": "markdown",
      "metadata": {
        "id": "BMEV7ko7L0af"
      },
      "source": [
        "Con α y β constantes de integracion."
      ]
    },
    {
      "cell_type": "markdown",
      "metadata": {
        "id": "tRYk7fXVL0af"
      },
      "source": [
        "#### Solución particular\n",
        "Introduciendo C1 y C2 en la ecuacion de variacion de las constantes,la solucion particular nos queda como:"
      ]
    },
    {
      "cell_type": "code",
      "execution_count": null,
      "metadata": {
        "scrolled": true,
        "id": "MP29nzpmL0af",
        "outputId": "32b7281e-985f-4576-ee25-dd472749df4c"
      },
      "outputs": [
        {
          "data": {
            "text/latex": [
              "$\\displaystyle \\left[\\begin{matrix}- \\frac{t}{2} - \\frac{15}{4}\\\\\\frac{5}{2}\\end{matrix}\\right]$"
            ],
            "text/plain": [
              "⎡  t   15⎤\n",
              "⎢- ─ - ──⎥\n",
              "⎢  2   4 ⎥\n",
              "⎢        ⎥\n",
              "⎣  5/2   ⎦"
            ]
          },
          "execution_count": 18,
          "metadata": {},
          "output_type": "execute_result"
        }
      ],
      "source": [
        "xp"
      ]
    },
    {
      "cell_type": "markdown",
      "metadata": {
        "id": "lD8xN2FJL0af"
      },
      "source": [
        "####  Solución general \n",
        "La solucion general nos queda como:"
      ]
    },
    {
      "cell_type": "code",
      "execution_count": null,
      "metadata": {
        "id": "-CCyloCLL0af",
        "outputId": "8b5a3c92-7f25-4f46-c398-387765863402"
      },
      "outputs": [
        {
          "data": {
            "text/latex": [
              "$\\displaystyle \\left[\\begin{matrix}- \\frac{t}{2} - α e^{t} - \\frac{β e^{2 t}}{2} - \\frac{15}{4}\\\\α e^{t} + β e^{2 t} + \\frac{5}{2}\\end{matrix}\\right]$"
            ],
            "text/plain": [
              "⎡                2⋅t     ⎤\n",
              "⎢  t      t   β⋅ℯ      15⎥\n",
              "⎢- ─ - α⋅ℯ  - ────── - ──⎥\n",
              "⎢  2            2      4 ⎥\n",
              "⎢                        ⎥\n",
              "⎢      t      2⋅t   5    ⎥\n",
              "⎢   α⋅ℯ  + β⋅ℯ    + ─    ⎥\n",
              "⎣                   2    ⎦"
            ]
          },
          "execution_count": 19,
          "metadata": {},
          "output_type": "execute_result"
        }
      ],
      "source": [
        "xg"
      ]
    },
    {
      "cell_type": "markdown",
      "metadata": {
        "id": "A4cn4ByiL0af"
      },
      "source": [
        "Con α y β constantes de integracion. \n",
        "\n",
        "##### Nota:  \n",
        "Verificar que la calculadora esté en el caso que usted tiene. (\"modo homogeneo\" o \"no homogeneo\")."
      ]
    },
    {
      "cell_type": "markdown",
      "metadata": {
        "id": "sxR6PxkoL0ag"
      },
      "source": [
        "#### Condiciones iniciales"
      ]
    },
    {
      "cell_type": "code",
      "execution_count": null,
      "metadata": {
        "id": "yf7pQ0s1L0ag"
      },
      "outputs": [],
      "source": [
        "vci=Matrix((2,-3)) # vector de condiciones iniciales\n",
        "to= 0 # tiempo para el que se cumplen condiciones iniciales"
      ]
    },
    {
      "cell_type": "code",
      "execution_count": null,
      "metadata": {
        "id": "u3FcWhIVL0ag"
      },
      "outputs": [],
      "source": [
        "#sustituimos en la solucion general el vector de condiciones iniciales \"Vci\" a tiempo inicial \"to\"\n",
        "acs=xg[0].subs(t,to) \n",
        "bcs=xg[1].subs(t,to)\n"
      ]
    },
    {
      "cell_type": "markdown",
      "metadata": {
        "id": "q1ZGymODL0ag"
      },
      "source": [
        "Las constantes de integracion quedan definidas por las condiciones iniciales que ud. ingresó :"
      ]
    },
    {
      "cell_type": "code",
      "execution_count": null,
      "metadata": {
        "id": "toiM8jbzL0ag",
        "outputId": "f85cd2f3-2213-435c-c638-1f7f7a4cfafd"
      },
      "outputs": [
        {
          "data": {
            "image/png": "[encoded data removed]",
            "text/latex": [
              "$\\displaystyle \\left\\{ α : - \\frac{22}{7}, \\  β : \\frac{1}{7}\\right\\}$"
            ],
            "text/plain": [
              "{α: -22/7, β: 1/7}"
            ]
          },
          "execution_count": 102,
          "metadata": {},
          "output_type": "execute_result"
        }
      ],
      "source": [
        "solve([acs - vci[0],bcs-vci[1]],[α,β])\n"
      ]
    },
    {
      "cell_type": "code",
      "execution_count": null,
      "metadata": {
        "id": "y4AUQEYnL0ag"
      },
      "outputs": [],
      "source": []
    }
  ],
  "metadata": {
    "kernelspec": {
      "display_name": "Python 3",
      "language": "python",
      "name": "python3"
    },
    "language_info": {
      "codemirror_mode": {
        "name": "ipython",
        "version": 3
      },
      "file_extension": ".py",
      "mimetype": "text/x-python",
      "name": "python",
      "nbconvert_exporter": "python",
      "pygments_lexer": "ipython3",
      "version": "3.8.3"
    },
    "colab": {
      "provenance": [],
      "include_colab_link": true
    }
  },
  "nbformat": 4,
  "nbformat_minor": 0
}