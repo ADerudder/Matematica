{
  "cells": [
    {
      "cell_type": "markdown",
      "metadata": {
        "id": "view-in-github",
        "colab_type": "text"
      },
      "source": [
        "<a href=\"https://colab.research.google.com/github/ADerudder/Matematica/blob/main/Rotor%2C_divergencia_y_campos_conservativos.ipynb\" target=\"_parent\"><img src=\"https://colab.research.google.com/assets/colab-badge.svg\" alt=\"Open In Colab\"/></a>"
      ]
    },
    {
      "cell_type": "markdown",
      "metadata": {
        "id": "6WNPbwbFNLi2"
      },
      "source": [
        "# Rotor, divergencia y campos conservativos \n",
        "\n",
        "Este programa tiene la finalidad de facilitar las labores a la hora de trabajar con campos vectoriales.\n",
        "\n",
        "\n",
        "### Uso del programa\n",
        "\n",
        "Para utilizarlo solo basta con cargarle nuestro campo vectorial y correrlo, el programa nos devolvera el rotor , la divergencia, nos dira si nuestro campo es conservativo, y en caso de serlo, nos facilitara hallar la funcion escalar asociada."
      ]
    },
    {
      "cell_type": "code",
      "execution_count": null,
      "metadata": {
        "id": "cFGjkvCjNLi4",
        "outputId": "2efaa592-c709-4b42-fb86-98a8f5ecb84b"
      },
      "outputs": [
        {
          "name": "stdout",
          "output_type": "stream",
          "text": [
            "IPython console for SymPy 1.6.1 (Python 3.8.3-64-bit) (ground types: gmpy)\n",
            "\n",
            "These commands were executed:\n",
            ">>> from __future__ import division\n",
            ">>> from sympy import *\n",
            ">>> x, y, z, t = symbols('x y z t')\n",
            ">>> k, m, n = symbols('k m n', integer=True)\n",
            ">>> f, g, h = symbols('f g h', cls=Function)\n",
            ">>> init_printing()\n",
            "\n",
            "Documentation can be found at https://docs.sympy.org/1.6.1/\n",
            "\n"
          ]
        }
      ],
      "source": [
        "#Importamos Sympy\n",
        "\n",
        "from sympy import init_session\n",
        "init_session( use_latex = True)"
      ]
    },
    {
      "cell_type": "markdown",
      "metadata": {
        "id": "ohhYKVtuNLi6"
      },
      "source": [
        "Nuestro campo F tiene la forma: \n",
        "\n",
        "$$ \\vec{F}=(F_{1}(x,y,z) \\ , \\ F_{2}(x,y,z) \\ , \\ F_{3}(x,y,z)) $$\n",
        "\n",
        "A continuacion se deja la parte de codigo a completar.\n",
        "\n",
        "#### Observaciones\n",
        "\n",
        "Estamos utilizando la libreria Sympy, con lo cual:\n",
        "* Las funciones trigonometricas van sin np.( numpy ), ej.: sin(x)\n",
        "* Los numeros como e y pi ya estan cargados, no se debe utilizar el np."
      ]
    },
    {
      "cell_type": "code",
      "execution_count": null,
      "metadata": {
        "id": "jCIs9DYcNLi6"
      },
      "outputs": [],
      "source": [
        "a,F,t=symbols('a,F,t')\n",
        "x,y,z= symbols(\"x,y,z\",real=\"True\")\n",
        "################################\n",
        "#Completar con las componentes del campo\n",
        "\n",
        "F1=-x/((x**2 +y**2 +z**2)**(3/2)) * sin(x)\n",
        "\n",
        "F2= -y/((x**2 +y**2 +z**2)**(3/2))\n",
        "\n",
        "F3= -z/((x**2 +y**2 +z**2)**(3/2))\n",
        "\n",
        "########################\n",
        "F=(F1 ,F2 ,F3)\n"
      ]
    },
    {
      "cell_type": "markdown",
      "metadata": {
        "id": "T95x-2C6NLi6"
      },
      "source": [
        "\n",
        "#####  *Chequear si el campo ingresado es correcto*"
      ]
    },
    {
      "cell_type": "code",
      "execution_count": null,
      "metadata": {
        "scrolled": true,
        "id": "6exX73g0NLi7",
        "outputId": "b9990817-b070-40fa-e65a-15f0d63525a8"
      },
      "outputs": [
        {
          "data": {
            "image/png": "[encoded data removed]",
            "text/latex": [
              "$\\displaystyle \\left( - \\frac{x \\sin{\\left(x \\right)}}{\\left(x^{2} + y^{2} + z^{2}\\right)^{1.5}}, \\  - \\frac{y}{\\left(x^{2} + y^{2} + z^{2}\\right)^{1.5}}, \\  - \\frac{z}{\\left(x^{2} + y^{2} + z^{2}\\right)^{1.5}}\\right)$"
            ],
            "text/plain": [
              "⎛                 -1.5                          -1.5                   -1.5⎞\n",
              "⎜   ⎛ 2    2    2⎞                ⎛ 2    2    2⎞         ⎛ 2    2    2⎞    ⎟\n",
              "⎝-x⋅⎝x  + y  + z ⎠    ⋅sin(x), -y⋅⎝x  + y  + z ⎠    , -z⋅⎝x  + y  + z ⎠    ⎠"
            ]
          },
          "execution_count": 10,
          "metadata": {},
          "output_type": "execute_result"
        }
      ],
      "source": [
        "F"
      ]
    },
    {
      "cell_type": "markdown",
      "metadata": {
        "id": "ehFvKcwgNLi7"
      },
      "source": [
        "##### Alternativamente puede expresarse como: "
      ]
    },
    {
      "cell_type": "code",
      "execution_count": null,
      "metadata": {
        "id": "1nUEyRwkNLi7",
        "outputId": "172e004a-fe2d-4d59-9965-aa948364b80d"
      },
      "outputs": [
        {
          "data": {
            "image/png": "[encoded data removed]",
            "text/latex": [
              "$\\displaystyle \\left( - \\frac{x \\sin{\\left(x \\right)}}{\\left(x^{2} + y^{2} + z^{2}\\right)^{1.5}}, \\  - \\frac{y}{\\left(x^{2} + y^{2} + z^{2}\\right)^{1.5}}, \\  - \\frac{z}{\\left(x^{2} + y^{2} + z^{2}\\right)^{1.5}}\\right)$"
            ],
            "text/plain": [
              "⎛                 -1.5                          -1.5                   -1.5⎞\n",
              "⎜   ⎛ 2    2    2⎞                ⎛ 2    2    2⎞         ⎛ 2    2    2⎞    ⎟\n",
              "⎝-x⋅⎝x  + y  + z ⎠    ⋅sin(x), -y⋅⎝x  + y  + z ⎠    , -z⋅⎝x  + y  + z ⎠    ⎠"
            ]
          },
          "execution_count": 11,
          "metadata": {},
          "output_type": "execute_result"
        }
      ],
      "source": [
        "simplify(F1) , simplify(F2), simplify(F3)"
      ]
    },
    {
      "cell_type": "markdown",
      "metadata": {
        "id": "P2V3euFWNLi7"
      },
      "source": [
        "###  *Codigo* "
      ]
    },
    {
      "cell_type": "code",
      "execution_count": null,
      "metadata": {
        "id": "7KW07V7hNLi7"
      },
      "outputs": [],
      "source": [
        "\n",
        "GradienteF= (F1.diff(x),F2.diff(y),F3.diff(z))\n",
        "rot=(F3.diff(y)-F2.diff(z),F1.diff(z)-F3.diff(x),F2.diff(x)-F1.diff(y))\n",
        "div=(F1.diff(x)+F2.diff(y)+F3.diff(z))\n",
        "\n",
        "def funcion_escalar(F):\n",
        "    A=(F3.diff(y)-F2.diff(z),F1.diff(z)-F3.diff(x),F2.diff(x)-F1.diff(y))\n",
        "    a1= F1.integrate(x)\n",
        "    a2= F2.integrate(y)\n",
        "    a3= F3.integrate(z)\n",
        "    return(a1,a2,a3)\n",
        "    \n",
        "#Definimos una funcion que nos calcula la funcion escalar asociada\n",
        "def funcion(F):\n",
        "    A= funcion_escalar(F)\n",
        "    Ñ=(F3.diff(y)-F2.diff(z),F1.diff(z)-F3.diff(x),F2.diff(x)-F1.diff(y)) #Aca establecemos que solo se ejecute si el rotor es 0\n",
        "    if Ñ==(0,0,0):\n",
        "        X= A[0]\n",
        "        Y= A[1]\n",
        "        Z= A[2]\n",
        "        #calculamos el resto que depende de x y de xz\n",
        "        C=X-Y\n",
        "        M=C.diff(x)\n",
        "        N=M.integrate(x)\n",
        "        H=N.diff(z)\n",
        "        zx=H.integrate(z)\n",
        "        cx=(X-Y-Z).diff(x)\n",
        "        CX=cx.integrate(x)\n",
        "\n",
        "        #Calculamos lo que depende de y, y lo que depende de yz\n",
        "        D=Y-X\n",
        "        E=D.diff(y)\n",
        "        F=E.integrate(y)\n",
        "        G=F.diff(z)\n",
        "        yz=G.integrate(z)\n",
        "        cy=(Y-X-Z).diff(y)\n",
        "        CY=cy.integrate(y)\n",
        "\n",
        "\n",
        "        #Calculamos lo que depende de xy\n",
        "        pe=Y-Z\n",
        "        pen=pe.diff(y)\n",
        "        pene=pen.integrate(y)\n",
        "        a=pene.diff(x)\n",
        "        xy=a.integrate(x)\n",
        "\n",
        "        #Calculamos lo que depende de z\n",
        "        cz= (Z-X-Y).diff(z)\n",
        "        CZ= cz.integrate(z)\n",
        "        #Calculamos el valor de la funcion\n",
        "        funcion=zx+yz+xy+CY+CX+CZ\n",
        "        return(funcion)\n",
        "  \n",
        "\n"
      ]
    },
    {
      "cell_type": "markdown",
      "metadata": {
        "id": "1F1gbkNcNLi8"
      },
      "source": [
        "### Rotor \n",
        "\n",
        "$$ Rotor\\ de \\ F= \\nabla \\ x \\ F = \\ (\\ \\frac{\\partial F_{3}}{\\partial y}-\\frac{\\partial F_{2}}{\\partial z} \\ ,\\ \\frac{\\partial F_{1}}{\\partial z}-\\frac{\\partial F_{3}}{\\partial x} \\ ,\\ \\frac{\\partial F_{2}}{\\partial x}-\\frac{\\partial F_{1}}{\\partial y} \\ ): $$"
      ]
    },
    {
      "cell_type": "code",
      "execution_count": null,
      "metadata": {
        "id": "pu9gnMTbNLi8",
        "outputId": "cb306b7b-888a-456f-ae82-5ab582a65ba3"
      },
      "outputs": [
        {
          "data": {
            "image/png": "[encoded data removed]",
            "text/latex": [
              "$\\displaystyle \\left( 0, \\  \\frac{3.0 x z \\sin{\\left(x \\right)}}{\\left(x^{2} + y^{2} + z^{2}\\right)^{2.5}} - \\frac{3.0 x z}{\\left(x^{2} + y^{2} + z^{2}\\right)^{2.5}}, \\  - \\frac{3.0 x y \\sin{\\left(x \\right)}}{\\left(x^{2} + y^{2} + z^{2}\\right)^{2.5}} + \\frac{3.0 x y}{\\left(x^{2} + y^{2} + z^{2}\\right)^{2.5}}\\right)$"
            ],
            "text/plain": [
              "⎛                         -2.5                                -2.5            \n",
              "⎜           ⎛ 2    2    2⎞                      ⎛ 2    2    2⎞                \n",
              "⎝0, 3.0⋅x⋅z⋅⎝x  + y  + z ⎠    ⋅sin(x) - 3.0⋅x⋅z⋅⎝x  + y  + z ⎠    , - 3.0⋅x⋅y⋅\n",
              "\n",
              "              -2.5                                -2.5⎞\n",
              "⎛ 2    2    2⎞                      ⎛ 2    2    2⎞    ⎟\n",
              "⎝x  + y  + z ⎠    ⋅sin(x) + 3.0⋅x⋅y⋅⎝x  + y  + z ⎠    ⎠"
            ]
          },
          "execution_count": 13,
          "metadata": {},
          "output_type": "execute_result"
        }
      ],
      "source": [
        "rot"
      ]
    },
    {
      "cell_type": "markdown",
      "metadata": {
        "id": "x9CffVWWNLi9"
      },
      "source": [
        "##### Alternativamente puede expresarse como: \n"
      ]
    },
    {
      "cell_type": "code",
      "execution_count": null,
      "metadata": {
        "scrolled": true,
        "id": "fx7lPO-fNLi9",
        "outputId": "3e818826-acdc-4262-86c9-26d53a332a02"
      },
      "outputs": [
        {
          "data": {
            "image/png": "[encoded data removed]",
            "text/latex": [
              "$\\displaystyle \\left( 0, \\  0, \\  0\\right)$"
            ],
            "text/plain": [
              "(0, 0, 0)"
            ]
          },
          "execution_count": 7,
          "metadata": {},
          "output_type": "execute_result"
        }
      ],
      "source": [
        "simplify(rot[0]) , simplify(rot[1]), simplify(rot[2])"
      ]
    },
    {
      "cell_type": "markdown",
      "metadata": {
        "id": "4AYMFGebNLi9"
      },
      "source": [
        "#### OJO: Revisar el resultado\n",
        "\n",
        "Puede llegar a ser conservativo si el programa no puede simplificar del todo la expresion. "
      ]
    },
    {
      "cell_type": "markdown",
      "metadata": {
        "id": "RNz8liL3NLi9"
      },
      "source": [
        "\n",
        "## Divergencia \n",
        "\n",
        "$$ Divergencia\\ de \\ F = \\ \\nabla . F = \\frac{\\partial F_{1}}{\\partial x} \\ + \\ \\frac{\\partial F_{2}}{\\partial y} \\ + \\  \\frac{\\partial F_{3}}{\\partial z} $$"
      ]
    },
    {
      "cell_type": "code",
      "execution_count": null,
      "metadata": {
        "scrolled": true,
        "id": "RFOrZbYkNLi9",
        "outputId": "3b0a8dbe-d351-496a-9fbb-a7db5aea6632"
      },
      "outputs": [
        {
          "data": {
            "image/png": "[encoded data removed]",
            "text/latex": [
              "$\\displaystyle \\frac{3.0 x^{2}}{\\left(x^{2} + y^{2} + z^{2}\\right)^{2.5}} + \\frac{3.0 y^{2}}{\\left(x^{2} + y^{2} + z^{2}\\right)^{2.5}} + \\frac{3.0 z^{2}}{\\left(x^{2} + y^{2} + z^{2}\\right)^{2.5}} - \\frac{3}{\\left(x^{2} + y^{2} + z^{2}\\right)^{1.5}}$"
            ],
            "text/plain": [
              "                     -2.5                        -2.5                        -\n",
              "     2 ⎛ 2    2    2⎞            2 ⎛ 2    2    2⎞            2 ⎛ 2    2    2⎞ \n",
              "3.0⋅x ⋅⎝x  + y  + z ⎠     + 3.0⋅y ⋅⎝x  + y  + z ⎠     + 3.0⋅z ⋅⎝x  + y  + z ⎠ \n",
              "\n",
              "2.5                   -1.5\n",
              "        ⎛ 2    2    2⎞    \n",
              "    - 3⋅⎝x  + y  + z ⎠    "
            ]
          },
          "execution_count": 8,
          "metadata": {},
          "output_type": "execute_result"
        }
      ],
      "source": [
        "div"
      ]
    },
    {
      "cell_type": "markdown",
      "metadata": {
        "id": "L4Eee6NANLi-"
      },
      "source": [
        "Tambien puede expresarse como :"
      ]
    },
    {
      "cell_type": "code",
      "execution_count": null,
      "metadata": {
        "id": "DJdyU8GGNLi-",
        "outputId": "41cfd162-27b9-4958-819b-f65a5eecdcad"
      },
      "outputs": [
        {
          "data": {
            "image/png": "[encoded data removed]",
            "text/latex": [
              "$\\displaystyle 0$"
            ],
            "text/plain": [
              "0"
            ]
          },
          "execution_count": 9,
          "metadata": {},
          "output_type": "execute_result"
        }
      ],
      "source": [
        "simplify(div)"
      ]
    },
    {
      "cell_type": "markdown",
      "metadata": {
        "id": "FDW37mQaNLi-"
      },
      "source": [
        "### Función escalar asociada\n",
        "\n",
        "Si el rotor dio (0,0,0) su campo es conservativo y probablemente quiera conocer la funcion escalar f tal que \n",
        "\n",
        "$$ F= \\nabla f$$\n",
        "\n",
        "A continuacion f:"
      ]
    },
    {
      "cell_type": "code",
      "execution_count": null,
      "metadata": {
        "id": "-HYJJeDpNLi-",
        "outputId": "edb051ba-bae3-4cae-c3c0-16e50916cd94"
      },
      "outputs": [
        {
          "data": {
            "image/png": "[encoded data removed]",
            "text/latex": [
              "$\\displaystyle \\left( - \\operatorname{atan}{\\left(\\frac{x}{y} \\right)}, \\  \\operatorname{atan}{\\left(\\frac{y}{x} \\right)}, \\  t z\\right)$"
            ],
            "text/plain": [
              "⎛     ⎛x⎞      ⎛y⎞     ⎞\n",
              "⎜-atan⎜─⎟, atan⎜─⎟, t⋅z⎟\n",
              "⎝     ⎝y⎠      ⎝x⎠     ⎠"
            ]
          },
          "execution_count": 39,
          "metadata": {},
          "output_type": "execute_result"
        }
      ],
      "source": [
        "funcion_escalar(F)"
      ]
    },
    {
      "cell_type": "markdown",
      "metadata": {
        "id": "fmRik-4nNLi-"
      },
      "source": [
        "Cabe destacar que para obtener efectivamente la funcion escalar f, se debe analizar coordenda a coordenada y agregar los términos constantes en relacion a la variable.\n",
        "Si el campo no es conservativo no nos devolvera ninguna f."
      ]
    },
    {
      "cell_type": "markdown",
      "metadata": {
        "id": "vMYscScINLi-"
      },
      "source": [
        "### Experimental\n",
        "\n",
        "Es posible que la funcion escalar f sea :"
      ]
    },
    {
      "cell_type": "code",
      "execution_count": null,
      "metadata": {
        "id": "lljJrXIzNLi_"
      },
      "outputs": [],
      "source": [
        "funcion(F)"
      ]
    },
    {
      "cell_type": "markdown",
      "metadata": {
        "id": "YR8Q3gp1NLi_"
      },
      "source": [
        "*No se confie al 100% de este último resultado* "
      ]
    },
    {
      "cell_type": "code",
      "execution_count": null,
      "metadata": {
        "id": "RemSUU6YNLi_"
      },
      "outputs": [],
      "source": [
        "qe=F1.diff(y)"
      ]
    },
    {
      "cell_type": "code",
      "execution_count": null,
      "metadata": {
        "id": "LjBJ6vRxNLi_"
      },
      "outputs": [],
      "source": [
        "tt=F2.diff(x)"
      ]
    },
    {
      "cell_type": "code",
      "execution_count": null,
      "metadata": {
        "id": "BoswHMCRNLi_",
        "outputId": "38b2a3d0-9fe8-4547-d3a7-f865da83d4bb"
      },
      "outputs": [
        {
          "data": {
            "image/png": "[encoded data removed]",
            "text/latex": [
              "$\\displaystyle - \\frac{2 x^{2}}{\\left(x^{2} + y^{2}\\right)^{2}} - \\frac{2 y^{2}}{\\left(x^{2} + y^{2}\\right)^{2}} + \\frac{2}{x^{2} + y^{2}}$"
            ],
            "text/plain": [
              "        2            2             \n",
              "     2⋅x          2⋅y          2   \n",
              "- ────────── - ────────── + ───────\n",
              "           2            2    2    2\n",
              "  ⎛ 2    2⎞    ⎛ 2    2⎞    x  + y \n",
              "  ⎝x  + y ⎠    ⎝x  + y ⎠           "
            ]
          },
          "execution_count": 59,
          "metadata": {},
          "output_type": "execute_result"
        }
      ],
      "source": [
        "tt-qe"
      ]
    },
    {
      "cell_type": "code",
      "execution_count": null,
      "metadata": {
        "id": "eH65c3EtNLi_",
        "outputId": "ac8a0fc1-7787-47cc-8ada-b723d0d62f94"
      },
      "outputs": [
        {
          "data": {
            "image/png": "[encoded data removed]",
            "text/latex": [
              "$\\displaystyle \\frac{2 y^{2}}{\\left(x^{2} + y^{2}\\right)^{2}} - \\frac{1}{x^{2} + y^{2}}$"
            ],
            "text/plain": [
              "      2             \n",
              "   2⋅y          1   \n",
              "────────── - ───────\n",
              "         2    2    2\n",
              "⎛ 2    2⎞    x  + y \n",
              "⎝x  + y ⎠           "
            ]
          },
          "execution_count": 60,
          "metadata": {},
          "output_type": "execute_result"
        }
      ],
      "source": [
        "qe"
      ]
    },
    {
      "cell_type": "code",
      "execution_count": null,
      "metadata": {
        "id": "p9sU7JzsNLi_"
      },
      "outputs": [],
      "source": []
    }
  ],
  "metadata": {
    "kernelspec": {
      "display_name": "Python 3",
      "language": "python",
      "name": "python3"
    },
    "language_info": {
      "codemirror_mode": {
        "name": "ipython",
        "version": 3
      },
      "file_extension": ".py",
      "mimetype": "text/x-python",
      "name": "python",
      "nbconvert_exporter": "python",
      "pygments_lexer": "ipython3",
      "version": "3.8.3"
    },
    "colab": {
      "provenance": [],
      "include_colab_link": true
    }
  },
  "nbformat": 4,
  "nbformat_minor": 0
}
