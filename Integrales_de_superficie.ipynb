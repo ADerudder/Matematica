{
  "cells": [
    {
      "cell_type": "markdown",
      "metadata": {
        "id": "view-in-github",
        "colab_type": "text"
      },
      "source": [
        "<a href=\"https://colab.research.google.com/github/ADerudder/Matematica/blob/main/Integrales_de_superficie.ipynb\" target=\"_parent\"><img src=\"https://colab.research.google.com/assets/colab-badge.svg\" alt=\"Open In Colab\"/></a>"
      ]
    },
    {
      "cell_type": "markdown",
      "metadata": {
        "id": "CK1wUk6_M4WT"
      },
      "source": [
        "# Integrales sobre superficies\n",
        "\n",
        "\n",
        "\n",
        "\n",
        "## Calculadora de integral de superficie\n",
        "\n",
        "Integral de un campo vectorial F sobre una superficie S.\n",
        "\n",
        "\n",
        "$$ \\iint_{S} F . ds \\ = \\iint_{D} \\ F(T (u,v)) \\ . \\ T_{u} \\ x \\ T_{v} \\ du . dv $$\n",
        "\n",
        "Donde T es una parametrizacion regular de la superficie."
      ]
    },
    {
      "cell_type": "markdown",
      "metadata": {
        "id": "2CnGymPTM4WW"
      },
      "source": [
        "*Observación:* Antes de cualquier cosa, correr la celda de abajo"
      ]
    },
    {
      "cell_type": "code",
      "execution_count": null,
      "metadata": {
        "id": "h-bNLk8lM4WW",
        "outputId": "db5d840c-af52-4468-9dda-8994eada87db"
      },
      "outputs": [
        {
          "name": "stdout",
          "output_type": "stream",
          "text": [
            "IPython console for SymPy 1.6.1 (Python 3.8.3-64-bit) (ground types: gmpy)\n",
            "\n",
            "These commands were executed:\n",
            ">>> from __future__ import division\n",
            ">>> from sympy import *\n",
            ">>> x, y, z, t = symbols('x y z t')\n",
            ">>> k, m, n = symbols('k m n', integer=True)\n",
            ">>> f, g, h = symbols('f g h', cls=Function)\n",
            ">>> init_printing()\n",
            "\n",
            "Documentation can be found at https://docs.sympy.org/1.6.1/\n",
            "\n"
          ]
        }
      ],
      "source": [
        "from sympy import init_session\n",
        "init_session( use_latex = True)"
      ]
    },
    {
      "cell_type": "markdown",
      "metadata": {
        "id": "caGr7MFmM4WY"
      },
      "source": [
        "La superficie que usted ingrese debe tener la formar.\n",
        "\n",
        "$$ T(r,t)= \\ ( \\ S_{1}(r,t), \\ S_{2}(r,t),\\ S_{3}(r,t) \\ ) $$"
      ]
    },
    {
      "cell_type": "markdown",
      "metadata": {
        "id": "6jmyOUdPM4WY"
      },
      "source": [
        "El campo F en el cual usted desea integrar la curva tiene la forma:\n",
        "\n",
        "$$ \\vec{F}=(F_{1}(x,y,z) \\ , \\ F_{2}(x,y,z) \\ , \\ F_{3}(x,y,z)) $$"
      ]
    },
    {
      "cell_type": "code",
      "execution_count": null,
      "metadata": {
        "id": "CE4X0-baM4WZ"
      },
      "outputs": [],
      "source": [
        "a,b,c,d,u,v,x,y,z,F,t,r= symbols(\"a,b,c,d,u,v,x,y,z,F,t,r\")\n",
        "rho=symbols(\"rho\",positive='true')\n",
        "#Ingrese su superficie \n",
        "\n",
        "S1=rho* cos(t)*sin(r)\n",
        "S2=rho * sin(t)*sin(r)\n",
        "S3= rho*cos(r)\n",
        "\n",
        "#Campo\n",
        "\n",
        "F1=x/((x**2 +y**2 +z**2)**(3/2))\n",
        "F2=-y/((x**2 +y**2 +z**2)**(3/2))\n",
        "F3=-z/((x**2 +y**2 +z**2)**(3/2))\n",
        "\n",
        "#Limites de integracion para r\n",
        "r1=0\n",
        "r2=pi\n",
        "\n",
        "#Limites de integracion para t\n",
        "t1=0\n",
        "t2=2* pi\n",
        "\n",
        "Superficie=Matrix((S1,S2,S3))\n",
        "F=Matrix((F1,F2,F3))\n"
      ]
    },
    {
      "cell_type": "code",
      "execution_count": null,
      "metadata": {
        "id": "BhRa-e0OM4WZ"
      },
      "outputs": [],
      "source": [
        "#Codigo: \n",
        "\n",
        "#       Faltaria hacer el camino inverso, hay que hacerlo, pero tambien es cierto que se puede lograr invirtiendo  \n",
        "# las variables , es decir, al momento de escribir la superficie poner a t en lugar de r y viceversa.\n",
        "\n",
        "#Creamos los vectores Tt y Tu\n",
        "#Tr\n",
        "S1r=S1.diff(r)\n",
        "S2r=S2.diff(r)\n",
        "S3r=S3.diff(r)\n",
        "\n",
        "Tr=Matrix((S1r,S2r,S3r)) #Vector Tr\n",
        "\n",
        "#Tt\n",
        "S1t=S1.diff(t)\n",
        "S2t=S2.diff(t)\n",
        "S3t=S3.diff(t)\n",
        "\n",
        "Tt=Matrix((S1t,S2t,S3t)) #Vector Tt\n",
        "\n",
        "Prod_vect=Tr.cross(Tt)\n",
        "\n",
        "#Evaluamos al campo en la superficie\n",
        "\n",
        "C=F1.subs(x,S1) #Vamos sustituyendo asi porque la funcion \"subs\" no acepta mas de 2 argumentos\n",
        "C1=C.subs(y,S2)\n",
        "C2=C1.subs(z,S3)\n",
        "\n",
        "D=F2.subs(x,S1)\n",
        "D1= D.subs(y,S2)\n",
        "D2=D1.subs(z,S3)\n",
        "\n",
        "E=F3.subs(x,S1)\n",
        "E1=E.subs(y,S2)\n",
        "E2=E1.subs(z,S3)\n",
        "\n",
        "\n",
        "Campo_evaluado= Matrix((C2,D2,E2))  #campo evaluado en la superficie\n",
        "\n",
        "P= Campo_evaluado.dot(Prod_vect) # Hacemos el producto \"F(T(u,t)) . Tu x Tt\"\n",
        "PS=simplify(P)\n"
      ]
    },
    {
      "cell_type": "code",
      "execution_count": null,
      "metadata": {
        "id": "VRKLVfhGM4WZ"
      },
      "outputs": [],
      "source": [
        "#Integramos de 2 maneras primero dr.dt y luego dt.dr\n",
        "#Respecto a R\n",
        "\n",
        "\n",
        "Prim0=PS.integrate(r) #Integramos con respecto a r\n",
        "DEF0=integrate(PS,(r,r1,r2)) #Definida r\n",
        "DEF0s=simplify(DEF0)"
      ]
    },
    {
      "cell_type": "code",
      "execution_count": null,
      "metadata": {
        "id": "F_E8dwxSM4Wa"
      },
      "outputs": [],
      "source": [
        "Prim1 = DEF0s.integrate(t) #ntegramos respecto a t\n",
        "DEF1=integrate(DEF0s,(t,t1,t2))# Definida t"
      ]
    },
    {
      "cell_type": "markdown",
      "metadata": {
        "id": "NwuYXSNSM4Wa"
      },
      "source": [
        "#### Chequear si la superficie es correcta: "
      ]
    },
    {
      "cell_type": "markdown",
      "metadata": {
        "id": "NWUJ4_SxM4Wa"
      },
      "source": [
        "$$ T(r,t)= \\ ( \\ S_{1}(r,t), \\ S_{2}(r,t),\\ S_{3}(r,t) \\ ) = $$"
      ]
    },
    {
      "cell_type": "code",
      "execution_count": null,
      "metadata": {
        "scrolled": true,
        "id": "Urk4Ob5VM4Wa",
        "outputId": "abb4c2fc-45bc-4849-91b8-dc5b0ab3db93"
      },
      "outputs": [
        {
          "data": {
            "text/latex": [
              "$\\displaystyle \\left[\\begin{matrix}\\rho \\sin{\\left(r \\right)} \\cos{\\left(t \\right)}\\\\\\rho \\sin{\\left(r \\right)} \\sin{\\left(t \\right)}\\\\\\rho \\cos{\\left(r \\right)}\\end{matrix}\\right]$"
            ],
            "text/plain": [
              "⎡ρ⋅sin(r)⋅cos(t)⎤\n",
              "⎢               ⎥\n",
              "⎢ρ⋅sin(r)⋅sin(t)⎥\n",
              "⎢               ⎥\n",
              "⎣   ρ⋅cos(r)    ⎦"
            ]
          },
          "execution_count": 5,
          "metadata": {},
          "output_type": "execute_result"
        }
      ],
      "source": [
        "Superficie"
      ]
    },
    {
      "cell_type": "markdown",
      "metadata": {
        "id": "2XeEP9ydM4Wb"
      },
      "source": [
        "#### Chequear si su campo es correcto: \n",
        "\n",
        "$$ \\vec{F}=(F_{1}(x,y,z) \\ , \\ F_{2}(x,y,z) \\ , \\ F_{3}(x,y,z)) = $$\n",
        "\n"
      ]
    },
    {
      "cell_type": "code",
      "execution_count": null,
      "metadata": {
        "id": "3aYRn00-M4Wb",
        "outputId": "38dce92f-e61e-45d6-8b69-4e0187b86fd2"
      },
      "outputs": [
        {
          "data": {
            "text/latex": [
              "$\\displaystyle \\left[\\begin{matrix}\\frac{x}{\\left(x^{2} + y^{2} + z^{2}\\right)^{1.5}}\\\\- \\frac{y}{\\left(x^{2} + y^{2} + z^{2}\\right)^{1.5}}\\\\- \\frac{z}{\\left(x^{2} + y^{2} + z^{2}\\right)^{1.5}}\\end{matrix}\\right]$"
            ],
            "text/plain": [
              "⎡                -1.5 ⎤\n",
              "⎢  ⎛ 2    2    2⎞     ⎥\n",
              "⎢x⋅⎝x  + y  + z ⎠     ⎥\n",
              "⎢                     ⎥\n",
              "⎢                 -1.5⎥\n",
              "⎢   ⎛ 2    2    2⎞    ⎥\n",
              "⎢-y⋅⎝x  + y  + z ⎠    ⎥\n",
              "⎢                     ⎥\n",
              "⎢                 -1.5⎥\n",
              "⎢   ⎛ 2    2    2⎞    ⎥\n",
              "⎣-z⋅⎝x  + y  + z ⎠    ⎦"
            ]
          },
          "execution_count": 6,
          "metadata": {},
          "output_type": "execute_result"
        }
      ],
      "source": [
        "F"
      ]
    },
    {
      "cell_type": "markdown",
      "metadata": {
        "id": "nlLsatKnM4Wb"
      },
      "source": [
        "Puede ir siguiendo las cuentas ya que la calculadora realiza paso por paso, o si prefiere, el resultado de la integral de superficie está al final del modulo."
      ]
    },
    {
      "cell_type": "markdown",
      "metadata": {
        "id": "YMkrhSMsM4Wc"
      },
      "source": [
        "$$ T_{r} = $$"
      ]
    },
    {
      "cell_type": "code",
      "execution_count": null,
      "metadata": {
        "id": "uo-x1dXlM4Wc",
        "outputId": "2bed3cbe-3218-4cbb-856d-0efe98c901e2"
      },
      "outputs": [
        {
          "data": {
            "text/latex": [
              "$\\displaystyle \\left[\\begin{matrix}\\rho \\cos{\\left(r \\right)} \\cos{\\left(t \\right)}\\\\\\rho \\sin{\\left(t \\right)} \\cos{\\left(r \\right)}\\\\- \\rho \\sin{\\left(r \\right)}\\end{matrix}\\right]$"
            ],
            "text/plain": [
              "⎡ρ⋅cos(r)⋅cos(t)⎤\n",
              "⎢               ⎥\n",
              "⎢ρ⋅sin(t)⋅cos(r)⎥\n",
              "⎢               ⎥\n",
              "⎣   -ρ⋅sin(r)   ⎦"
            ]
          },
          "execution_count": 7,
          "metadata": {},
          "output_type": "execute_result"
        }
      ],
      "source": [
        "Tr"
      ]
    },
    {
      "cell_type": "code",
      "execution_count": null,
      "metadata": {
        "id": "wXNAi-agM4Wc",
        "outputId": "0b794fb8-0d39-48a0-c126-34f20ccb7157"
      },
      "outputs": [
        {
          "data": {
            "image/png": "[encoded data removed]",
            "text/latex": [
              "$\\displaystyle \\frac{\\cos^{3}{\\left(x \\right)}}{3} - \\cos{\\left(x \\right)}$"
            ],
            "text/plain": [
              "   3            \n",
              "cos (x)         \n",
              "─────── - cos(x)\n",
              "   3            "
            ]
          },
          "execution_count": 17,
          "metadata": {},
          "output_type": "execute_result"
        }
      ],
      "source": [
        "oy=(sin(x))**3\n",
        "integrate(oy,x)"
      ]
    },
    {
      "cell_type": "markdown",
      "metadata": {
        "id": "p2-WTgPxM4Wc"
      },
      "source": [
        "$$ T_{t} = $$"
      ]
    },
    {
      "cell_type": "code",
      "execution_count": null,
      "metadata": {
        "scrolled": true,
        "id": "sq_7WPYXM4Wc",
        "outputId": "9b4e8a62-8f2c-479d-ce12-a98795d4567e"
      },
      "outputs": [
        {
          "data": {
            "text/latex": [
              "$\\displaystyle \\left[\\begin{matrix}- \\rho \\sin{\\left(r \\right)} \\sin{\\left(t \\right)}\\\\\\rho \\sin{\\left(r \\right)} \\cos{\\left(t \\right)}\\\\0\\end{matrix}\\right]$"
            ],
            "text/plain": [
              "⎡-ρ⋅sin(r)⋅sin(t)⎤\n",
              "⎢                ⎥\n",
              "⎢ρ⋅sin(r)⋅cos(t) ⎥\n",
              "⎢                ⎥\n",
              "⎣       0        ⎦"
            ]
          },
          "execution_count": 8,
          "metadata": {},
          "output_type": "execute_result"
        }
      ],
      "source": [
        "Tt"
      ]
    },
    {
      "cell_type": "markdown",
      "metadata": {
        "id": "OXB7K8CkM4Wd"
      },
      "source": [
        "$$ T_{r} \\ x \\ T_{t} =$$"
      ]
    },
    {
      "cell_type": "code",
      "execution_count": null,
      "metadata": {
        "scrolled": true,
        "id": "T9CwApsDM4Wd",
        "outputId": "36dc2a72-3536-436c-f9ec-84e25c11adc2"
      },
      "outputs": [
        {
          "data": {
            "text/latex": [
              "$\\displaystyle \\left[\\begin{matrix}\\rho^{2} \\sin^{2}{\\left(r \\right)} \\cos{\\left(t \\right)}\\\\\\rho^{2} \\sin^{2}{\\left(r \\right)} \\sin{\\left(t \\right)}\\\\\\rho^{2} \\sin{\\left(r \\right)} \\sin^{2}{\\left(t \\right)} \\cos{\\left(r \\right)} + \\rho^{2} \\sin{\\left(r \\right)} \\cos{\\left(r \\right)} \\cos^{2}{\\left(t \\right)}\\end{matrix}\\right]$"
            ],
            "text/plain": [
              "⎡                  2    2                           ⎤\n",
              "⎢                 ρ ⋅sin (r)⋅cos(t)                 ⎥\n",
              "⎢                                                   ⎥\n",
              "⎢                  2    2                           ⎥\n",
              "⎢                 ρ ⋅sin (r)⋅sin(t)                 ⎥\n",
              "⎢                                                   ⎥\n",
              "⎢ 2           2              2                  2   ⎥\n",
              "⎣ρ ⋅sin(r)⋅sin (t)⋅cos(r) + ρ ⋅sin(r)⋅cos(r)⋅cos (t)⎦"
            ]
          },
          "execution_count": 9,
          "metadata": {},
          "output_type": "execute_result"
        }
      ],
      "source": [
        "Prod_vect"
      ]
    },
    {
      "cell_type": "markdown",
      "metadata": {
        "id": "HjWUv8ejM4Wd"
      },
      "source": [
        "Tambien puede escribirse como:"
      ]
    },
    {
      "cell_type": "code",
      "execution_count": null,
      "metadata": {
        "id": "UTJC_skWM4Wd",
        "outputId": "a4919274-8e11-4ae8-ffef-158a81645f9d"
      },
      "outputs": [
        {
          "data": {
            "text/latex": [
              "$\\displaystyle \\left[\\begin{matrix}\\rho^{2} \\sin^{2}{\\left(r \\right)} \\cos{\\left(t \\right)}\\\\\\rho^{2} \\sin^{2}{\\left(r \\right)} \\sin{\\left(t \\right)}\\\\\\frac{\\rho^{2} \\sin{\\left(2 r \\right)}}{2}\\end{matrix}\\right]$"
            ],
            "text/plain": [
              "⎡ 2    2          ⎤\n",
              "⎢ρ ⋅sin (r)⋅cos(t)⎥\n",
              "⎢                 ⎥\n",
              "⎢ 2    2          ⎥\n",
              "⎢ρ ⋅sin (r)⋅sin(t)⎥\n",
              "⎢                 ⎥\n",
              "⎢    2            ⎥\n",
              "⎢   ρ ⋅sin(2⋅r)   ⎥\n",
              "⎢   ───────────   ⎥\n",
              "⎣        2        ⎦"
            ]
          },
          "execution_count": 10,
          "metadata": {},
          "output_type": "execute_result"
        }
      ],
      "source": [
        "simplify(Prod_vect)"
      ]
    },
    {
      "cell_type": "markdown",
      "metadata": {
        "id": "BNZ37E1RM4Wd"
      },
      "source": [
        "$$ F(T(r,t))= $$\n"
      ]
    },
    {
      "cell_type": "code",
      "execution_count": null,
      "metadata": {
        "id": "f4OAE4R8M4Wd",
        "outputId": "5da4f7c7-c65f-4853-f763-2ed274f50914"
      },
      "outputs": [
        {
          "data": {
            "text/latex": [
              "$\\displaystyle \\left[\\begin{matrix}\\frac{\\rho \\sin{\\left(r \\right)} \\cos{\\left(t \\right)}}{\\left(\\rho^{2} \\sin^{2}{\\left(r \\right)} \\sin^{2}{\\left(t \\right)} + \\rho^{2} \\sin^{2}{\\left(r \\right)} \\cos^{2}{\\left(t \\right)} + \\rho^{2} \\cos^{2}{\\left(r \\right)}\\right)^{1.5}}\\\\- \\frac{\\rho \\sin{\\left(r \\right)} \\sin{\\left(t \\right)}}{\\left(\\rho^{2} \\sin^{2}{\\left(r \\right)} \\sin^{2}{\\left(t \\right)} + \\rho^{2} \\sin^{2}{\\left(r \\right)} \\cos^{2}{\\left(t \\right)} + \\rho^{2} \\cos^{2}{\\left(r \\right)}\\right)^{1.5}}\\\\- \\frac{\\rho \\cos{\\left(r \\right)}}{\\left(\\rho^{2} \\sin^{2}{\\left(r \\right)} \\sin^{2}{\\left(t \\right)} + \\rho^{2} \\sin^{2}{\\left(r \\right)} \\cos^{2}{\\left(t \\right)} + \\rho^{2} \\cos^{2}{\\left(r \\right)}\\right)^{1.5}}\\end{matrix}\\right]$"
            ],
            "text/plain": [
              "⎡                                                        -1.5               ⎤\n",
              "⎢  ⎛ 2    2       2       2    2       2       2    2   ⎞                   ⎥\n",
              "⎢ρ⋅⎝ρ ⋅sin (r)⋅sin (t) + ρ ⋅sin (r)⋅cos (t) + ρ ⋅cos (r)⎠    ⋅sin(r)⋅cos(t) ⎥\n",
              "⎢                                                                           ⎥\n",
              "⎢                                                         -1.5              ⎥\n",
              "⎢   ⎛ 2    2       2       2    2       2       2    2   ⎞                  ⎥\n",
              "⎢-ρ⋅⎝ρ ⋅sin (r)⋅sin (t) + ρ ⋅sin (r)⋅cos (t) + ρ ⋅cos (r)⎠    ⋅sin(r)⋅sin(t)⎥\n",
              "⎢                                                                           ⎥\n",
              "⎢                                                            -1.5           ⎥\n",
              "⎢      ⎛ 2    2       2       2    2       2       2    2   ⎞               ⎥\n",
              "⎣   -ρ⋅⎝ρ ⋅sin (r)⋅sin (t) + ρ ⋅sin (r)⋅cos (t) + ρ ⋅cos (r)⎠    ⋅cos(r)    ⎦"
            ]
          },
          "execution_count": 11,
          "metadata": {},
          "output_type": "execute_result"
        }
      ],
      "source": [
        "Campo_evaluado"
      ]
    },
    {
      "cell_type": "markdown",
      "metadata": {
        "id": "WNWpu07GM4We"
      },
      "source": [
        "Tambien puede escribirse como:"
      ]
    },
    {
      "cell_type": "code",
      "execution_count": null,
      "metadata": {
        "id": "fIQNjeCCM4We",
        "outputId": "51347635-d280-4770-d522-22062bdf1d00"
      },
      "outputs": [
        {
          "data": {
            "text/latex": [
              "$\\displaystyle \\left[\\begin{matrix}\\frac{\\rho \\sin{\\left(r \\right)} \\cos{\\left(t \\right)}}{\\left(\\rho^{2}\\right)^{1.5}}\\\\- \\frac{\\rho \\sin{\\left(r \\right)} \\sin{\\left(t \\right)}}{\\left(\\rho^{2}\\right)^{1.5}}\\\\- \\frac{\\rho \\cos{\\left(r \\right)}}{\\left(\\rho^{2}\\right)^{1.5}}\\end{matrix}\\right]$"
            ],
            "text/plain": [
              "⎡      -1.5               ⎤\n",
              "⎢  ⎛ 2⎞                   ⎥\n",
              "⎢ρ⋅⎝ρ ⎠    ⋅sin(r)⋅cos(t) ⎥\n",
              "⎢                         ⎥\n",
              "⎢       -1.5              ⎥\n",
              "⎢   ⎛ 2⎞                  ⎥\n",
              "⎢-ρ⋅⎝ρ ⎠    ⋅sin(r)⋅sin(t)⎥\n",
              "⎢                         ⎥\n",
              "⎢          -1.5           ⎥\n",
              "⎢      ⎛ 2⎞               ⎥\n",
              "⎣   -ρ⋅⎝ρ ⎠    ⋅cos(r)    ⎦"
            ]
          },
          "execution_count": 12,
          "metadata": {},
          "output_type": "execute_result"
        }
      ],
      "source": [
        "simplify(Campo_evaluado)"
      ]
    },
    {
      "cell_type": "markdown",
      "metadata": {
        "id": "JY_Nm_WfM4We"
      },
      "source": [
        "$$ F(\\ T(r,t) \\ ) \\ .\\ T_{r} \\ x \\ T_{t} = $$\n"
      ]
    },
    {
      "cell_type": "code",
      "execution_count": null,
      "metadata": {
        "id": "5OPsv4p5M4We",
        "outputId": "c523ee3a-384a-4026-cb8d-10f6a2661252"
      },
      "outputs": [
        {
          "data": {
            "image/png": "[encoded data removed]",
            "text/latex": [
              "$\\displaystyle - \\frac{\\rho^{3} \\sin^{3}{\\left(r \\right)} \\sin^{2}{\\left(t \\right)}}{\\left(\\rho^{2} \\sin^{2}{\\left(r \\right)} \\sin^{2}{\\left(t \\right)} + \\rho^{2} \\sin^{2}{\\left(r \\right)} \\cos^{2}{\\left(t \\right)} + \\rho^{2} \\cos^{2}{\\left(r \\right)}\\right)^{1.5}} + \\frac{\\rho^{3} \\sin^{3}{\\left(r \\right)} \\cos^{2}{\\left(t \\right)}}{\\left(\\rho^{2} \\sin^{2}{\\left(r \\right)} \\sin^{2}{\\left(t \\right)} + \\rho^{2} \\sin^{2}{\\left(r \\right)} \\cos^{2}{\\left(t \\right)} + \\rho^{2} \\cos^{2}{\\left(r \\right)}\\right)^{1.5}} - \\frac{\\rho \\left(\\rho^{2} \\sin{\\left(r \\right)} \\sin^{2}{\\left(t \\right)} \\cos{\\left(r \\right)} + \\rho^{2} \\sin{\\left(r \\right)} \\cos{\\left(r \\right)} \\cos^{2}{\\left(t \\right)}\\right) \\cos{\\left(r \\right)}}{\\left(\\rho^{2} \\sin^{2}{\\left(r \\right)} \\sin^{2}{\\left(t \\right)} + \\rho^{2} \\sin^{2}{\\left(r \\right)} \\cos^{2}{\\left(t \\right)} + \\rho^{2} \\cos^{2}{\\left(r \\right)}\\right)^{1.5}}$"
            ],
            "text/plain": [
              "                                                           -1.5               \n",
              "   3 ⎛ 2    2       2       2    2       2       2    2   ⎞        3       2  \n",
              "- ρ ⋅⎝ρ ⋅sin (r)⋅sin (t) + ρ ⋅sin (r)⋅cos (t) + ρ ⋅cos (r)⎠    ⋅sin (r)⋅sin (t\n",
              "\n",
              "                                                             -1.5             \n",
              "     3 ⎛ 2    2       2       2    2       2       2    2   ⎞        3       2\n",
              ") + ρ ⋅⎝ρ ⋅sin (r)⋅sin (t) + ρ ⋅sin (r)⋅cos (t) + ρ ⋅cos (r)⎠    ⋅sin (r)⋅cos \n",
              "\n",
              "                                                                              \n",
              "        ⎛ 2           2              2                  2   ⎞ ⎛ 2    2       2\n",
              "(t) - ρ⋅⎝ρ ⋅sin(r)⋅sin (t)⋅cos(r) + ρ ⋅sin(r)⋅cos(r)⋅cos (t)⎠⋅⎝ρ ⋅sin (r)⋅sin \n",
              "\n",
              "                                      -1.5       \n",
              "       2    2       2       2    2   ⎞           \n",
              "(t) + ρ ⋅sin (r)⋅cos (t) + ρ ⋅cos (r)⎠    ⋅cos(r)"
            ]
          },
          "execution_count": 13,
          "metadata": {},
          "output_type": "execute_result"
        }
      ],
      "source": [
        "P"
      ]
    },
    {
      "cell_type": "markdown",
      "metadata": {
        "id": "9CI5BT1iM4Wf"
      },
      "source": [
        "Tambien puede escribirse como: "
      ]
    },
    {
      "cell_type": "code",
      "execution_count": null,
      "metadata": {
        "id": "Zv-LMFtqM4Wf",
        "outputId": "d9a57b9d-c8ba-4153-c252-7f57b94d8fa8"
      },
      "outputs": [
        {
          "data": {
            "image/png": "[encoded data removed]",
            "text/latex": [
              "$\\displaystyle \\frac{\\rho^{3} \\left(2 \\sin^{3}{\\left(r \\right)} \\cos^{2}{\\left(t \\right)} - \\sin{\\left(r \\right)}\\right)}{\\left(\\rho^{2}\\right)^{1.5}}$"
            ],
            "text/plain": [
              "                                    -1.5\n",
              " 3 ⎛     3       2            ⎞ ⎛ 2⎞    \n",
              "ρ ⋅⎝2⋅sin (r)⋅cos (t) - sin(r)⎠⋅⎝ρ ⎠    "
            ]
          },
          "execution_count": 28,
          "metadata": {},
          "output_type": "execute_result"
        }
      ],
      "source": [
        "simplify(P)"
      ]
    },
    {
      "cell_type": "markdown",
      "metadata": {
        "id": "pm846FUeM4Wf"
      },
      "source": [
        "Ahora solamente queda integrar. Aqui el programa se divide en 2, por un lado se realiza: \n",
        "\n",
        "1. $$   \\iint _{D} \\ F(T (r,t)) \\ . \\ T_{r} \\ x \\ T_{t} \\ dr . dt $$\n",
        "\n",
        "y se nos muestra cada integral por separada, por otro lado:\n",
        "\n",
        "2. $$ \\iint _{D} \\ F(T (r,t)) \\ . \\ T_{r} \\ x \\ T_{t} \\ dt . dr $$\n",
        "\n",
        "Es decir se cambia el orden en el que realizamos las integrales. Si bien el resultado final sera el mismo, nos permitira ver si existía un camino de integración mas sencillo o, por el contrario, eran los 2 similares.\n",
        "\n",
        "Seguimos:"
      ]
    },
    {
      "cell_type": "markdown",
      "metadata": {
        "id": "5wHiYQ32M4Wf"
      },
      "source": [
        "### Camino 1\n",
        "\n",
        "Integramos primero respecto a r.\n",
        "\n",
        "$$ \\int  \\ F(T (r,t)) \\ . \\ T_{r} \\ x \\ T_{t} \\ dr = $$\n"
      ]
    },
    {
      "cell_type": "code",
      "execution_count": null,
      "metadata": {
        "scrolled": true,
        "id": "_1wS5RGGM4Wf",
        "outputId": "186744ed-5103-4570-fb0f-aaa8b2515e3b"
      },
      "outputs": [
        {
          "data": {
            "image/png": "[encoded data removed]",
            "text/latex": [
              "$\\displaystyle \\frac{\\rho^{3} \\left(- 2 \\sin^{2}{\\left(r \\right)} \\cos{\\left(r \\right)} \\cos^{2}{\\left(t \\right)} - \\frac{4 \\cos^{3}{\\left(r \\right)} \\cos^{2}{\\left(t \\right)}}{3} + \\cos{\\left(r \\right)}\\right)}{\\left(\\rho^{2}\\right)^{1.5}}$"
            ],
            "text/plain": [
              "   ⎛                                  3       2            ⎞     -1.5\n",
              " 3 ⎜       2              2      4⋅cos (r)⋅cos (t)         ⎟ ⎛ 2⎞    \n",
              "ρ ⋅⎜- 2⋅sin (r)⋅cos(r)⋅cos (t) - ───────────────── + cos(r)⎟⋅⎝ρ ⎠    \n",
              "   ⎝                                     3                 ⎠         "
            ]
          },
          "execution_count": 29,
          "metadata": {},
          "output_type": "execute_result"
        }
      ],
      "source": [
        "Prim0"
      ]
    },
    {
      "cell_type": "markdown",
      "metadata": {
        "id": "mVzi601MM4Wg"
      },
      "source": [
        "Tambien puede escribirse como :"
      ]
    },
    {
      "cell_type": "code",
      "execution_count": null,
      "metadata": {
        "id": "5g5NRXLvM4Wg",
        "outputId": "6db13ed6-e156-4862-a66a-cdbdad4c2591"
      },
      "outputs": [
        {
          "data": {
            "image/png": "[encoded data removed]",
            "text/latex": [
              "$\\displaystyle \\frac{\\rho^{3} \\left(2 \\cos^{2}{\\left(r \\right)} \\cos^{2}{\\left(t \\right)} - 6 \\cos^{2}{\\left(t \\right)} + 3\\right) \\cos{\\left(r \\right)}}{3 \\left(\\rho^{2}\\right)^{1.5}}$"
            ],
            "text/plain": [
              "                                           -1.5       \n",
              " 3 ⎛     2       2           2       ⎞ ⎛ 2⎞           \n",
              "ρ ⋅⎝2⋅cos (r)⋅cos (t) - 6⋅cos (t) + 3⎠⋅⎝ρ ⎠    ⋅cos(r)\n",
              "──────────────────────────────────────────────────────\n",
              "                          3                           "
            ]
          },
          "execution_count": 30,
          "metadata": {},
          "output_type": "execute_result"
        }
      ],
      "source": [
        "simplify(Prim0)"
      ]
    },
    {
      "cell_type": "markdown",
      "metadata": {
        "id": "82OrW1tCM4Wg"
      },
      "source": [
        "Calculamos la integral definida con los limites de r.\n",
        "\n",
        "$$   \\Big( \\int \\ F(T (r,t)) \\ . \\ T_{r} \\ x \\ T_{t} \\  \\Big) \\  \\Big | _{Dr} = $$"
      ]
    },
    {
      "cell_type": "code",
      "execution_count": null,
      "metadata": {
        "id": "hOl2rPbNM4Wg",
        "outputId": "63afcef3-eb45-41ee-a13e-cc77be4ac89b"
      },
      "outputs": [
        {
          "data": {
            "image/png": "[encoded data removed]",
            "text/latex": [
              "$\\displaystyle - \\frac{\\rho^{3} \\left(1 - \\frac{4 \\cos^{2}{\\left(t \\right)}}{3}\\right)}{\\left(\\rho^{2}\\right)^{1.5}} + \\frac{\\rho^{3} \\left(\\frac{4 \\cos^{2}{\\left(t \\right)}}{3} - 1\\right)}{\\left(\\rho^{2}\\right)^{1.5}}$"
            ],
            "text/plain": [
              "     ⎛         2   ⎞     -1.5      ⎛     2       ⎞     -1.5\n",
              "   3 ⎜    4⋅cos (t)⎟ ⎛ 2⎞        3 ⎜4⋅cos (t)    ⎟ ⎛ 2⎞    \n",
              "- ρ ⋅⎜1 - ─────────⎟⋅⎝ρ ⎠     + ρ ⋅⎜───────── - 1⎟⋅⎝ρ ⎠    \n",
              "     ⎝        3    ⎠               ⎝    3        ⎠         "
            ]
          },
          "execution_count": 31,
          "metadata": {},
          "output_type": "execute_result"
        }
      ],
      "source": [
        "DEF0"
      ]
    },
    {
      "cell_type": "markdown",
      "metadata": {
        "id": "5ip-gIcAM4Wg"
      },
      "source": [
        "Tambien puede escribirse como: "
      ]
    },
    {
      "cell_type": "code",
      "execution_count": null,
      "metadata": {
        "id": "vMvki2N_M4Wg",
        "outputId": "d7ede42a-d5e6-480c-9b05-459cc74a3850"
      },
      "outputs": [
        {
          "data": {
            "image/png": "[encoded data removed]",
            "text/latex": [
              "$\\displaystyle \\frac{\\rho^{3} \\left(\\frac{8 \\cos^{2}{\\left(t \\right)}}{3} - 2\\right)}{\\left(\\rho^{2}\\right)^{1.5}}$"
            ],
            "text/plain": [
              "   ⎛     2       ⎞     -1.5\n",
              " 3 ⎜8⋅cos (t)    ⎟ ⎛ 2⎞    \n",
              "ρ ⋅⎜───────── - 2⎟⋅⎝ρ ⎠    \n",
              "   ⎝    3        ⎠         "
            ]
          },
          "execution_count": 32,
          "metadata": {},
          "output_type": "execute_result"
        }
      ],
      "source": [
        "simplify(DEF0)"
      ]
    },
    {
      "cell_type": "markdown",
      "metadata": {
        "id": "EsoG9XvjM4Wh"
      },
      "source": [
        "Ahora integramos la expresion anterior con respecto a t\n",
        "\n",
        "$$ \\int _{Dt}  \\ F(T (r,t)) \\ . \\ T_{r} \\ x \\ T_{t} \\ dt = $$\n"
      ]
    },
    {
      "cell_type": "code",
      "execution_count": null,
      "metadata": {
        "id": "EyAt5Nf6M4Wh",
        "outputId": "10d147f3-423c-44e1-e956-dd6eae3e8f5e"
      },
      "outputs": [
        {
          "data": {
            "image/png": "[encoded data removed]",
            "text/latex": [
              "$\\displaystyle \\frac{\\rho^{3} \\left(\\frac{4 t \\sin^{2}{\\left(t \\right)}}{3} + \\frac{4 t \\cos^{2}{\\left(t \\right)}}{3} - 2 t + \\frac{4 \\sin{\\left(t \\right)} \\cos{\\left(t \\right)}}{3}\\right)}{\\left(\\rho^{2}\\right)^{1.5}}$"
            ],
            "text/plain": [
              "   ⎛       2             2                           ⎞     -1.5\n",
              " 3 ⎜4⋅t⋅sin (t)   4⋅t⋅cos (t)         4⋅sin(t)⋅cos(t)⎟ ⎛ 2⎞    \n",
              "ρ ⋅⎜─────────── + ─────────── - 2⋅t + ───────────────⎟⋅⎝ρ ⎠    \n",
              "   ⎝     3             3                     3       ⎠         "
            ]
          },
          "execution_count": 33,
          "metadata": {},
          "output_type": "execute_result"
        }
      ],
      "source": [
        "Prim1"
      ]
    },
    {
      "cell_type": "markdown",
      "metadata": {
        "id": "IzxMuo7LM4Wh"
      },
      "source": [
        "Tambien puede expresarse como:"
      ]
    },
    {
      "cell_type": "code",
      "execution_count": null,
      "metadata": {
        "id": "S74Z3M0PM4Wh",
        "outputId": "128cf002-1511-42a3-acde-f9eced7e7e9f"
      },
      "outputs": [
        {
          "data": {
            "image/png": "[encoded data removed]",
            "text/latex": [
              "$\\displaystyle \\frac{2 \\rho^{3} \\left(- t + \\sin{\\left(2 t \\right)}\\right)}{3 \\left(\\rho^{2}\\right)^{1.5}}$"
            ],
            "text/plain": [
              "                         -1.5\n",
              "   3                 ⎛ 2⎞    \n",
              "2⋅ρ ⋅(-t + sin(2⋅t))⋅⎝ρ ⎠    \n",
              "─────────────────────────────\n",
              "              3              "
            ]
          },
          "execution_count": 34,
          "metadata": {},
          "output_type": "execute_result"
        }
      ],
      "source": [
        "simplify(Prim1)"
      ]
    },
    {
      "cell_type": "markdown",
      "metadata": {
        "id": "tK7IREh4M4Wh"
      },
      "source": [
        "Calculamos la integral definida con los limites de integracion de t\n",
        "\n",
        "$$ \\Big( \\int \\Big( \\int   F(T (r,t)) \\ . \\ T_{r} \\ x \\ T_{t} \\ dr \\Big) \\ dt \\Big) \\ \\Big | _{Dt}= $$\n",
        "\n",
        "que es, finalmente igual a: \n",
        "\n",
        "$$ \\iint_{S} F . ds \\ = \\iint_{D} \\ F(T (r,t)) \\ . \\ T_{r} \\ x \\ T_{t} \\ dr . dt =$$"
      ]
    },
    {
      "cell_type": "code",
      "execution_count": null,
      "metadata": {
        "id": "rHMYiEj6M4Wi",
        "outputId": "f98b0332-ddb0-4345-a072-f705b0ad502a"
      },
      "outputs": [
        {
          "data": {
            "image/png": "[encoded data removed]",
            "text/latex": [
              "$\\displaystyle - \\frac{4 \\pi \\rho^{3}}{3 \\left(\\rho^{2}\\right)^{1.5}}$"
            ],
            "text/plain": [
              "            -1.5 \n",
              "      3 ⎛ 2⎞     \n",
              "-4⋅π⋅ρ ⋅⎝ρ ⎠     \n",
              "─────────────────\n",
              "        3        "
            ]
          },
          "execution_count": 35,
          "metadata": {},
          "output_type": "execute_result"
        }
      ],
      "source": [
        "DEF1"
      ]
    },
    {
      "cell_type": "markdown",
      "metadata": {
        "id": "PJQSCOz-M4Wi"
      },
      "source": [
        "Tambien puede escribirse como: "
      ]
    },
    {
      "cell_type": "code",
      "execution_count": null,
      "metadata": {
        "scrolled": true,
        "id": "hSAijfgtM4Wi",
        "outputId": "f5482483-9f71-495f-8aeb-7c1fb1d8ce53"
      },
      "outputs": [
        {
          "data": {
            "image/png": "[encoded data removed]",
            "text/latex": [
              "$\\displaystyle - \\frac{4 \\pi \\rho^{3}}{3 \\left(\\rho^{2}\\right)^{1.5}}$"
            ],
            "text/plain": [
              "            -1.5 \n",
              "      3 ⎛ 2⎞     \n",
              "-4⋅π⋅ρ ⋅⎝ρ ⎠     \n",
              "─────────────────\n",
              "        3        "
            ]
          },
          "execution_count": 36,
          "metadata": {},
          "output_type": "execute_result"
        }
      ],
      "source": [
        "simplify(DEF1)"
      ]
    },
    {
      "cell_type": "markdown",
      "metadata": {
        "id": "c55KtqqeM4Wi"
      },
      "source": [
        "$$ \\approx $$"
      ]
    },
    {
      "cell_type": "code",
      "execution_count": null,
      "metadata": {
        "scrolled": true,
        "id": "IjYIfiFaM4Wi",
        "outputId": "2ba078e0-fdaa-41a1-db1c-4d1eb959d56b"
      },
      "outputs": [
        {
          "data": {
            "image/png": "[encoded data removed]",
            "text/latex": [
              "$\\displaystyle - \\frac{4.18879020478639 \\rho^{3}}{\\left(\\rho^{2}\\right)^{1.5}}$"
            ],
            "text/plain": [
              "                         -1.5\n",
              "                   3 ⎛ 2⎞    \n",
              "-4.18879020478639⋅ρ ⋅⎝ρ ⎠    "
            ]
          },
          "execution_count": 37,
          "metadata": {},
          "output_type": "execute_result"
        }
      ],
      "source": [
        "N(DEF1)"
      ]
    },
    {
      "cell_type": "code",
      "execution_count": null,
      "metadata": {
        "id": "HKGgjTgeM4Wi"
      },
      "outputs": [],
      "source": []
    },
    {
      "cell_type": "markdown",
      "metadata": {
        "id": "1Bpi32XIM4Wj"
      },
      "source": [
        "##  Calculadora de superficie sobre funcion escalar"
      ]
    },
    {
      "cell_type": "markdown",
      "metadata": {
        "id": "bSQ8vvRhM4Wj"
      },
      "source": [
        "Integral de una funcion $f : R³  →  R $ sobre una superficie.\n",
        "\n",
        "$$  \\iint _{S} f(x,y,z) = \\iint_{D} \\ F(T (u,v)) \\ . \\Big| \\Big| \\ T_{u} \\ x \\ T_{v} \\Big| \\Big| \\  du . dv $$ "
      ]
    },
    {
      "cell_type": "markdown",
      "metadata": {
        "id": "G9-dP8ICM4Wj"
      },
      "source": [
        "La superficie que usted ingrese debe tener la forma:\n",
        "\n",
        "$$ T(r,t)= \\ ( \\ S_{1}(r,t), \\ S_{2}(r,t),\\ S_{3}(r,t) \\ ) $$"
      ]
    },
    {
      "cell_type": "markdown",
      "metadata": {
        "id": "5rvVUDCwM4Wj"
      },
      "source": [
        "La funcion que ustede ingrese debe tener la forma: \n",
        "\n",
        "$$ f:R³ → R \\hspace{0.1cm}: \\hspace{0.2cm} f(x,y,z) $$\n",
        "\n",
        "\n",
        "### Observaciones: \n",
        "\n",
        "En general el programa correra bien hasta la parte de las integrales, a Sympy le cuesta un poco trabajar con los modulos y a veces le falta viveza criolla. El problema principal radica en la parte en que calcula la norma de \" Tu x Tv\" , donde no cancela nada y le queda una integral gigante. Si esto es una complicacion en el ejercicio , simplifique la norma que devuelve Sympy, a mano, y luego vuelvala a introducir en el codigo, en la parte indicada . Lo anterior ayudara a sympy a que pueda resolver la integral."
      ]
    },
    {
      "cell_type": "code",
      "execution_count": null,
      "metadata": {
        "id": "WvozcAEWM4Wj"
      },
      "outputs": [],
      "source": [
        "#Ingrese su superficie  (t,r)\n",
        "S1= cosh(r) *cos(t)\n",
        "S2= cosh(r)*sin(t)\n",
        "S3= r\n",
        "\n",
        "#Ingrese su funcion (x,y,z)\n",
        "\n",
        "f= x*y*abs(sinh(z))\n",
        "S=Superficie=Matrix((S1,S2,S3))\n",
        "#Limites\n",
        "r1=-2\n",
        "r2=2\n",
        "\n",
        "t1=0\n",
        "t2=pi/2"
      ]
    },
    {
      "cell_type": "code",
      "execution_count": null,
      "metadata": {
        "id": "2cFIjGZCM4Wk",
        "outputId": "25537304-a8a6-4065-fb4a-bd6762d24688"
      },
      "outputs": [
        {
          "data": {
            "image/png": "[encoded data removed]",
            "text/latex": [
              "$\\displaystyle x y \\left|{\\sinh{\\left(z \\right)}}\\right|$"
            ],
            "text/plain": [
              "x⋅y⋅│sinh(z)│"
            ]
          },
          "execution_count": 104,
          "metadata": {},
          "output_type": "execute_result"
        }
      ],
      "source": [
        "f"
      ]
    },
    {
      "cell_type": "code",
      "execution_count": null,
      "metadata": {
        "id": "etObwbXYM4Wk",
        "outputId": "3e11a2af-705c-40a4-b1e9-19d1832b89e6"
      },
      "outputs": [
        {
          "data": {
            "text/latex": [
              "$\\displaystyle \\left[\\begin{matrix}\\cos{\\left(t \\right)} \\cosh{\\left(r \\right)}\\\\\\sin{\\left(t \\right)} \\cosh{\\left(r \\right)}\\\\r\\end{matrix}\\right]$"
            ],
            "text/plain": [
              "⎡cos(t)⋅cosh(r)⎤\n",
              "⎢              ⎥\n",
              "⎢sin(t)⋅cosh(r)⎥\n",
              "⎢              ⎥\n",
              "⎣      r       ⎦"
            ]
          },
          "execution_count": 105,
          "metadata": {},
          "output_type": "execute_result"
        }
      ],
      "source": [
        "S"
      ]
    },
    {
      "cell_type": "code",
      "execution_count": null,
      "metadata": {
        "scrolled": false,
        "id": "v3TslMOxM4Wk",
        "outputId": "0108341f-df1b-423b-f5a6-b2e73c706e52"
      },
      "outputs": [
        {
          "data": {
            "image/png": "[encoded data removed]",
            "text/latex": [
              "$\\displaystyle \\sqrt{\\left|{\\sin{\\left(t \\right)} \\cosh{\\left(r \\right)}}\\right|^{2} + \\left|{\\cos{\\left(t \\right)} \\cosh{\\left(r \\right)}}\\right|^{2} + \\left|{\\sin^{2}{\\left(t \\right)} \\sinh{\\left(r \\right)} \\cosh{\\left(r \\right)} + \\cos^{2}{\\left(t \\right)} \\sinh{\\left(r \\right)} \\cosh{\\left(r \\right)}}\\right|^{2}} \\sin{\\left(t \\right)} \\cos{\\left(t \\right)} \\cosh^{2}{\\left(r \\right)} \\left|{\\sinh{\\left(r \\right)}}\\right|$"
            ],
            "text/plain": [
              "    __________________________________________________________________________\n",
              "   ╱                                                                          \n",
              "  ╱                  2                   2   │   2                         2  \n",
              "╲╱   │sin(t)⋅cosh(r)│  + │cos(t)⋅cosh(r)│  + │sin (t)⋅sinh(r)⋅cosh(r) + cos (t\n",
              "\n",
              "____________________                                 \n",
              "                  2                                  \n",
              "                 │                     2             \n",
              ")⋅sinh(r)⋅cosh(r)│  ⋅sin(t)⋅cos(t)⋅cosh (r)⋅│sinh(r)│"
            ]
          },
          "execution_count": 129,
          "metadata": {},
          "output_type": "execute_result"
        }
      ],
      "source": [
        "#Codigo\n",
        "\n",
        "#Creamos los vectores Tt y Tu\n",
        "#Tr\n",
        "S1r=S1.diff(r)\n",
        "S2r=S2.diff(r)\n",
        "S3r=S3.diff(r)\n",
        "\n",
        "Tr=Matrix((S1r,S2r,S3r)) #Vector Tr\n",
        "\n",
        "#Tt\n",
        "S1t=S1.diff(t)\n",
        "S2t=S2.diff(t)\n",
        "S3t=S3.diff(t)\n",
        "\n",
        "Tt=Matrix((S1t,S2t,S3t)) #Vector Tt\n",
        "\n",
        "h=Prod_vect=Tr.cross(Tt) # Producto vectorial entre las derivadas\n",
        "\n",
        "\n",
        "norm_alt= a # Si usted puede simplificar la norma, de una manera que la compu no, pongala y reemplace debajo en norma.\n",
        "norma= h.norm()     # Norma que utiliza el programa para la integral \n",
        "\n",
        "#Evaluamos a la funcion en la superficie \n",
        "\n",
        "C=f.subs(x,S1) #Vamos sustituyendo asi porque la funcion \"subs\" no acepta mas de 2 argumentos\n",
        "C1=C.subs(y,S2)\n",
        "C2=C1.subs(z,S3)\n",
        "\n",
        "f_eval= C2\n",
        "producto= C2*norma"
      ]
    },
    {
      "cell_type": "code",
      "execution_count": null,
      "metadata": {
        "id": "arkzBV4oM4Wk"
      },
      "outputs": [],
      "source": [
        "#Respecto a r\n",
        "Prim2=producto.integrate(r) #Integramos con respecto a r"
      ]
    },
    {
      "cell_type": "code",
      "execution_count": null,
      "metadata": {
        "id": "lCI_iexjM4Wl"
      },
      "outputs": [],
      "source": [
        "DEF2=integrate(producto,(r,r1,r2)) #Definida r"
      ]
    },
    {
      "cell_type": "code",
      "execution_count": null,
      "metadata": {
        "id": "pRy0pVePM4Wl"
      },
      "outputs": [],
      "source": [
        "#Respecto a t\n",
        "Prim3 = simplify(DEF2).integrate(t) #ntegramos respecto a t"
      ]
    },
    {
      "cell_type": "code",
      "execution_count": null,
      "metadata": {
        "id": "pzI9rfEQM4Wl"
      },
      "outputs": [],
      "source": [
        "DEF3=integrate(DEF2,(t,t1,t2))# Definida t"
      ]
    },
    {
      "cell_type": "markdown",
      "metadata": {
        "id": "2pphGH9CM4Wl"
      },
      "source": [
        "#### Chequear si la superficie es correcta: "
      ]
    },
    {
      "cell_type": "markdown",
      "metadata": {
        "id": "mrjToTa-M4Wl"
      },
      "source": [
        "$$ T(r,t)= \\ ( \\ S_{1}(r,t), \\ S_{2}(r,t),\\ S_{3}(r,t) \\ ) = $$"
      ]
    },
    {
      "cell_type": "markdown",
      "metadata": {
        "id": "Nw9H6iQMM4Wl"
      },
      "source": [
        "#### Chequear si su fucion es correcta: \n",
        "\n",
        "$$ f(x,y,z)= $$"
      ]
    },
    {
      "cell_type": "code",
      "execution_count": null,
      "metadata": {
        "id": "MRIkTVlRM4Wm",
        "outputId": "d2cbd1a5-aaac-418d-c73b-4e1346eb5ef5"
      },
      "outputs": [
        {
          "data": {
            "image/png": "[encoded data removed]",
            "text/latex": [
              "$\\displaystyle x y \\left|{\\sinh{\\left(z \\right)}}\\right|$"
            ],
            "text/plain": [
              "x⋅y⋅│sinh(z)│"
            ]
          },
          "execution_count": 111,
          "metadata": {},
          "output_type": "execute_result"
        }
      ],
      "source": [
        "f"
      ]
    },
    {
      "cell_type": "markdown",
      "metadata": {
        "id": "usOC00PNM4Wm"
      },
      "source": [
        "$$ T_{r} = $$"
      ]
    },
    {
      "cell_type": "code",
      "execution_count": null,
      "metadata": {
        "scrolled": false,
        "id": "4Zyr8dzOM4Wm",
        "outputId": "7393d20a-382b-43d4-ab98-fc2a59557f1d"
      },
      "outputs": [
        {
          "data": {
            "text/latex": [
              "$\\displaystyle \\left[\\begin{matrix}\\cos{\\left(t \\right)} \\sinh{\\left(r \\right)}\\\\\\sin{\\left(t \\right)} \\sinh{\\left(r \\right)}\\\\1\\end{matrix}\\right]$"
            ],
            "text/plain": [
              "⎡cos(t)⋅sinh(r)⎤\n",
              "⎢              ⎥\n",
              "⎢sin(t)⋅sinh(r)⎥\n",
              "⎢              ⎥\n",
              "⎣      1       ⎦"
            ]
          },
          "execution_count": 112,
          "metadata": {},
          "output_type": "execute_result"
        }
      ],
      "source": [
        "Tr"
      ]
    },
    {
      "cell_type": "markdown",
      "metadata": {
        "id": "ArdHUbajM4Wm"
      },
      "source": [
        "$$ T_{t} = $$"
      ]
    },
    {
      "cell_type": "code",
      "execution_count": null,
      "metadata": {
        "scrolled": true,
        "id": "_7yr8QzXM4Wm",
        "outputId": "eb895ada-e24f-4c37-974a-5c39b0464cff"
      },
      "outputs": [
        {
          "data": {
            "text/latex": [
              "$\\displaystyle \\left[\\begin{matrix}- \\sin{\\left(t \\right)} \\cosh{\\left(r \\right)}\\\\\\cos{\\left(t \\right)} \\cosh{\\left(r \\right)}\\\\0\\end{matrix}\\right]$"
            ],
            "text/plain": [
              "⎡-sin(t)⋅cosh(r)⎤\n",
              "⎢               ⎥\n",
              "⎢cos(t)⋅cosh(r) ⎥\n",
              "⎢               ⎥\n",
              "⎣       0       ⎦"
            ]
          },
          "execution_count": 113,
          "metadata": {},
          "output_type": "execute_result"
        }
      ],
      "source": [
        "Tt"
      ]
    },
    {
      "cell_type": "markdown",
      "metadata": {
        "id": "FzK0avhtM4Wn"
      },
      "source": [
        "$$\\ T_{r} \\ x \\ T_{t} =$$"
      ]
    },
    {
      "cell_type": "code",
      "execution_count": null,
      "metadata": {
        "scrolled": false,
        "id": "2YXTMlP9M4Wn",
        "outputId": "fb947821-3105-4874-e4b2-9ab2b5bf324b"
      },
      "outputs": [
        {
          "data": {
            "text/latex": [
              "$\\displaystyle \\left[\\begin{matrix}- \\cos{\\left(t \\right)} \\cosh{\\left(r \\right)}\\\\- \\sin{\\left(t \\right)} \\cosh{\\left(r \\right)}\\\\\\sin^{2}{\\left(t \\right)} \\sinh{\\left(r \\right)} \\cosh{\\left(r \\right)} + \\cos^{2}{\\left(t \\right)} \\sinh{\\left(r \\right)} \\cosh{\\left(r \\right)}\\end{matrix}\\right]$"
            ],
            "text/plain": [
              "⎡                 -cos(t)⋅cosh(r)                 ⎤\n",
              "⎢                                                 ⎥\n",
              "⎢                 -sin(t)⋅cosh(r)                 ⎥\n",
              "⎢                                                 ⎥\n",
              "⎢   2                         2                   ⎥\n",
              "⎣sin (t)⋅sinh(r)⋅cosh(r) + cos (t)⋅sinh(r)⋅cosh(r)⎦"
            ]
          },
          "execution_count": 114,
          "metadata": {},
          "output_type": "execute_result"
        }
      ],
      "source": [
        "h"
      ]
    },
    {
      "cell_type": "markdown",
      "metadata": {
        "id": "QYrjiA28M4Wn"
      },
      "source": [
        "Tambien puede expresarse como:"
      ]
    },
    {
      "cell_type": "code",
      "execution_count": null,
      "metadata": {
        "id": "6kcyb0mrM4Wn",
        "outputId": "79a60c18-78c1-4819-8b84-ddb56ad6be09"
      },
      "outputs": [
        {
          "data": {
            "text/latex": [
              "$\\displaystyle \\left[\\begin{matrix}- \\cos{\\left(t \\right)} \\cosh{\\left(r \\right)}\\\\- \\sin{\\left(t \\right)} \\cosh{\\left(r \\right)}\\\\\\frac{\\sinh{\\left(2 r \\right)}}{2}\\end{matrix}\\right]$"
            ],
            "text/plain": [
              "⎡-cos(t)⋅cosh(r)⎤\n",
              "⎢               ⎥\n",
              "⎢-sin(t)⋅cosh(r)⎥\n",
              "⎢               ⎥\n",
              "⎢   sinh(2⋅r)   ⎥\n",
              "⎢   ─────────   ⎥\n",
              "⎣       2       ⎦"
            ]
          },
          "execution_count": 115,
          "metadata": {},
          "output_type": "execute_result"
        }
      ],
      "source": [
        "simplify(h)"
      ]
    },
    {
      "cell_type": "markdown",
      "metadata": {
        "id": "weSwbHpuM4Wn"
      },
      "source": [
        "$$\\Big| \\Big| \\ T_{r} \\ x \\ T_{t} \\Big| \\Big| =  $$"
      ]
    },
    {
      "cell_type": "code",
      "execution_count": null,
      "metadata": {
        "id": "BFswv3_1M4Wn",
        "outputId": "41079158-b125-41f1-afdf-ea0ca2263aa2"
      },
      "outputs": [
        {
          "data": {
            "image/png": "[encoded data removed]",
            "text/latex": [
              "$\\displaystyle \\cosh^{2}{\\left(r \\right)}$"
            ],
            "text/plain": [
              "    2   \n",
              "cosh (r)"
            ]
          },
          "execution_count": 117,
          "metadata": {},
          "output_type": "execute_result"
        }
      ],
      "source": [
        "norma"
      ]
    },
    {
      "cell_type": "markdown",
      "metadata": {
        "id": "n_pnA2EeM4Wo"
      },
      "source": [
        "Tambien puede expresarse como: "
      ]
    },
    {
      "cell_type": "code",
      "execution_count": null,
      "metadata": {
        "id": "bdJ3EGwlM4Wo",
        "outputId": "d22c3f73-a049-463b-b9db-eee5b61d58fe"
      },
      "outputs": [
        {
          "data": {
            "image/png": "[encoded data removed]",
            "text/latex": [
              "$\\displaystyle \\sqrt{\\left|{\\sin{\\left(t \\right)} \\cosh{\\left(r \\right)}}\\right|^{2} + \\left|{\\cos{\\left(t \\right)} \\cosh{\\left(r \\right)}}\\right|^{2} + \\frac{\\left|{\\sinh{\\left(2 r \\right)}}\\right|^{2}}{4}}$"
            ],
            "text/plain": [
              "     ______________________________________________________\n",
              "    ╱                                                    2 \n",
              "   ╱                  2                   2   │sinh(2⋅r)│  \n",
              "  ╱   │sin(t)⋅cosh(r)│  + │cos(t)⋅cosh(r)│  + ──────────── \n",
              "╲╱                                                 4       "
            ]
          },
          "execution_count": 118,
          "metadata": {},
          "output_type": "execute_result"
        }
      ],
      "source": [
        "(simplify(h)).norm()"
      ]
    },
    {
      "cell_type": "markdown",
      "metadata": {
        "id": "VMQLU9g7M4Wo"
      },
      "source": [
        "$$ f(T(r,t))= $$"
      ]
    },
    {
      "cell_type": "code",
      "execution_count": null,
      "metadata": {
        "id": "wA-dMWuSM4Wo",
        "outputId": "c2f9ebcf-28fc-4cda-aadb-7277d7e43538"
      },
      "outputs": [
        {
          "data": {
            "image/png": "[encoded data removed]",
            "text/latex": [
              "$\\displaystyle \\sin{\\left(t \\right)} \\cos{\\left(t \\right)} \\cosh^{2}{\\left(r \\right)} \\left|{\\sinh{\\left(r \\right)}}\\right|$"
            ],
            "text/plain": [
              "                  2             \n",
              "sin(t)⋅cos(t)⋅cosh (r)⋅│sinh(r)│"
            ]
          },
          "execution_count": 119,
          "metadata": {},
          "output_type": "execute_result"
        }
      ],
      "source": [
        "f_eval"
      ]
    },
    {
      "cell_type": "markdown",
      "metadata": {
        "id": "ObwvdKmaM4Wo"
      },
      "source": [
        "Tambien puede expresarse como:"
      ]
    },
    {
      "cell_type": "code",
      "execution_count": null,
      "metadata": {
        "id": "wV5wUD1vM4Wp",
        "outputId": "905de1cb-df88-45a4-8680-17d3c0c9493a"
      },
      "outputs": [
        {
          "data": {
            "image/png": "[encoded data removed]",
            "text/latex": [
              "$\\displaystyle \\frac{\\sin{\\left(2 t \\right)} \\cosh^{2}{\\left(r \\right)} \\left|{\\sinh{\\left(r \\right)}}\\right|}{2}$"
            ],
            "text/plain": [
              "             2             \n",
              "sin(2⋅t)⋅cosh (r)⋅│sinh(r)│\n",
              "───────────────────────────\n",
              "             2             "
            ]
          },
          "execution_count": 120,
          "metadata": {},
          "output_type": "execute_result"
        }
      ],
      "source": [
        "simplify(f_eval)"
      ]
    },
    {
      "cell_type": "markdown",
      "metadata": {
        "id": "Lx8C957BM4Wp"
      },
      "source": [
        "$$ f(T (r,t)) \\ . \\Big| \\Big| \\ T_{r} \\ x \\ T_{t} \\Big| \\Big| $$"
      ]
    },
    {
      "cell_type": "code",
      "execution_count": null,
      "metadata": {
        "scrolled": true,
        "id": "85F8ccU0M4Wp",
        "outputId": "df401908-c119-4e48-d393-f417ec5d2d35"
      },
      "outputs": [
        {
          "data": {
            "image/png": "[encoded data removed]",
            "text/latex": [
              "$\\displaystyle \\sin{\\left(t \\right)} \\cos{\\left(t \\right)} \\cosh^{4}{\\left(r \\right)} \\left|{\\sinh{\\left(r \\right)}}\\right|$"
            ],
            "text/plain": [
              "                  4             \n",
              "sin(t)⋅cos(t)⋅cosh (r)⋅│sinh(r)│"
            ]
          },
          "execution_count": 121,
          "metadata": {},
          "output_type": "execute_result"
        }
      ],
      "source": [
        "producto"
      ]
    },
    {
      "cell_type": "markdown",
      "metadata": {
        "id": "2-7s6mjrM4Wp"
      },
      "source": [
        "Tambien puede expresarse como:"
      ]
    },
    {
      "cell_type": "code",
      "execution_count": null,
      "metadata": {
        "id": "1YWgVOAhM4Wp",
        "outputId": "b76a2fa7-f44f-4b16-80cc-fbd8b2c03dcb"
      },
      "outputs": [
        {
          "data": {
            "image/png": "[encoded data removed]",
            "text/latex": [
              "$\\displaystyle \\frac{\\sin{\\left(2 t \\right)} \\cosh^{4}{\\left(r \\right)} \\left|{\\sinh{\\left(r \\right)}}\\right|}{2}$"
            ],
            "text/plain": [
              "             4             \n",
              "sin(2⋅t)⋅cosh (r)⋅│sinh(r)│\n",
              "───────────────────────────\n",
              "             2             "
            ]
          },
          "execution_count": 122,
          "metadata": {},
          "output_type": "execute_result"
        }
      ],
      "source": [
        "simplify(producto)"
      ]
    },
    {
      "cell_type": "markdown",
      "metadata": {
        "id": "bBIoV3vcM4Wp"
      },
      "source": [
        "$$ \\ \\int f(T (r,t)) \\ . \\Big| \\Big| \\ T_{r} \\ x \\ T_{t} \\Big| \\Big| \\ dr $$"
      ]
    },
    {
      "cell_type": "code",
      "execution_count": null,
      "metadata": {
        "scrolled": true,
        "id": "IZbjBH2IM4Wq",
        "outputId": "be741f42-6647-4e59-dee0-cdbab7ad0287"
      },
      "outputs": [
        {
          "data": {
            "image/png": "[encoded data removed]",
            "text/latex": [
              "$\\displaystyle \\sin{\\left(t \\right)} \\cos{\\left(t \\right)} \\int \\cosh^{4}{\\left(r \\right)} \\left|{\\sinh{\\left(r \\right)}}\\right|\\, dr$"
            ],
            "text/plain": [
              "              ⌠                      \n",
              "              ⎮     4                \n",
              "sin(t)⋅cos(t)⋅⎮ cosh (r)⋅│sinh(r)│ dr\n",
              "              ⌡                      "
            ]
          },
          "execution_count": 123,
          "metadata": {},
          "output_type": "execute_result"
        }
      ],
      "source": [
        "Prim2"
      ]
    },
    {
      "cell_type": "markdown",
      "metadata": {
        "id": "iDddPIJQM4Wq"
      },
      "source": [
        "Tambien puede expresarse como:"
      ]
    },
    {
      "cell_type": "code",
      "execution_count": null,
      "metadata": {
        "id": "_mvD6tnyM4Wq",
        "outputId": "69995f1b-464c-4176-a3c8-7b023c1aa3d4"
      },
      "outputs": [
        {
          "data": {
            "image/png": "[encoded data removed]",
            "text/latex": [
              "$\\displaystyle \\frac{\\sin{\\left(2 t \\right)} \\int \\cosh^{4}{\\left(r \\right)} \\left|{\\sinh{\\left(r \\right)}}\\right|\\, dr}{2}$"
            ],
            "text/plain": [
              "         ⌠                      \n",
              "         ⎮     4                \n",
              "sin(2⋅t)⋅⎮ cosh (r)⋅│sinh(r)│ dr\n",
              "         ⌡                      \n",
              "────────────────────────────────\n",
              "               2                "
            ]
          },
          "execution_count": 124,
          "metadata": {},
          "output_type": "execute_result"
        }
      ],
      "source": [
        "simplify(Prim2)"
      ]
    },
    {
      "cell_type": "markdown",
      "metadata": {
        "id": "ZZiKP3lZM4Wq"
      },
      "source": [
        "$$ \\Big( \\int f(T (r,t)) \\ . \\Big| \\Big| \\ T_{r} \\ x \\ T_{t} \\Big| \\Big| \\ \\Big) \\ \\Big| _{Dr} =$$ "
      ]
    },
    {
      "cell_type": "code",
      "execution_count": null,
      "metadata": {
        "scrolled": true,
        "id": "0FX6kbaSM4Wq",
        "outputId": "4d2102ad-fdf7-412c-b42e-039668f832f3"
      },
      "outputs": [
        {
          "data": {
            "text/latex": [
              "$\\displaystyle \\int\\limits_{-2}^{2} \\begin{cases} \\sin{\\left(t \\right)} \\cos{\\left(t \\right)} \\sinh{\\left(r \\right)} \\cosh^{4}{\\left(r \\right)} & \\text{for}\\: \\sinh{\\left(r \\right)} \\geq 0 \\\\- \\sin{\\left(t \\right)} \\cos{\\left(t \\right)} \\sinh{\\left(r \\right)} \\cosh^{4}{\\left(r \\right)} & \\text{otherwise} \\end{cases}\\, dr$"
            ],
            "text/plain": [
              "2                                                      \n",
              "⌠                                                      \n",
              "⎮  ⎧                          4                        \n",
              "⎮  ⎪sin(t)⋅cos(t)⋅sinh(r)⋅cosh (r)   for sinh(r) ≥ 0   \n",
              "⎮  ⎨                                                 dr\n",
              "⎮  ⎪                           4                       \n",
              "⎮  ⎩-sin(t)⋅cos(t)⋅sinh(r)⋅cosh (r)     otherwise      \n",
              "⌡                                                      \n",
              "-2                                                     "
            ]
          },
          "execution_count": 125,
          "metadata": {},
          "output_type": "execute_result"
        }
      ],
      "source": [
        "DEF2"
      ]
    },
    {
      "cell_type": "markdown",
      "metadata": {
        "id": "xzl7qf3SM4Wr"
      },
      "source": [
        "Tambien puede expresarse como:"
      ]
    },
    {
      "cell_type": "code",
      "execution_count": null,
      "metadata": {
        "id": "5ls9vsDCM4Wr",
        "outputId": "5f0b05e1-017d-43b5-db74-a9a5a6fe943e"
      },
      "outputs": [
        {
          "data": {
            "text/latex": [
              "$\\displaystyle \\int\\limits_{-2}^{2} \\begin{cases} \\frac{\\sin{\\left(2 t \\right)} \\sinh{\\left(r \\right)} \\cosh^{4}{\\left(r \\right)}}{2} & \\text{for}\\: \\sinh{\\left(r \\right)} \\geq 0 \\\\- \\frac{\\sin{\\left(2 t \\right)} \\sinh{\\left(r \\right)} \\cosh^{4}{\\left(r \\right)}}{2} & \\text{otherwise} \\end{cases}\\, dr$"
            ],
            "text/plain": [
              "2                                                  \n",
              "⌠                                                  \n",
              "⎮  ⎧                      4                        \n",
              "⎮  ⎪ sin(2⋅t)⋅sinh(r)⋅cosh (r)                     \n",
              "⎮  ⎪ ─────────────────────────   for sinh(r) ≥ 0   \n",
              "⎮  ⎪             2                                 \n",
              "⎮  ⎨                                             dr\n",
              "⎮  ⎪                      4                        \n",
              "⎮  ⎪-sin(2⋅t)⋅sinh(r)⋅cosh (r)                     \n",
              "⎮  ⎪───────────────────────────     otherwise      \n",
              "⎮  ⎩             2                                 \n",
              "⌡                                                  \n",
              "-2                                                 "
            ]
          },
          "execution_count": 126,
          "metadata": {},
          "output_type": "execute_result"
        }
      ],
      "source": [
        "simplify(DEF2)"
      ]
    },
    {
      "cell_type": "markdown",
      "metadata": {
        "id": "WVUFIln2M4Wr"
      },
      "source": [
        "$$ \\Big( \\int \\Big( \\int   F(T (r,t)) \\ . \\Big| \\Big|  \\ T_{r} \\ x \\ T_{t} \\Big| \\Big| \\ dr \\Big) \\ dt \\Big) = $$"
      ]
    },
    {
      "cell_type": "code",
      "execution_count": null,
      "metadata": {
        "scrolled": true,
        "id": "qRyXqvxOM4Wr",
        "outputId": "1bb34eff-c982-4b9a-e243-6493572e5a8f"
      },
      "outputs": [
        {
          "data": {
            "image/png": "[encoded data removed]",
            "text/latex": [
              "$\\displaystyle 0$"
            ],
            "text/plain": [
              "0"
            ]
          },
          "execution_count": 127,
          "metadata": {},
          "output_type": "execute_result"
        }
      ],
      "source": [
        "Prim3"
      ]
    },
    {
      "cell_type": "markdown",
      "metadata": {
        "id": "ACDE35huM4Wr"
      },
      "source": [
        "Finalmente:\n",
        "\n",
        "$$ \\Big( \\int \\Big( \\int   F(T (r,t)) \\ . \\Big| \\Big| \\ T_{r} \\ x \\ T_{t} \\Big| \\Big| \\ dr \\Big) \\ dt \\Big) \\ \\Big | _{Dt}= $$\n",
        "\n",
        "\n",
        "que es igual a \n",
        "\n",
        "$$  \\iint _{S} f(x,y,z) = \\iint_{D} \\ F(T (r,t)) \\ . \\Big| \\Big| \\ T_{r} \\ x \\ T_{t} \\Big| \\Big| \\  dr . dt =$$ "
      ]
    },
    {
      "cell_type": "code",
      "execution_count": null,
      "metadata": {
        "id": "cxEMpugEM4Wr",
        "outputId": "53e33201-ad90-4623-a23c-9605db1e9dc8"
      },
      "outputs": [
        {
          "data": {
            "image/png": "[encoded data removed]",
            "text/latex": [
              "$\\displaystyle 0$"
            ],
            "text/plain": [
              "0"
            ]
          },
          "execution_count": 128,
          "metadata": {},
          "output_type": "execute_result"
        }
      ],
      "source": [
        "DEF3"
      ]
    },
    {
      "cell_type": "code",
      "execution_count": null,
      "metadata": {
        "id": "dlg0KvAFM4Ws"
      },
      "outputs": [],
      "source": []
    }
  ],
  "metadata": {
    "kernelspec": {
      "display_name": "Python 3",
      "language": "python",
      "name": "python3"
    },
    "language_info": {
      "codemirror_mode": {
        "name": "ipython",
        "version": 3
      },
      "file_extension": ".py",
      "mimetype": "text/x-python",
      "name": "python",
      "nbconvert_exporter": "python",
      "pygments_lexer": "ipython3",
      "version": "3.8.3"
    },
    "colab": {
      "provenance": [],
      "include_colab_link": true
    }
  },
  "nbformat": 4,
  "nbformat_minor": 0
}