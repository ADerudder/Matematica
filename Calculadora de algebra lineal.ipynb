{
  "nbformat": 4,
  "nbformat_minor": 0,
  "metadata": {
    "kernelspec": {
      "display_name": "Python 3",
      "language": "python",
      "name": "python3"
    },
    "language_info": {
      "codemirror_mode": {
        "name": "ipython",
        "version": 3
      },
      "file_extension": ".py",
      "mimetype": "text/x-python",
      "name": "python",
      "nbconvert_exporter": "python",
      "pygments_lexer": "ipython3",
      "version": "3.8.3"
    },
    "colab": {
      "provenance": [],
      "include_colab_link": true
    }
  },
  "cells": [
    {
      "cell_type": "markdown",
      "metadata": {
        "id": "view-in-github",
        "colab_type": "text"
      },
      "source": [
        "<a href=\"https://colab.research.google.com/github/ADerudder/Matematica/blob/main/Calculadora%20de%20algebra%20lineal.ipynb\" target=\"_parent\"><img src=\"https://colab.research.google.com/assets/colab-badge.svg\" alt=\"Open In Colab\"/></a>"
      ]
    },
    {
      "cell_type": "markdown",
      "metadata": {
        "id": "Jf61lbBjac7G"
      },
      "source": [
        "# Calculadora de algebra lineal"
      ]
    },
    {
      "cell_type": "code",
      "metadata": {
        "colab": {
          "base_uri": "https://localhost:8080/"
        },
        "id": "jWVhKEppac7I",
        "outputId": "80d08b33-36c2-4429-d8a5-c1efa01eafdd"
      },
      "source": [
        "#Importamos Sympy\n",
        "\n",
        "from sympy import init_session\n",
        "init_session( use_latex = True)"
      ],
      "execution_count": 1,
      "outputs": [
        {
          "output_type": "stream",
          "name": "stdout",
          "text": [
            "IPython console for SymPy 1.11.1 (Python 3.9.16-64-bit) (ground types: python)\n",
            "\n",
            "These commands were executed:\n",
            ">>> from sympy import *\n",
            ">>> x, y, z, t = symbols('x y z t')\n",
            ">>> k, m, n = symbols('k m n', integer=True)\n",
            ">>> f, g, h = symbols('f g h', cls=Function)\n",
            ">>> init_printing()\n",
            "\n",
            "Documentation can be found at https://docs.sympy.org/1.11.1/\n",
            "\n"
          ]
        }
      ]
    },
    {
      "cell_type": "code",
      "metadata": {
        "id": "AxjNEdDcac7L"
      },
      "source": [
        "x, y, z, t = symbols('x y z t')\n",
        "a,b,c,d,g,l = symbols (\"alpha beta c delta gamma,lambda\")\n",
        "a11,a12,a13,a21,a22,a23,a31,a32,a33= symbols(\"a11,a12,a13,a21,a22,a23,a31,a32,a33\")"
      ],
      "execution_count": 2,
      "outputs": []
    },
    {
      "cell_type": "code",
      "metadata": {
        "colab": {
          "base_uri": "https://localhost:8080/",
          "height": 78
        },
        "id": "M_wUE6nsac7M",
        "outputId": "1d9bda91-ccc9-4376-f857-cce65246c64c"
      },
      "source": [
        "A=Matrix(((1*l,0,0),(1,a*l,a**2),(1,b,b**2*l)))\n",
        "B=Matrix(((1,-1,1),(1,1,-1)))\n",
        "V= Matrix((( (a11,a12) , (2,3)   , (4,6) )))\n",
        "V\n"
      ],
      "execution_count": null,
      "outputs": [
        {
          "output_type": "execute_result",
          "data": {
            "text/plain": [
              "⎡a₁₁  a₁₂⎤\n",
              "⎢        ⎥\n",
              "⎢ 2    3 ⎥\n",
              "⎢        ⎥\n",
              "⎣ 4    6 ⎦"
            ],
            "text/latex": "$\\displaystyle \\left[\\begin{matrix}a_{11} & a_{12}\\\\2 & 3\\\\4 & 6\\end{matrix}\\right]$"
          },
          "metadata": {},
          "execution_count": 3
        }
      ]
    },
    {
      "cell_type": "markdown",
      "source": [
        "### Matrices de pauli"
      ],
      "metadata": {
        "id": "4Vf1Gq-w7EVQ"
      }
    },
    {
      "cell_type": "code",
      "metadata": {
        "id": "Uc31eLwXac7N"
      },
      "source": [
        "sx=Matrix(((0,1),(1,0)))\n",
        "sy=Matrix(((0,-1*I),(1*I,0)))\n",
        "sz=Matrix(((1,0),(0,-1)))"
      ],
      "execution_count": 7,
      "outputs": []
    },
    {
      "cell_type": "code",
      "source": [
        "-sy*(1*I)"
      ],
      "metadata": {
        "colab": {
          "base_uri": "https://localhost:8080/",
          "height": 58
        },
        "id": "BTV0cyJN7v3k",
        "outputId": "8c0ddf4d-e188-4e78-d575-39ffc9ff7a67"
      },
      "execution_count": 13,
      "outputs": [
        {
          "output_type": "execute_result",
          "data": {
            "text/plain": [
              "⎡0  -1⎤\n",
              "⎢     ⎥\n",
              "⎣1  0 ⎦"
            ],
            "text/latex": "$\\displaystyle \\left[\\begin{matrix}0 & -1\\\\1 & 0\\end{matrix}\\right]$"
          },
          "metadata": {},
          "execution_count": 13
        }
      ]
    },
    {
      "cell_type": "code",
      "metadata": {
        "colab": {
          "base_uri": "https://localhost:8080/",
          "height": 58
        },
        "id": "hy-I31Laac7N",
        "outputId": "c3857586-4edf-40e8-8230-5109d1ee03c6"
      },
      "source": [
        "sx*sz"
      ],
      "execution_count": 12,
      "outputs": [
        {
          "output_type": "execute_result",
          "data": {
            "text/plain": [
              "⎡0  -1⎤\n",
              "⎢     ⎥\n",
              "⎣1  0 ⎦"
            ],
            "text/latex": "$\\displaystyle \\left[\\begin{matrix}0 & -1\\\\1 & 0\\end{matrix}\\right]$"
          },
          "metadata": {},
          "execution_count": 12
        }
      ]
    },
    {
      "cell_type": "code",
      "metadata": {
        "id": "vtHUEbhiac7O",
        "outputId": "9bab2a45-ea54-426a-f7f8-3b3cefccdba3",
        "colab": {
          "base_uri": "https://localhost:8080/",
          "height": 58
        }
      },
      "source": [
        "v=Matrix((1,0))\n",
        "sx*v"
      ],
      "execution_count": 19,
      "outputs": [
        {
          "output_type": "execute_result",
          "data": {
            "text/plain": [
              "⎡0⎤\n",
              "⎢ ⎥\n",
              "⎣1⎦"
            ],
            "text/latex": "$\\displaystyle \\left[\\begin{matrix}0\\\\1\\end{matrix}\\right]$"
          },
          "metadata": {},
          "execution_count": 19
        }
      ]
    },
    {
      "cell_type": "code",
      "metadata": {
        "id": "ao2GcCSOac7P",
        "colab": {
          "base_uri": "https://localhost:8080/",
          "height": 58
        },
        "outputId": "a7f4c550-0947-4355-9fc3-86e0fe6bfd13"
      },
      "source": [
        "E=Matrix(((1/np.sqrt(2),1/np.sqrt(2)),(-1/np.sqrt(2),1/np.sqrt(2)))) \n",
        "E"
      ],
      "execution_count": null,
      "outputs": [
        {
          "output_type": "execute_result",
          "data": {
            "text/plain": [
              "⎡0.707106781186547   0.707106781186547⎤\n",
              "⎢                                     ⎥\n",
              "⎣-0.707106781186547  0.707106781186547⎦"
            ],
            "text/latex": "$\\displaystyle \\left[\\begin{matrix}0.707106781186547 & 0.707106781186547\\\\-0.707106781186547 & 0.707106781186547\\end{matrix}\\right]$"
          },
          "metadata": {},
          "execution_count": 33
        }
      ]
    },
    {
      "cell_type": "code",
      "source": [
        "E.eigenvects()"
      ],
      "metadata": {
        "colab": {
          "base_uri": "https://localhost:8080/",
          "height": 58
        },
        "id": "nehvy9tkA5Ek",
        "outputId": "63dd4dee-ac82-48b0-9ba1-7be98e2fae22"
      },
      "execution_count": null,
      "outputs": [
        {
          "output_type": "execute_result",
          "data": {
            "text/plain": [
              "⎡⎛                                            ⎡⎡-0.707106781186548⋅ⅈ⎤⎤⎞  ⎛    \n",
              "⎢⎜0.707106781186547 - 0.707106781186547⋅ⅈ, 1, ⎢⎢                    ⎥⎥⎟, ⎜0.70\n",
              "⎣⎝                                            ⎣⎣ -0.707106781186548 ⎦⎦⎠  ⎝    \n",
              "\n",
              "                                        ⎡⎡ 0.707106781186548 ⎤⎤⎞⎤\n",
              "7106781186547 + 0.707106781186547⋅ⅈ, 1, ⎢⎢                   ⎥⎥⎟⎥\n",
              "                                        ⎣⎣0.707106781186548⋅ⅈ⎦⎦⎠⎦"
            ],
            "text/latex": "$\\displaystyle \\left[ \\left( 0.707106781186547 - 0.707106781186547 i, \\  1, \\  \\left[ \\left[\\begin{matrix}- 0.707106781186548 i\\\\-0.707106781186548\\end{matrix}\\right]\\right]\\right), \\  \\left( 0.707106781186547 + 0.707106781186547 i, \\  1, \\  \\left[ \\left[\\begin{matrix}0.707106781186548\\\\0.707106781186548 i\\end{matrix}\\right]\\right]\\right)\\right]$"
          },
          "metadata": {},
          "execution_count": 34
        }
      ]
    },
    {
      "cell_type": "code",
      "source": [
        "E.eigenvects()"
      ],
      "metadata": {
        "colab": {
          "base_uri": "https://localhost:8080/",
          "height": 58
        },
        "id": "LwczeQz8FQs-",
        "outputId": "8c1e5479-053c-4da8-89ca-3c48d68aa22b"
      },
      "execution_count": null,
      "outputs": [
        {
          "output_type": "execute_result",
          "data": {
            "text/plain": [
              "⎡⎛                                            ⎡⎡-0.707106781186548⋅ⅈ⎤⎤⎞  ⎛    \n",
              "⎢⎜0.707106781186547 - 0.707106781186547⋅ⅈ, 1, ⎢⎢                    ⎥⎥⎟, ⎜0.70\n",
              "⎣⎝                                            ⎣⎣ -0.707106781186548 ⎦⎦⎠  ⎝    \n",
              "\n",
              "                                        ⎡⎡ 0.707106781186548 ⎤⎤⎞⎤\n",
              "7106781186547 + 0.707106781186547⋅ⅈ, 1, ⎢⎢                   ⎥⎥⎟⎥\n",
              "                                        ⎣⎣0.707106781186548⋅ⅈ⎦⎦⎠⎦"
            ],
            "text/latex": "$\\displaystyle \\left[ \\left( 0.707106781186547 - 0.707106781186547 i, \\  1, \\  \\left[ \\left[\\begin{matrix}- 0.707106781186548 i\\\\-0.707106781186548\\end{matrix}\\right]\\right]\\right), \\  \\left( 0.707106781186547 + 0.707106781186547 i, \\  1, \\  \\left[ \\left[\\begin{matrix}0.707106781186548\\\\0.707106781186548 i\\end{matrix}\\right]\\right]\\right)\\right]$"
          },
          "metadata": {},
          "execution_count": 36
        }
      ]
    },
    {
      "cell_type": "code",
      "metadata": {
        "id": "yShYDEwBac7R"
      },
      "source": [
        "v1=E.eigenvects()[0][2][0]\n",
        "v2=E.eigenvects()[1][2][0]"
      ],
      "execution_count": null,
      "outputs": []
    },
    {
      "cell_type": "code",
      "metadata": {
        "id": "n5Ym8PikawIX"
      },
      "source": [
        "V1=Transpose(v1)\n",
        "V2=Transpose(v2)"
      ],
      "execution_count": null,
      "outputs": []
    },
    {
      "cell_type": "code",
      "metadata": {
        "id": "gM2awAlxac7T",
        "colab": {
          "base_uri": "https://localhost:8080/",
          "height": 58
        },
        "outputId": "bee179bf-90ed-46aa-efaa-b76406853a7f"
      },
      "source": [
        "(E.eigenvects()[0][0]*v1*V1 + E.eigenvects()[1][0]*v2*V2"
      ],
      "execution_count": null,
      "outputs": [
        {
          "output_type": "execute_result",
          "data": {
            "text/plain": [
              "⎡-0.653281482438188 - 0.653281482438188⋅ⅈ  0.270598050073098 + 0.2705980500730\n",
              "⎢                                                                             \n",
              "⎣-0.270598050073098 + 0.270598050073098⋅ⅈ  -0.653281482438188 + 0.653281482438\n",
              "\n",
              "98⋅ⅈ ⎤\n",
              "     ⎥\n",
              "188⋅ⅈ⎦"
            ],
            "text/latex": "$\\displaystyle \\left[\\begin{matrix}-0.653281482438188 - 0.653281482438188 i & 0.270598050073098 + 0.270598050073098 i\\\\-0.270598050073098 + 0.270598050073098 i & -0.653281482438188 + 0.653281482438188 i\\end{matrix}\\right]$"
          },
          "metadata": {},
          "execution_count": 43
        }
      ]
    },
    {
      "cell_type": "code",
      "source": [
        "E.eigenvects()[0][0]"
      ],
      "metadata": {
        "colab": {
          "base_uri": "https://localhost:8080/",
          "height": 39
        },
        "id": "Ri0L7n5JAy-C",
        "outputId": "3dc52eee-6328-452e-f472-914441de2817"
      },
      "execution_count": null,
      "outputs": [
        {
          "output_type": "execute_result",
          "data": {
            "text/plain": [
              "0.707106781186547 - 0.707106781186547⋅ⅈ"
            ],
            "text/latex": "$\\displaystyle 0.707106781186547 - 0.707106781186547 i$"
          },
          "metadata": {},
          "execution_count": 41
        }
      ]
    },
    {
      "cell_type": "code",
      "source": [],
      "metadata": {
        "id": "6aOowis3Fmp-"
      },
      "execution_count": null,
      "outputs": []
    }
  ]
}