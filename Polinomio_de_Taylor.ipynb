{
  "cells": [
    {
      "cell_type": "markdown",
      "metadata": {
        "id": "view-in-github",
        "colab_type": "text"
      },
      "source": [
        "<a href=\"https://colab.research.google.com/github/ADerudder/Matematica/blob/main/Polinomio_de_Taylor.ipynb\" target=\"_parent\"><img src=\"https://colab.research.google.com/assets/colab-badge.svg\" alt=\"Open In Colab\"/></a>"
      ]
    },
    {
      "cell_type": "markdown",
      "metadata": {
        "id": "AK5h8_luNrTn"
      },
      "source": [
        "# Polinomio de Taylor"
      ]
    },
    {
      "cell_type": "markdown",
      "metadata": {
        "id": "Tj-dD2IJNrTq"
      },
      "source": [
        "## *Polinomio de Taylor en 2 variables : Teoría*\n",
        "\n",
        "###   Orden 1:\n",
        "\n",
        "\n",
        "$$P_{1}(x,y) = f(a,b) + f_{x}(a,b) . (x-a) + f_{y} (a,b) . (y-b) $$\n",
        "\n",
        "##### Observación: \n",
        "\n",
        "Es el plano tangente a la función en (a,b). \n",
        "\n",
        "\n",
        "\n",
        "###   Orden 2:\n",
        "\n",
        "$$P_{2}(x,y) = f(a,b) + f_{x}(a,b) . (x-a) + f_{y} (a,b) . (y-b) + \\frac{1}{2} . f_{xx}(a,b) . (x-a)^{2} + f_{xy}(a,b) . (x-a).(y-b) +   f_{yy}(a,b) . (y-b)^{2} $$\n",
        "\n"
      ]
    },
    {
      "cell_type": "code",
      "execution_count": null,
      "metadata": {
        "id": "9ihM_rSiNrTr",
        "outputId": "706b725c-9749-4c48-dbaa-ebf129079782"
      },
      "outputs": [
        {
          "name": "stdout",
          "output_type": "stream",
          "text": [
            "IPython console for SymPy 1.6.1 (Python 3.8.3-64-bit) (ground types: gmpy)\n",
            "\n",
            "These commands were executed:\n",
            ">>> from __future__ import division\n",
            ">>> from sympy import *\n",
            ">>> x, y, z, t = symbols('x y z t')\n",
            ">>> k, m, n = symbols('k m n', integer=True)\n",
            ">>> f, g, h = symbols('f g h', cls=Function)\n",
            ">>> init_printing()\n",
            "\n",
            "Documentation can be found at https://docs.sympy.org/1.6.1/\n",
            "\n"
          ]
        }
      ],
      "source": [
        "from sympy import init_session\n",
        "init_session(use_latex=True)"
      ]
    },
    {
      "cell_type": "code",
      "execution_count": null,
      "metadata": {
        "id": "K_Shlj0qNrTt"
      },
      "outputs": [],
      "source": [
        "#Importamos los simbolos\n",
        "a, b ,c, x, y, z, t, alpha ,e = symbols('a b c x y z t alpha epsilon')\n",
        "f, g, h = symbols('f g h', cls=Function)"
      ]
    },
    {
      "cell_type": "markdown",
      "metadata": {
        "id": "wFsYqoRpNrTt"
      },
      "source": [
        "## Completar\n",
        "\n",
        "* f(x,y) → función a la que le queremos calcular el taylor\n",
        "* (a,b)  → puntos en donde el polinomio está centrado en (x,y)\n",
        "* *Observacion:* Si ponemos una f(x) tambien funciona y calcula el polinomio en una variable"
      ]
    },
    {
      "cell_type": "code",
      "execution_count": null,
      "metadata": {
        "id": "XHAPxuujNrTu"
      },
      "outputs": [],
      "source": [
        "f= sqrt(1+2*a*x + x**2 /b)\n",
        "a=0\n",
        "b=0\n"
      ]
    },
    {
      "cell_type": "markdown",
      "metadata": {
        "id": "kfr7Ti8ENrTu"
      },
      "source": [
        "$$ f(x,y)= $$"
      ]
    },
    {
      "cell_type": "code",
      "execution_count": null,
      "metadata": {
        "id": "0oKIqsKeNrTv",
        "outputId": "e6999abe-ece7-4314-87fb-937c7764f7af"
      },
      "outputs": [
        {
          "data": {
            "image/png": "[encoded data removed]",
            "text/latex": [
              "$\\displaystyle \\sqrt{2 a x + 1 + \\frac{x^{2}}{b}}$"
            ],
            "text/plain": [
              "     ________________\n",
              "    ╱              2 \n",
              "   ╱              x  \n",
              "  ╱   2⋅a⋅x + 1 + ── \n",
              "╲╱                b  "
            ]
          },
          "execution_count": 15,
          "metadata": {},
          "output_type": "execute_result"
        }
      ],
      "source": [
        "f"
      ]
    },
    {
      "cell_type": "code",
      "execution_count": null,
      "metadata": {
        "id": "78VWIgAsNrTv"
      },
      "outputs": [],
      "source": [
        "fx=f.diff(x)\n",
        "fy=f.diff(y)\n",
        "fxx=f.diff(x,2)\n",
        "fyy=f.diff(y,2)\n",
        "fxy=fyx=fx.diff(y)\n",
        "\n",
        "#f(a,b):\n",
        "fs=f.subs(x,a)\n",
        "fss=fs.subs(y,b)\n",
        "\n",
        "#fx(a,b):\n",
        "fxs=fx.subs(x,a)\n",
        "fxss=fxs.subs(y,b)\n",
        "\n",
        "#fy(a,b)\n",
        "fys=fy.subs(x,a)\n",
        "fyss=fys.subs(y,b)\n",
        "\n",
        "#fxx(a,b):\n",
        "fxxs=fxx.subs(x,a)\n",
        "fxxss=fxxs.subs(y,b)\n",
        "\n",
        "#fyy(a,b):\n",
        "fyys=fyy.subs(x,a)\n",
        "fyyss=fyys.subs(y,b)\n",
        "\n",
        "#fxy(a,b):\n",
        "fxys=fxy.subs(x,a)\n",
        "fxyss=fxys.subs(y,b)\n",
        "\n",
        "#Polinomio orden 1\n",
        "P1=g=fss + fxss*(x-a) + fyss*(y-b)\n",
        "\n",
        "#Polinomio orden 2 \n",
        "\n",
        "P2=fss + fxss*(x-a) + fyss*(y-b) +1/2 * fxxss*(x-a)**2 + fxyss*(x-a)*(y-b) + 1/2 * fyyss*(y-b)**2\n"
      ]
    },
    {
      "cell_type": "markdown",
      "metadata": {
        "id": "f44QI04-NrTw"
      },
      "source": [
        "El polinomio tendra el formato:\n",
        "\n",
        "$$ z = a.x + b.y + c $$"
      ]
    },
    {
      "cell_type": "markdown",
      "metadata": {
        "id": "LN3uTy84NrTw"
      },
      "source": [
        "$$ P_{1}(x,y) = $$"
      ]
    },
    {
      "cell_type": "code",
      "execution_count": null,
      "metadata": {
        "scrolled": false,
        "id": "fdfCf3KqNrTw",
        "outputId": "0f3df58d-22b7-4804-d6aa-d1a8c889005a"
      },
      "outputs": [
        {
          "data": {
            "image/png": "[encoded data removed]",
            "text/latex": [
              "$\\displaystyle a x + 1$"
            ],
            "text/plain": [
              "a⋅x + 1"
            ]
          },
          "execution_count": 17,
          "metadata": {},
          "output_type": "execute_result"
        }
      ],
      "source": [
        "P1"
      ]
    },
    {
      "cell_type": "markdown",
      "metadata": {
        "id": "oSe4-OdbNrTx"
      },
      "source": [
        "$$ P_{2}(x,y)= $$"
      ]
    },
    {
      "cell_type": "code",
      "execution_count": null,
      "metadata": {
        "id": "Q3MaEXizNrTx",
        "outputId": "093f0dd8-a589-40e7-c58f-4e4c253e322c"
      },
      "outputs": [
        {
          "data": {
            "image/png": "[encoded data removed]",
            "text/latex": [
              "$\\displaystyle a x + x^{2} \\left(- 0.5 a^{2} + \\frac{0.5}{b}\\right) + 1$"
            ],
            "text/plain": [
              "       2 ⎛       2   0.5⎞    \n",
              "a⋅x + x ⋅⎜- 0.5⋅a  + ───⎟ + 1\n",
              "         ⎝            b ⎠    "
            ]
          },
          "execution_count": 18,
          "metadata": {},
          "output_type": "execute_result"
        }
      ],
      "source": [
        "P2\n"
      ]
    },
    {
      "cell_type": "code",
      "execution_count": null,
      "metadata": {
        "id": "uxUuMXM6NrTx",
        "outputId": "3dc65e98-dcfa-46d7-d545-ff2745b42fc7"
      },
      "outputs": [
        {
          "data": {
            "image/png": "[encoded data removed]",
            "text/latex": [
              "$\\displaystyle \\frac{b \\left(a x + 1\\right) + 0.5 x^{2} \\left(- a^{2} b + 1\\right)}{b}$"
            ],
            "text/plain": [
              "                   2 ⎛   2      ⎞\n",
              "b⋅(a⋅x + 1) + 0.5⋅x ⋅⎝- a ⋅b + 1⎠\n",
              "─────────────────────────────────\n",
              "                b                "
            ]
          },
          "execution_count": 19,
          "metadata": {},
          "output_type": "execute_result"
        }
      ],
      "source": [
        "simplify(P2)"
      ]
    },
    {
      "cell_type": "code",
      "execution_count": null,
      "metadata": {
        "id": "P7BEZG8KNrTx",
        "outputId": "7de074c2-442b-4731-ad86-9f37555f02fd"
      },
      "outputs": [
        {
          "data": {
            "image/png": "[encoded data removed]",
            "text/latex": [
              "$\\displaystyle - \\frac{0.125 \\left(x - 0.666666666666667 \\pi\\right)^{2} \\left(2 \\cos{\\left(0.666666666666667 \\pi \\right)} + \\frac{\\sin^{2}{\\left(0.666666666666667 \\pi \\right)}}{\\cos{\\left(0.666666666666667 \\pi \\right)} + 2}\\right)}{\\sqrt{\\cos{\\left(0.666666666666667 \\pi \\right)} + 2}} - \\frac{\\left(x - 0.666666666666667 \\pi\\right) \\sin{\\left(0.666666666666667 \\pi \\right)}}{2 \\sqrt{\\cos{\\left(0.666666666666667 \\pi \\right)} + 2}} + \\sqrt{\\cos{\\left(0.666666666666667 \\pi \\right)} + 2}$"
            ],
            "text/plain": [
              "                                   ⎛                                 2        \n",
              "                                 2 ⎜                              sin (0.66666\n",
              "  0.125⋅(x - 0.666666666666667⋅π) ⋅⎜2⋅cos(0.666666666666667⋅π) + ─────────────\n",
              "                                   ⎝                             cos(0.6666666\n",
              "- ────────────────────────────────────────────────────────────────────────────\n",
              "                                  ______________________________              \n",
              "                                ╲╱ cos(0.666666666666667⋅π) + 2               \n",
              "\n",
              "               ⎞                                                              \n",
              "6666666667⋅π)  ⎟                                                              \n",
              "───────────────⎟                                                              \n",
              "66666667⋅π) + 2⎠   (x - 0.666666666666667⋅π)⋅sin(0.666666666666667⋅π)     ____\n",
              "──────────────── - ────────────────────────────────────────────────── + ╲╱ cos\n",
              "                               ______________________________                 \n",
              "                           2⋅╲╱ cos(0.666666666666667⋅π) + 2                  \n",
              "\n",
              "                          \n",
              "                          \n",
              "                          \n",
              "__________________________\n",
              "(0.666666666666667⋅π) + 2 \n",
              "                          \n",
              "                          "
            ]
          },
          "execution_count": 9,
          "metadata": {},
          "output_type": "execute_result"
        }
      ],
      "source": [
        "P2"
      ]
    },
    {
      "cell_type": "code",
      "execution_count": null,
      "metadata": {
        "id": "xRHep5ZKNrTx"
      },
      "outputs": [],
      "source": []
    }
  ],
  "metadata": {
    "kernelspec": {
      "display_name": "Python 3",
      "language": "python",
      "name": "python3"
    },
    "language_info": {
      "codemirror_mode": {
        "name": "ipython",
        "version": 3
      },
      "file_extension": ".py",
      "mimetype": "text/x-python",
      "name": "python",
      "nbconvert_exporter": "python",
      "pygments_lexer": "ipython3",
      "version": "3.8.3"
    },
    "colab": {
      "provenance": [],
      "include_colab_link": true
    }
  },
  "nbformat": 4,
  "nbformat_minor": 0
}